{
 "cells": [
  {
   "cell_type": "markdown",
   "metadata": {
    "colab_type": "text",
    "id": "M8uYbm1KXMfL"
   },
   "source": [
    "# How to git gud\n"
   ]
  },
  {
   "cell_type": "markdown",
   "metadata": {
    "colab_type": "text",
    "id": "AeS4-8hvXQ5z"
   },
   "source": [
    "**Disclaimer:** You are not expected to have any experience in coding for this notebook. If you are unsure about how to approach a problem, feel free to ask us! The most important thing when learning how to code is learning how to approach problems. Google is an amazing resource, but just like Chegg, it's important to understand the answer instead of just copying it. Please refer to the introductory slides for some of the syntax and definitions used here.\n",
    "\n",
    "And lastly: No matter how much coding experience you get, there will *always* be something that you need to look up to figure out how to do. So learn well how to search for answers!"
   ]
  },
  {
   "cell_type": "markdown",
   "metadata": {
    "colab_type": "text",
    "id": "jX8VQFUmegzf"
   },
   "source": [
    "# Python Basics I"
   ]
  },
  {
   "cell_type": "markdown",
   "metadata": {
    "colab_type": "text",
    "id": "BfHcbryxerCe"
   },
   "source": [
    "## 1. Hello World"
   ]
  },
  {
   "cell_type": "markdown",
   "metadata": {
    "colab_type": "text",
    "id": "zmiHFyGqeyvT"
   },
   "source": [
    "Print the string \"Hello world\""
   ]
  },
  {
   "cell_type": "code",
   "execution_count": null,
   "metadata": {
    "colab": {
     "base_uri": "https://localhost:8080/",
     "height": 35
    },
    "colab_type": "code",
    "id": "Pk5ezXn6YTnk",
    "outputId": "f91ef145-7a45-43d6-b1ee-e145c3813d86"
   },
   "outputs": [],
   "source": []
  },
  {
   "cell_type": "markdown",
   "metadata": {
    "colab_type": "text",
    "id": "nDtNb1Ai4ubf"
   },
   "source": [
    "For quick documentation on a function, use the ```help()``` function. This will return some basic explanation of the function inside ```help()```, how to use it and what its input parameters are. \n",
    "\n",
    "Use the ```help()``` function on ```print()```. Note: don't use the parenthesis () for the function inside of ```help()```."
   ]
  },
  {
   "cell_type": "code",
   "execution_count": null,
   "metadata": {
    "colab": {
     "base_uri": "https://localhost:8080/",
     "height": 233
    },
    "colab_type": "code",
    "id": "eH2zCB_ZHcBm",
    "outputId": "201d3e28-f884-439b-c0a6-0b22518b948b"
   },
   "outputs": [],
   "source": []
  },
  {
   "cell_type": "markdown",
   "metadata": {
    "colab_type": "text",
    "id": "yzX3ZVgAKKOW"
   },
   "source": [
    "## 2. Data Types"
   ]
  },
  {
   "cell_type": "markdown",
   "metadata": {
    "colab_type": "text",
    "id": "C7sliYmtKQtn"
   },
   "source": [
    "Data types are labels for the kinds of things that coding works with.\n",
    "Run the cell below to see what data types correspond with what."
   ]
  },
  {
   "cell_type": "code",
   "execution_count": null,
   "metadata": {
    "colab": {
     "base_uri": "https://localhost:8080/",
     "height": 161
    },
    "colab_type": "code",
    "id": "Y2sXIZc6KpuJ",
    "outputId": "86546b48-13ff-4b0a-87e9-cab925c63dcd"
   },
   "outputs": [],
   "source": [
    "# This is a comment, ignored by the program.\n",
    "# Here, we get the type of the object and then print the result.\n",
    "print( type(  'hello'                ) )   # string     -  str\n",
    "print( type(  'a'                    ) )   # string     -  str\n",
    "print( type(  1                      ) )   # integer    -  int\n",
    "print( type(  1.0                    ) )   # float      -  flt\n",
    "print( type(  [1.0, 9, 'a', 'hello'] ) )   # list       -  list\n",
    "print( type(  {1.0:'hello', 9:'a'}   ) )   # dictionary -  dict\n",
    "print( type(  True                   ) )   # boolean    -  bool\n",
    "print( type(  (2, 3)                 ) )   # tuple      -  tuple\n",
    "\n",
    "# Notice that spaces don't affect anything here.\n",
    "# Try to make your code look neat when you can!"
   ]
  },
  {
   "cell_type": "markdown",
   "metadata": {
    "colab_type": "text",
    "id": "LQq7azzkE_ni"
   },
   "source": [
    "### Casting"
   ]
  },
  {
   "cell_type": "markdown",
   "metadata": {
    "colab_type": "text",
    "id": "zTNcP6umFObK"
   },
   "source": [
    "Casting a variable to a different data type means converting it from one data type to another. For example, we can cast the float 2.0 as an integer 2.\n",
    "\n",
    "To cast a variable to another data type use the form: desired_data_type(variable_to_cast)\n",
    "\n",
    "> Ex: ```int(2.0)``` becomes ```2```"
   ]
  },
  {
   "cell_type": "markdown",
   "metadata": {
    "colab_type": "text",
    "id": "BqBv6HSCGEmV"
   },
   "source": [
    "Try the following: Cast...\n",
    "\n",
    "1.   2.2 and 2.8 to an integer. What do you notice about the result?\n",
    "2.   the string 'hello' to a float. What about the string '3.14'?\n",
    "3.   an integer and a float to a string.\n",
    "4.   a string to a list. How about an integer or float to a list?\n",
    "5.   a dictionary to a list. How about a list to a dictionary (this one is weird, but possible)?\n",
    "6.   Explore any other options for casting.\n",
    "\n",
    "Casting isn't always obvious, so make sure you know what it's doing to your variable if you use it."
   ]
  },
  {
   "cell_type": "code",
   "execution_count": null,
   "metadata": {
    "colab": {
     "base_uri": "https://localhost:8080/",
     "height": 179
    },
    "colab_type": "code",
    "id": "m6bva3WQGQpC",
    "outputId": "188c91e4-1529-4f9b-b115-651594bfcf73"
   },
   "outputs": [],
   "source": []
  },
  {
   "cell_type": "markdown",
   "metadata": {
    "colab_type": "text",
    "id": "kfbs1id-YU-N"
   },
   "source": [
    "## 3. Basic Algebra"
   ]
  },
  {
   "cell_type": "markdown",
   "metadata": {
    "colab_type": "text",
    "id": "S_ONnuHOJHIJ"
   },
   "source": [
    "### Naming Conventions"
   ]
  },
  {
   "cell_type": "markdown",
   "metadata": {
    "colab_type": "text",
    "id": "x3IjyKVtJS8s"
   },
   "source": [
    "Whenever you define a variable or a function, you must assign a name to it. In Python, there are names that cannot be accepted.\n",
    "\n",
    "Rules:\n",
    "\n",
    "*   Names must begin with a letter or underscore '_'\n",
    "*   Other characters can be letters, numbers, or underscore\n",
    "\n",
    "There are also conventions to make your code easier to understand:\n",
    "\n",
    "*   Choose meaningful names: *dice_roll* vs *dr*\n",
    "*   Reasonable length: *series_sum* vs *the_sum_of_the_series*\n",
    "*   Be consistent in style: *DiceRoll*, *dice_roll*, *DICE_ROLL*, etc.\n",
    "\n",
    "**WARNING**: Avoid naming a variable or function that is already the name of another common function. For example: int = 2, sum = 50, print = 'hello', etc. If this ever happens, restart the runtime: *Runtime* -> *Restart runtime...*\n",
    "\n"
   ]
  },
  {
   "cell_type": "markdown",
   "metadata": {
    "colab_type": "text",
    "id": "xeOgFTgGGmwY"
   },
   "source": [
    "### Defining Variables"
   ]
  },
  {
   "cell_type": "markdown",
   "metadata": {
    "colab_type": "text",
    "id": "vFkelWMBYf32"
   },
   "source": [
    "Define two integers *a* and *b*, and give them whatever value you want. Print the variables."
   ]
  },
  {
   "cell_type": "code",
   "execution_count": null,
   "metadata": {
    "colab": {
     "base_uri": "https://localhost:8080/",
     "height": 53
    },
    "colab_type": "code",
    "id": "hubKOodsYpPx",
    "outputId": "b3db75d7-c634-42ca-c866-71c356c484f9"
   },
   "outputs": [],
   "source": []
  },
  {
   "cell_type": "markdown",
   "metadata": {
    "colab_type": "text",
    "id": "jRuUspXOGpSH"
   },
   "source": [
    "### Mathematical Operations"
   ]
  },
  {
   "cell_type": "markdown",
   "metadata": {
    "colab_type": "text",
    "id": "f9M84IEwYpzj"
   },
   "source": [
    "Now try the following mathematical operations:\n",
    "\n",
    "\n",
    "1.   Addition/Subtraction\n",
    "2.   Multiplication/Division\n",
    "3.   Raise *a* to the third power\n",
    "4.   Find the square root of *b*\n",
    "5.   Raise *a* to the *b*th power\n",
    "6.   The remainder when a is divided by b (and when b is divided by a)\n",
    "7.   Try combinations; explore!\n",
    "\n"
   ]
  },
  {
   "cell_type": "code",
   "execution_count": null,
   "metadata": {
    "colab": {
     "base_uri": "https://localhost:8080/",
     "height": 125
    },
    "colab_type": "code",
    "id": "v70TzKuIZSag",
    "outputId": "e213bd22-f21d-4b2e-a634-b37ee404c8f3"
   },
   "outputs": [],
   "source": []
  },
  {
   "cell_type": "markdown",
   "metadata": {
    "colab_type": "text",
    "id": "aUKX2cwXZzqR"
   },
   "source": [
    "Try the following:\n",
    "1. Multiply a string and an integer\n",
    "2. Add a string and an integer\n",
    "3. Divide a float by an integer and an integer by a float\n",
    "4. Add two strings together\n",
    "5. Multiply two strings together\n",
    "6. Experiment with mathematics on more mixtures of data types "
   ]
  },
  {
   "cell_type": "code",
   "execution_count": null,
   "metadata": {
    "colab": {
     "base_uri": "https://localhost:8080/",
     "height": 89
    },
    "colab_type": "code",
    "id": "XD2VzCskaUtl",
    "outputId": "0bf88213-65fa-4515-fc83-36e55e4eb72b"
   },
   "outputs": [],
   "source": []
  },
  {
   "cell_type": "markdown",
   "metadata": {
    "colab_type": "text",
    "id": "HsgfxIxgrPtn"
   },
   "source": [
    "## 4. Tuples, Lists, and Dictionaries"
   ]
  },
  {
   "cell_type": "markdown",
   "metadata": {
    "colab_type": "text",
    "id": "1s_i19J9r06x"
   },
   "source": [
    "We can group together different elements using data types such as dictionaries, tuples and lists."
   ]
  },
  {
   "cell_type": "markdown",
   "metadata": {
    "colab_type": "text",
    "id": "CCL5ycojOB-Z"
   },
   "source": [
    "### Indexing"
   ]
  },
  {
   "cell_type": "markdown",
   "metadata": {
    "colab_type": "text",
    "id": "_Oq929X4OFU-"
   },
   "source": [
    "With a group of elements, we need a way to access them easily. We use square brackets to access the elements of a group. \n",
    "\n",
    "If I have a variable called 'group' and it is equal to a group of elements, then we can call the first element using 'group[0]'. Note that indexing begins at 0, not at 1. So the second element is 'group[1]'.\n",
    "Whenever we want to call a range of elements in the group, we use \":\" inside the square brackets: \n",
    "\n",
    "[:3] means everything up to the fourth element \n",
    "\n",
    "[1:] means everything after the second element\n",
    "\n",
    "[1:3] means everything between the second and fourth elements\n",
    "\n",
    "If you have a group of groups, you use multiple brackets:\n",
    "\n",
    "groups[0][1:3] means the second through fourth elements of the first group"
   ]
  },
  {
   "cell_type": "markdown",
   "metadata": {
    "colab_type": "text",
    "id": "B5qE7N5uA4dJ"
   },
   "source": [
    "### Tuples"
   ]
  },
  {
   "cell_type": "markdown",
   "metadata": {
    "colab_type": "text",
    "id": "Z35-x_63M52r"
   },
   "source": [
    "A tuple is defined using parenthesis () and has fixed elements.\n",
    "\n",
    "Define a tuple with 4 elements. Then do the following:\n",
    "\n",
    "1. Print the tuple\n",
    "2. Print the first element\n",
    "3. Print elements 2-4\n",
    "4. Set the second element equal to 5 (this doesn't work. Why?)\n",
    "5. Try to print an element with an index greater than the size of the tuple (this also doesn't work. Why?)\n",
    "6. What if you set that 'out-of-range' element equal to some value?\n",
    "7. Explore anything else you can think of"
   ]
  },
  {
   "cell_type": "code",
   "execution_count": null,
   "metadata": {
    "colab": {
     "base_uri": "https://localhost:8080/",
     "height": 71
    },
    "colab_type": "code",
    "id": "W81xsqmHrW-P",
    "outputId": "7b560752-5e0a-4c95-c815-3adcf832f811"
   },
   "outputs": [],
   "source": []
  },
  {
   "cell_type": "markdown",
   "metadata": {
    "colab_type": "text",
    "id": "mpoVpSUkA6wz"
   },
   "source": [
    "### Lists"
   ]
  },
  {
   "cell_type": "markdown",
   "metadata": {
    "colab_type": "text",
    "id": "t9ziCga3WoG_"
   },
   "source": [
    "Lists are defined using square brackets [ ]. They are adjustable in length by appending (adding) elements to it and adjustable in the content.\n",
    "\n",
    "Define a list of 5 elements, each of a different data type. Then do the following:\n",
    "\n",
    "1. Print the list\n",
    "2. Print the first element\n",
    "3. Set the first element equal to 100 then print the list\n",
    "4. Print elements 2-4\n",
    "5. Can you set elements 2-4 equal to 100 the same way you did in step 3? Try it.\n",
    "6. Append the string \"hello\" to the list then print the list (Hint: lists have methods (functions) associated with them. If you have some list called ```my_list```, you can access its ```append()``` method with ```my_list.append()```)\n",
    "7. Append a list and print the result\n",
    "8. Multiply the list by an integer and print the result\n",
    "9. Define another list and mathematically add the lists together\n",
    "10. Explore anything else you can think of"
   ]
  },
  {
   "cell_type": "code",
   "execution_count": null,
   "metadata": {
    "colab": {
     "base_uri": "https://localhost:8080/",
     "height": 143
    },
    "colab_type": "code",
    "id": "Vb83lArIYiWI",
    "outputId": "d59b6cc3-ef35-42bc-84f5-374544140d20"
   },
   "outputs": [],
   "source": []
  },
  {
   "cell_type": "markdown",
   "metadata": {
    "colab_type": "text",
    "id": "R29JC3O1ApTQ"
   },
   "source": [
    "### Dictionaries"
   ]
  },
  {
   "cell_type": "markdown",
   "metadata": {
    "colab_type": "text",
    "id": "z5PWuF7wQbhc"
   },
   "source": [
    "The normal indexing is not the same for dictionaries. Dictionaries are a list of 'items' which are pairs of 'keys' and 'values'. These can be any data type. To access an item, you put the key inside of the square brackets. To define a dictionary we use curly braces {} and each item is separated by a colon. \n",
    "For example: \n",
    "\n",
    "```my_dict = {\"apple\":2, \"banana\":\"healthy\", 3.14:\"pi\"}```\n",
    "\n",
    "> ```print(my_dict[\"apple\"])``` will print 2\n",
    "\n",
    "> ```print(my_dict[\"banana\"])``` will print \"healthy\"\n",
    "\n",
    "> ```print(my_dict[3.14])``` will print \"pi\""
   ]
  },
  {
   "cell_type": "markdown",
   "metadata": {
    "colab_type": "text",
    "id": "rq6PNDchT4i1"
   },
   "source": [
    "Define a dictionary with 3 items. Then do the following:\n",
    "1. Print the dictionary\n",
    "2. Print one of the values in the dictionary \n",
    "3. Set that value equal to 1 \n",
    "4. Print the value again \n",
    "5. Add a new item to the list. To do this, call a key from the dictionary which doesn't exist and set it equal to whatever you want the value to be (This is different from tuples: remember that there is no element outside of the range of the tuple. But this works for dictionaries)\n",
    "6. Then print the dictionary\n",
    "7. What happens when you put a value in the brackets instead of the key?\n",
    "8. Explore anything else you are curious about"
   ]
  },
  {
   "cell_type": "code",
   "execution_count": null,
   "metadata": {
    "colab": {
     "base_uri": "https://localhost:8080/",
     "height": 71
    },
    "colab_type": "code",
    "id": "pSun3NB-RdMw",
    "outputId": "a99fcdf6-04c0-4e21-fbfb-5e6a3434579b"
   },
   "outputs": [],
   "source": []
  },
  {
   "cell_type": "markdown",
   "metadata": {
    "colab_type": "text",
    "id": "Zk3TfXYYZS_i"
   },
   "source": [
    "## 5. Flow Control"
   ]
  },
  {
   "cell_type": "markdown",
   "metadata": {
    "colab_type": "text",
    "id": "VnZmmiehGEUM"
   },
   "source": [
    "### For Loops"
   ]
  },
  {
   "cell_type": "markdown",
   "metadata": {
    "colab_type": "text",
    "id": "I_vLvRacZoIx"
   },
   "source": [
    "A 'for loop' does something repeatedly using an 'iterator' and a list to iterate through. So a for loop will change that iterator to match each element in the list one by one and perform the code within the loop each time.\n",
    "\n",
    "Write a for loop that prints the numbers 1-5; then write a for loop that prints twice the previous number starting at 1 for ten numbers (1,2,4,8,...)."
   ]
  },
  {
   "cell_type": "code",
   "execution_count": null,
   "metadata": {
    "colab": {
     "base_uri": "https://localhost:8080/",
     "height": 521
    },
    "colab_type": "code",
    "id": "Zr-0gRjDrGpv",
    "outputId": "c7b68b21-6159-485b-8a86-bf034328b54f"
   },
   "outputs": [],
   "source": []
  },
  {
   "cell_type": "markdown",
   "metadata": {
    "colab_type": "text",
    "id": "dHuSvoG7rHWI"
   },
   "source": [
    "Write a for loop that adds all the numbers from 1 to 100 and print the result. Hint: You need something to store the sum. Define a variable and set it equal to zero before the loop; this will store the sum.\n",
    "\n",
    "What is the sum of the first 1000 numbers?\n",
    "\n",
    "To check that it is getting a correct value, start by finding the sum of the first 3 numbers."
   ]
  },
  {
   "cell_type": "code",
   "execution_count": null,
   "metadata": {
    "colab": {
     "base_uri": "https://localhost:8080/",
     "height": 35
    },
    "colab_type": "code",
    "id": "bX_KIGF9rJ_3",
    "outputId": "a1332b6a-b1fc-454e-e8d9-3c9cfa0673d7"
   },
   "outputs": [],
   "source": []
  },
  {
   "cell_type": "markdown",
   "metadata": {
    "colab_type": "text",
    "id": "69A44kFyGHsO"
   },
   "source": [
    "### If Statements"
   ]
  },
  {
   "cell_type": "markdown",
   "metadata": {
    "colab_type": "text",
    "id": "gM_wyGwmH9bZ"
   },
   "source": [
    "An 'if statement' does something only when some condition is satisfied. \n",
    "\n",
    "Define some variable and set it equal to your favorite number. Write an if statement to print \"Yes\" if the number is greater than 3, and \"No\" if the number is less than or equal to 3."
   ]
  },
  {
   "cell_type": "code",
   "execution_count": null,
   "metadata": {
    "colab": {
     "base_uri": "https://localhost:8080/",
     "height": 35
    },
    "colab_type": "code",
    "id": "S9Prxd3rH_Ib",
    "outputId": "eec6c9ec-8e4f-41a0-af27-0efc500cab26"
   },
   "outputs": [],
   "source": []
  },
  {
   "cell_type": "markdown",
   "metadata": {
    "colab_type": "text",
    "id": "nc2SfaAWGK1z"
   },
   "source": [
    "### While Loops"
   ]
  },
  {
   "cell_type": "markdown",
   "metadata": {
    "colab_type": "text",
    "id": "EkY_d0ZXICLT"
   },
   "source": [
    "A 'while loop' continually does something while some condition is satisfied.\n",
    "\n",
    "Write a while loop that doubles a number until the number is greater than 100. Print the number.\n",
    "\n",
    "WARNING: With while loops, you can get stuck in an infinite loop. It won't break anything (at least at this level), but the code will run forever and not return anything. Always make sure that there is something in the loop that will eventually break the condition to stop the loop."
   ]
  },
  {
   "cell_type": "code",
   "execution_count": null,
   "metadata": {
    "colab": {
     "base_uri": "https://localhost:8080/",
     "height": 161
    },
    "colab_type": "code",
    "id": "hp6VdjrvIDFk",
    "outputId": "e917b792-9937-4005-e557-cbb7b6b73750"
   },
   "outputs": [],
   "source": []
  },
  {
   "cell_type": "markdown",
   "metadata": {
    "colab_type": "text",
    "id": "F53S-gvjIFH4"
   },
   "source": [
    "Write a loop that adds numbers (+1 then +2 then +3, etc.) until the sum is greater than 100. Print the number. Then print the last number that was added. Hint: There are two numbers to keep track of here. What are they?\n",
    "\n",
    "Ans: 105, 14"
   ]
  },
  {
   "cell_type": "code",
   "execution_count": null,
   "metadata": {
    "colab": {
     "base_uri": "https://localhost:8080/",
     "height": 305
    },
    "colab_type": "code",
    "id": "ihtKDWlpIF--",
    "outputId": "f0dbedcf-c3d5-4b4e-e30b-ea3e379961a7"
   },
   "outputs": [],
   "source": []
  },
  {
   "cell_type": "markdown",
   "metadata": {
    "colab_type": "text",
    "id": "dlwLrXb8IGiH"
   },
   "source": [
    "## 6. Functions"
   ]
  },
  {
   "cell_type": "markdown",
   "metadata": {
    "colab_type": "text",
    "id": "BvQOr5wPILIc"
   },
   "source": [
    "Define a function called is_even() which takes an integer as an input and prints \"Yes\" if the integer is even and \"No\" if the integer is not."
   ]
  },
  {
   "cell_type": "code",
   "execution_count": null,
   "metadata": {
    "colab": {
     "base_uri": "https://localhost:8080/",
     "height": 35
    },
    "colab_type": "code",
    "id": "pPu9ji1AINqV",
    "outputId": "fa7d788e-f418-4500-ce9c-2982715caac7"
   },
   "outputs": [],
   "source": []
  },
  {
   "cell_type": "markdown",
   "metadata": {
    "colab_type": "text",
    "id": "C1vFBDw3IQFb"
   },
   "source": [
    "Define a function that calculates the gravitational force between two masses that are some distance apart. The equation is\n",
    "\n",
    "\n",
    "> F = $G \\frac{M_1 M_2}{r^2}$\n",
    "\n",
    "where $G = 6.67*10^{-11}$ N m$^2$ kg$^{-2}$  is the gravitational constant, $M_1$ is the mass of the first body in kilograms, $M_2$ is the mass of the second body in kilograms, and $r$ is the distance between them in meters.\n",
    "\n",
    "The function should take the masses and distance as arguments. Make it so that if no arguments are given to the function, it returns 0 (Hint: how do you initialize the function parameters)."
   ]
  },
  {
   "cell_type": "code",
   "execution_count": null,
   "metadata": {
    "colab": {
     "base_uri": "https://localhost:8080/",
     "height": 53
    },
    "colab_type": "code",
    "id": "RAKs702ZIRgK",
    "outputId": "708fc15a-9816-43ff-cc49-dec764b9385c"
   },
   "outputs": [],
   "source": []
  },
  {
   "cell_type": "markdown",
   "metadata": {
    "colab_type": "text",
    "id": "2x94TBuvffZ-"
   },
   "source": [
    "# Importing Packages"
   ]
  },
  {
   "cell_type": "markdown",
   "metadata": {
    "colab_type": "text",
    "id": "Y-hQh88qjXVv"
   },
   "source": [
    "Packages are what make Python so powerful. If you ever want to write a piece of code to do something, it's likely somebody has already written it in a far more efficient manner than you. So just import their code and use it yourself!"
   ]
  },
  {
   "cell_type": "markdown",
   "metadata": {
    "colab_type": "text",
    "id": "6lDjgyNbhfff"
   },
   "source": [
    "## 1. Numpy"
   ]
  },
  {
   "cell_type": "markdown",
   "metadata": {
    "colab_type": "text",
    "id": "N3z1vc0wkXDn"
   },
   "source": [
    "Numpy is holy grail of all of Python coding. It is full of useful mathematical tools and functions that are not available to vanilla Python."
   ]
  },
  {
   "cell_type": "markdown",
   "metadata": {
    "colab_type": "text",
    "id": "y_2ddBocIjas"
   },
   "source": [
    "First, import numpy with the alias np"
   ]
  },
  {
   "cell_type": "code",
   "execution_count": null,
   "metadata": {
    "colab": {},
    "colab_type": "code",
    "id": "iSojeGUWInLT"
   },
   "outputs": [],
   "source": []
  },
  {
   "cell_type": "markdown",
   "metadata": {
    "colab_type": "text",
    "id": "yFq89zA_Inza"
   },
   "source": [
    "Use numpy to calculate:\n",
    "\n",
    "1.   cos($\\pi$)\n",
    "2.   log$_{10}$(100)\n",
    "3.   ln($e$)  ( natural log of euler number)\n",
    "4.   90 degrees in radians\n",
    "5.   Anything else you want!"
   ]
  },
  {
   "cell_type": "code",
   "execution_count": null,
   "metadata": {
    "colab": {
     "base_uri": "https://localhost:8080/",
     "height": 89
    },
    "colab_type": "code",
    "id": "XVBdbQdZIrcR",
    "outputId": "72714283-34e2-43e4-8bdd-1f18d44d2cea"
   },
   "outputs": [],
   "source": []
  },
  {
   "cell_type": "markdown",
   "metadata": {
    "colab_type": "text",
    "id": "I1Jnm8h8Iudo"
   },
   "source": [
    "Now we will use a powerful data type for handling a group of numbers (like physics data). These are called **numpy arrays** or ```ndarray```. They are like lists, but are more powerful in terms of the mathematical manipulations you can do to them. If you have taken linear algebra, you can think of these as vectors and matrices."
   ]
  },
  {
   "cell_type": "markdown",
   "metadata": {
    "colab_type": "text",
    "id": "PyM-Q9d6Ivbq"
   },
   "source": [
    "Define a 2x3 list of any numbers you want and print it. Note: a 2x3 list means a list of two lists containing three numbers.\n",
    "\n",
    "Then multiply this list by 2 and print the result. Now add 2 to the list and print the result. (Spoiler alert: one of these won't work)"
   ]
  },
  {
   "cell_type": "code",
   "execution_count": null,
   "metadata": {
    "colab": {
     "base_uri": "https://localhost:8080/",
     "height": 35
    },
    "colab_type": "code",
    "id": "n1kOaJtLI0pG",
    "outputId": "52b98a3c-a2d8-4114-e3d9-8af2a61d6aff"
   },
   "outputs": [],
   "source": []
  },
  {
   "cell_type": "markdown",
   "metadata": {
    "colab_type": "text",
    "id": "KgLgK71EI4ty"
   },
   "source": [
    "Now convert this list to a numpy array (you may want to look this up)\n",
    "\n",
    "Print the array.\n",
    "\n",
    "Multiply this array by 2 and print the result. Add 2 to the array and print the result. What are the differences?"
   ]
  },
  {
   "cell_type": "code",
   "execution_count": null,
   "metadata": {
    "colab": {
     "base_uri": "https://localhost:8080/",
     "height": 125
    },
    "colab_type": "code",
    "id": "7mEKHh7EI6NN",
    "outputId": "bc2f39c8-8d93-438d-86e8-fa21411c9c11"
   },
   "outputs": [],
   "source": []
  },
  {
   "cell_type": "markdown",
   "metadata": {
    "colab_type": "text",
    "id": "mWLTChfxI82l"
   },
   "source": [
    "As you can see, we can use mathematical operations on an array in a way that makes sense. We expect it to act on each element in the array, and it does, unlike when we do the same on lists."
   ]
  },
  {
   "cell_type": "markdown",
   "metadata": {
    "colab_type": "text",
    "id": "iMKFeIZxI98w"
   },
   "source": [
    "Now, use some functions on the array and print the result, such as:\n",
    "\n",
    "1. cos(array)\n",
    "2. exp(array)  (e to the power of array)\n",
    "3. sum(array)\n",
    "\n",
    "Note: You can find a list of numpy functions by googling \"numpy functions\""
   ]
  },
  {
   "cell_type": "code",
   "execution_count": null,
   "metadata": {
    "colab": {
     "base_uri": "https://localhost:8080/",
     "height": 107
    },
    "colab_type": "code",
    "id": "XTvAmGJqJAvt",
    "outputId": "7760f627-7d1d-4c8e-de78-c29d9a56f1fb"
   },
   "outputs": [],
   "source": []
  },
  {
   "cell_type": "markdown",
   "metadata": {
    "colab_type": "text",
    "id": "lTX2uVwmJCxQ"
   },
   "source": [
    "The arrays themselves have methods (callable functions). Google the numpy.ndarray methods. Find one that will convert the array to a one dimensional array (also known as 'flattening' the array). Then reshape the array to 3x2, that is a list of three lists with two elements. (Remember: we call methods using \".\")"
   ]
  },
  {
   "cell_type": "code",
   "execution_count": null,
   "metadata": {
    "colab": {
     "base_uri": "https://localhost:8080/",
     "height": 89
    },
    "colab_type": "code",
    "id": "xOJj49E_JD7d",
    "outputId": "61867d0b-6a15-4360-91d4-371233ce6d13"
   },
   "outputs": [],
   "source": []
  },
  {
   "cell_type": "markdown",
   "metadata": {
    "colab_type": "text",
    "id": "4JkloTARJFov"
   },
   "source": [
    "Now define another array of the same shape as the previous array. Also define an array of a different shape.\n",
    "\n",
    "Use some of the mathematical operations between the previous array and the new ones to see how they work on arrays. Try multiplication, addition, power, etc."
   ]
  },
  {
   "cell_type": "code",
   "execution_count": null,
   "metadata": {
    "colab": {
     "base_uri": "https://localhost:8080/",
     "height": 125
    },
    "colab_type": "code",
    "id": "-V8bBBYaJG57",
    "outputId": "6235027c-cf99-4cf5-ef30-012a1450b676"
   },
   "outputs": [],
   "source": []
  },
  {
   "cell_type": "markdown",
   "metadata": {
    "colab_type": "text",
    "id": "qMvvbNe-JJD8"
   },
   "source": [
    "There are special numpy methods that create arrays using some formula.\n",
    "\n",
    "Look up and make arrays using\n",
    "1. linspace\n",
    "2. arange\n",
    "3. logspace\n",
    "4. geomspace\n",
    "5. identity\n",
    "6. zeros\n",
    "7. ones\n",
    "8. empty"
   ]
  },
  {
   "cell_type": "code",
   "execution_count": null,
   "metadata": {
    "colab": {
     "base_uri": "https://localhost:8080/",
     "height": 323
    },
    "colab_type": "code",
    "id": "lWhDSF8aJKRC",
    "outputId": "17a97c1e-1125-4e46-aa0f-2647361d37af"
   },
   "outputs": [],
   "source": []
  },
  {
   "cell_type": "markdown",
   "metadata": {
    "colab_type": "text",
    "id": "MlLCFhokrsVU"
   },
   "source": [
    "## 2. Matplotlib"
   ]
  },
  {
   "cell_type": "markdown",
   "metadata": {
    "colab_type": "text",
    "id": "elv0CwM9JNCd"
   },
   "source": [
    "Matplotlib is another library full of useful methods, like numpy. Its main purpose is for visualizing things. For example, it's what is mostly used for making graphs."
   ]
  },
  {
   "cell_type": "markdown",
   "metadata": {
    "colab_type": "text",
    "id": "HEdVfYXtJQqm"
   },
   "source": [
    "Import pyplot from matplotlib with the alias plt"
   ]
  },
  {
   "cell_type": "code",
   "execution_count": null,
   "metadata": {
    "colab": {},
    "colab_type": "code",
    "id": "AKqjpJrgrv71"
   },
   "outputs": [],
   "source": []
  },
  {
   "cell_type": "markdown",
   "metadata": {
    "colab_type": "text",
    "id": "WMWQCEd8JTlc"
   },
   "source": [
    "Create an array that has 40 elements starting from 0 and ending a 2$\\pi$. (Look back at the methods for array creation above)\n",
    "\n",
    "Now take the cosine of this array."
   ]
  },
  {
   "cell_type": "code",
   "execution_count": null,
   "metadata": {
    "colab": {
     "base_uri": "https://localhost:8080/",
     "height": 269
    },
    "colab_type": "code",
    "id": "Z7agPq-qJUaF",
    "outputId": "bc9f4456-8132-4ee2-a6ae-25398742cbec"
   },
   "outputs": [],
   "source": []
  },
  {
   "cell_type": "markdown",
   "metadata": {
    "colab_type": "text",
    "id": "U_AVRiigJXVt"
   },
   "source": [
    "Use pyplot to plot the 0-2$\\pi$ array on the x-axis and the cosine of that array on the y-axis.\n",
    "\n",
    "On the same graph, plot the sine of the 0-2$\\pi$ array as a scatter plot.\n",
    "\n",
    "\n",
    "Clean up the graph by\n",
    "1. Giving it a title\n",
    "2. Labeling the axes\n",
    "3. Changing the color of the curve and points\n",
    "4. Adding a grid\n",
    "5. Adding a legend at the bottom left (with each plot labeled)\n",
    "6. Changing the plot line width\n",
    "8. Changing the scatter marker type\n",
    "9. Whatever else you think would look nice!"
   ]
  },
  {
   "cell_type": "code",
   "execution_count": null,
   "metadata": {
    "colab": {
     "base_uri": "https://localhost:8080/",
     "height": 349
    },
    "colab_type": "code",
    "id": "frgHoyKJJYQN",
    "outputId": "696f5abc-4ebe-4f9f-df69-1334d61524b2"
   },
   "outputs": [],
   "source": []
  },
  {
   "cell_type": "markdown",
   "metadata": {
    "colab_type": "text",
    "id": "Imp7TSP6uAdq"
   },
   "source": [
    "Let's use a function that someone else has defined. Use the ```func_intersect()``` function defined below to calculate the intersection between the two functions above. Verify it by eye by using the graph."
   ]
  },
  {
   "cell_type": "code",
   "execution_count": null,
   "metadata": {
    "colab": {
     "base_uri": "https://localhost:8080/",
     "height": 107
    },
    "colab_type": "code",
    "id": "xfrjV6lJeyeb",
    "outputId": "661bbe32-f180-47c9-e954-b172e96ca5fb"
   },
   "outputs": [],
   "source": [
    "def func_intersect(f1, f2, x, xrange=None, threshold = 0.01):\n",
    "  # below is a 'function comment' which is what is printed when using \n",
    "  # the help() function on this function\n",
    "  '''\n",
    "  Returns the intersection of two functions (arrays)\n",
    "   \n",
    "  Parameters\n",
    "  ----------\n",
    "  f1 : 1D array\n",
    "      the first function\n",
    "  f2 : 1D array\n",
    "      the second function\n",
    "  x : 1D array\n",
    "      the common x axis for f1 and f2 (needs to be same size)\n",
    "  xrange : tuple (size two)\n",
    "      the (lower, upper) bounds on the x range\n",
    "      default is the full range of x\n",
    "  threshold : number\n",
    "      the threshold value for which the distance between two points must\n",
    "      be below to be considered as an intersection\n",
    "                 \n",
    "  returns\n",
    "  -------\n",
    "  intersections : array\n",
    "      an array of x values for which an intersection was found\n",
    "  '''\n",
    "\n",
    "  # ensure numpy is imported\n",
    "  import numpy as np\n",
    "\n",
    "  # get the full x range if not specified\n",
    "  xrange = (x[0], x[-1]) if xrange == None else xrange\n",
    "\n",
    "  # begin with an empty array\n",
    "  intersections = np.array([])\n",
    "\n",
    "  # calculate the difference between the two functions\n",
    "  dist = abs(f1 - f2)\n",
    "  print(\"Minimum Distance Found: \", dist.min())\n",
    "  print(\"Should no intersections be found, consider raising the threshold.\\n\",\n",
    "        \"If too many closeby intersections, lower the threshold.\\n\", sep=\"\")\n",
    "\n",
    "  # indices within xrange\n",
    "  x_ind = [i for i in range(len(x)) if x[i] >= xrange[0] and x[i] <= xrange[1]]\n",
    "\n",
    "  # step through each x value to find an intersection\n",
    "  for x_i in x_ind:\n",
    "    if dist[x_i] <= threshold:\n",
    "      intersections = np.append(intersections, x[x_i])\n",
    "  \n",
    "  # return the array of intersections\n",
    "  return intersections\n",
    "\n",
    "\n",
    "\n",
    "# Here is an example for using this function:\n",
    "\n",
    "# We define some x:\n",
    "testx = np.linspace(-5, 5, 25)\n",
    "\n",
    "# Then we define two y values that we want to find the intersection of:\n",
    "testy1 = np.array([9 for i in testx])\n",
    "testy2 = testx**2\n",
    "\n",
    "# Then this returns the list of intersections.\n",
    "intersections = func_intersect(testy1, testy2, testx, xrange=(-5, 5), threshold=0.5)\n",
    "\n",
    "# And we print it.\n",
    "print(\"Intersection at x = \", intersections)"
   ]
  },
  {
   "cell_type": "markdown",
   "metadata": {
    "colab": {
     "base_uri": "https://localhost:8080/",
     "height": 107
    },
    "colab_type": "code",
    "id": "S8Q0eiJckkY0",
    "outputId": "1516a9d3-2c80-4027-9e08-286f9d57eda7"
   },
   "source": [
    "Now it's your turn to use the function!\n",
    "Find the intersection of the two lines graphed above."
   ]
  },
  {
   "cell_type": "code",
   "execution_count": null,
   "metadata": {},
   "outputs": [],
   "source": []
  },
  {
   "cell_type": "markdown",
   "metadata": {},
   "source": [
    "What are some ways we could improve the results for the intersection? How can we change how we defined the two functions above?"
   ]
  },
  {
   "cell_type": "markdown",
   "metadata": {
    "colab_type": "text",
    "id": "5YEgWXDmJY6W"
   },
   "source": [
    "### Project: Projectile Motion Trajectory"
   ]
  },
  {
   "cell_type": "markdown",
   "metadata": {
    "colab_type": "text",
    "id": "ojoW7SbIJbtC"
   },
   "source": [
    "Plot the trajectory of a projectile given an initial speed and launch angle.\n",
    "\n",
    "The vertical motion of the projectile is\n",
    "\n",
    "> $y = y_i + v_i\\sin(\\theta)t - \\frac{1}{2}gt^2$\n",
    "\n",
    "and the horizontal motion is\n",
    "\n",
    "> $x = x_i + v_i\\cos(\\theta)t$\n",
    "\n",
    "where $\\theta$ is the launch angle, $v_i$ is the initial launch speed, $x_i$, $y_i$ are the initial $x$ and $y$ positions, $t$ is time, and $g = 9.8$ m s$^{-2}$.\n",
    "\n",
    "What is the trajectory after 5 seconds when given an intial speed of 30 m s$^{-1}$ and an initial launch angle of 70 degrees?"
   ]
  },
  {
   "cell_type": "code",
   "execution_count": null,
   "metadata": {
    "colab": {
     "base_uri": "https://localhost:8080/",
     "height": 319
    },
    "colab_type": "code",
    "id": "qR5V1JiBJez0",
    "outputId": "891edb41-c4b6-421d-ec7f-56740e6d7e30"
   },
   "outputs": [],
   "source": []
  },
  {
   "cell_type": "markdown",
   "metadata": {
    "colab_type": "text",
    "id": "geaanHmYoQEH"
   },
   "source": [
    "## 3. Astropy: Constants and Quantities"
   ]
  },
  {
   "cell_type": "markdown",
   "metadata": {
    "colab_type": "text",
    "id": "GQrng0xvoTjP"
   },
   "source": [
    "A useful tool which gives easy access to several physical constants is astropy.constants. Look up the documentation for this package. Then import this library as cons and print:\n",
    "\n",
    "1. The speed of light\n",
    "2. Boltzmann's constant\n",
    "3. The gravitational constant\n",
    "4. These three multiplied by each other"
   ]
  },
  {
   "cell_type": "code",
   "execution_count": null,
   "metadata": {
    "colab": {
     "base_uri": "https://localhost:8080/",
     "height": 359
    },
    "colab_type": "code",
    "id": "QdiMPXTDpi6i",
    "outputId": "9c5db639-539c-4fb0-d845-8e2edec0c937"
   },
   "outputs": [],
   "source": []
  },
  {
   "cell_type": "markdown",
   "metadata": {
    "colab_type": "text",
    "id": "xIMsSaB4p3x-"
   },
   "source": [
    "Notice how these values are not just numbers. The name, units, and uncertainty are included in these values as well. And with a calculation, the result also includes units.\n",
    "\n",
    "Convert the speed of light to $\\text{km } s^{-1}$. "
   ]
  },
  {
   "cell_type": "code",
   "execution_count": null,
   "metadata": {
    "colab": {
     "base_uri": "https://localhost:8080/",
     "height": 35
    },
    "colab_type": "code",
    "id": "KvOJL3EgrD-A",
    "outputId": "ba45d1d2-b335-43de-b349-b64da0752a38"
   },
   "outputs": [],
   "source": []
  },
  {
   "cell_type": "markdown",
   "metadata": {
    "colab_type": "text",
    "id": "gRQiSd3BrFgQ"
   },
   "source": [
    "Calculate the electron rest mass energy.\n",
    "> $ E = m_e c^2 $\n",
    "\n",
    "First in SI units (as normal), then convert it to units of $MeV$."
   ]
  },
  {
   "cell_type": "code",
   "execution_count": null,
   "metadata": {
    "colab": {
     "base_uri": "https://localhost:8080/",
     "height": 53
    },
    "colab_type": "code",
    "id": "1hoFAjVerdtN",
    "outputId": "66d285ab-806e-47c0-9ce8-e37fb8d4c92e"
   },
   "outputs": [],
   "source": []
  },
  {
   "cell_type": "markdown",
   "metadata": {
    "colab_type": "text",
    "id": "UpT_7l3preaU"
   },
   "source": [
    "In order to be consistent with the units of these constants, any other numbers you use must also have their corresponding unit. For an easy access to units management, use the package astropy.units. Look up the documentation for this package.\n",
    "\n",
    "Then using this package, define a velocity in units of m/s, an energy in joules, and some value in m$^2$J kg$^{-1}$s$^{-2}$. Print them. Then multiply them all together and print the result. Then convert the result to cgs units(centimeter-gram-second)."
   ]
  },
  {
   "cell_type": "code",
   "execution_count": null,
   "metadata": {
    "colab": {
     "base_uri": "https://localhost:8080/",
     "height": 107
    },
    "colab_type": "code",
    "id": "2i6YtBktuocE",
    "outputId": "e3b35355-7bef-435b-d1c1-c4baf15f9759"
   },
   "outputs": [],
   "source": []
  },
  {
   "cell_type": "markdown",
   "metadata": {
    "colab_type": "text",
    "id": "joo_P6FywtKf"
   },
   "source": [
    "Always be consistent with your units for any meaningful calculations!"
   ]
  },
  {
   "cell_type": "markdown",
   "metadata": {
    "colab_type": "text",
    "id": "mRuof7EIIXgI"
   },
   "source": [
    "## Project: Using Random to Make a Rock, Paper, Scissors Game"
   ]
  },
  {
   "cell_type": "markdown",
   "metadata": {
    "colab_type": "text",
    "id": "ly5M2jutIaHS"
   },
   "source": [
    "Create a program that asks the user for rock, paper, or scissors (Hint: look up the ```input()``` function). Then have the program randomly choose one of rock, paper, or scissors. Then print the result of the game (i.e. \"You win!\")\n",
    "\n",
    "For the program to make a random selection, import the package 'random' and use a method from it called 'choice.' To call a method from a package, use \".\" after the package name.\n",
    "\n",
    "Anytime you are coding and have questions on a package, it is a good idea to google its documentation."
   ]
  },
  {
   "cell_type": "code",
   "execution_count": null,
   "metadata": {
    "colab": {
     "base_uri": "https://localhost:8080/",
     "height": 71
    },
    "colab_type": "code",
    "id": "WidckwijIZe0",
    "outputId": "ec76a817-0e4c-494c-db61-59023038d551"
   },
   "outputs": [],
   "source": []
  },
  {
   "cell_type": "markdown",
   "metadata": {
    "colab_type": "text",
    "id": "NUWI1NRSsbMQ"
   },
   "source": [
    "# Working With Data"
   ]
  },
  {
   "cell_type": "markdown",
   "metadata": {
    "colab_type": "text",
    "id": "Lyb4QslwoXab"
   },
   "source": [
    "Python is most useful for data manipulation, and is becoming the language of choice for Astronomy (IDL don't @me). Here we will see how to load in a basic data file, and perform simple calculations on said data. We will be using measurements from the *Gaia* space telescope; specifically, measurements of a star's brightness at three different wavelengths, as well as the distance to the stars. From these we can begin to explore the realm of stellar classification by spectral type."
   ]
  },
  {
   "cell_type": "markdown",
   "metadata": {
    "colab_type": "text",
    "id": "peCFRtNOsqmN"
   },
   "source": [
    "## 1. Loading from csv file"
   ]
  },
  {
   "cell_type": "markdown",
   "metadata": {
    "colab_type": "text",
    "id": "r7LXqgFH_tAc"
   },
   "source": [
    "Use Numpy's genfromtxt function to import the data from gaia.csv. CSV stands for \"comma separated value\" file; each number is separated by a comma (known as a delimiter). When using genfromtxt, you will have to specify the delimiter. You will also have to skip the first row of the file, as this is the header that labels the columns.\n",
    "\n",
    "For the filename parameter, copy-paste this URL as a string:\n",
    "\n",
    "> https://raw.githubusercontent.com/ZackAshM/PythonBootcamp/master/data/gaia.csv"
   ]
  },
  {
   "cell_type": "code",
   "execution_count": null,
   "metadata": {
    "colab": {},
    "colab_type": "code",
    "id": "WsWM32zo_201"
   },
   "outputs": [],
   "source": []
  },
  {
   "cell_type": "markdown",
   "metadata": {
    "colab_type": "text",
    "id": "l1Y3-NIWebQU"
   },
   "source": [
    "The data is now stored in a 100,000x5 array. Each row represents a single star (so 100,000 stars), and each column is a different type of measurement for that star. The zeroth column is the star's ID number, the first column is the *B*-band magnitude (Blue), the second column is *R* magnitude (Red), the third column is *G* magnitude (Green), and the fourth column is distance. We will use these values to plot the stellar astronomer's staple: The Hertzsprung-Russell (HR) Diagram. The HR Diagram classifies stars by plotting their brightness (Absolute Magnitude $M$) vs their Surface Temperature ($T_\\text{eff}$)."
   ]
  },
  {
   "cell_type": "markdown",
   "metadata": {
    "colab_type": "text",
    "id": "N9qCx74DCrMY"
   },
   "source": [
    "## 2. Making calculations with imported data"
   ]
  },
  {
   "cell_type": "markdown",
   "metadata": {
    "colab_type": "text",
    "id": "WFPTrBtaf6Sh"
   },
   "source": [
    "Let's start with Surface Temperature. While we don't have a thermometer that we can hold up to stars, we can use a star's \"color\" as a stand-in for temperature. Much like how hotter things are bluer and colder things are redder, we can use the difference between the Blue and Red magnitudes as our temperature."
   ]
  },
  {
   "cell_type": "markdown",
   "metadata": {
    "colab_type": "text",
    "id": "e9nXCkwQg_Jn"
   },
   "source": [
    "Calculate the $B-R$ color for this dataset, and save it to the variable \"color\"."
   ]
  },
  {
   "cell_type": "code",
   "execution_count": null,
   "metadata": {
    "colab": {},
    "colab_type": "code",
    "id": "EVMspEZfsgOg"
   },
   "outputs": [],
   "source": []
  },
  {
   "cell_type": "markdown",
   "metadata": {
    "colab_type": "text",
    "id": "BlNRoBi3hL_n"
   },
   "source": [
    "Now we have to find the star's inherent brightness. We know how bright the star appears on Earth, but that's not fair for stars that are brighter but farther away. To remove this distance factor, we calculate how bright all stars would appear at a distance of 10 parsecs (pc; 1pc = 3.26 lightyears), known as Absolute Magnitude. You are given the stars' *apparent* G magnitude ($m$). Find their *absolute* G magnitude ($M$) and save it to the variable absmag (Hint: $M=m-5\\,\\log_{10}(\\text{distance})+5$)"
   ]
  },
  {
   "cell_type": "code",
   "execution_count": null,
   "metadata": {
    "colab": {},
    "colab_type": "code",
    "id": "yRf1wBruuBKU"
   },
   "outputs": [],
   "source": []
  },
  {
   "cell_type": "markdown",
   "metadata": {
    "colab_type": "text",
    "id": "FmFziaIlC0Sr"
   },
   "source": [
    "## 3. Plotting the calculated data"
   ]
  },
  {
   "cell_type": "markdown",
   "metadata": {
    "colab_type": "text",
    "id": "VCFt39KyAxCg"
   },
   "source": [
    "Now that we have both a color and an absolute magnitude, we're ready to make the HR Diagram. Make a scatter plot with color on the x-axis and absmag $M$ on the y-axis. You'll have to reverse the y-axis so that smaller numbers are above larger ones (The magnitude scale works backwards, so smaller number = brighter star! Blame Hipparcos for this nonsense)."
   ]
  },
  {
   "cell_type": "markdown",
   "metadata": {
    "colab_type": "text",
    "id": "YJejSboEBSUw"
   },
   "source": [
    "Once you have your plot, play around with the axes limits, point sizes, and transparencies (alpha) until you can identify the \"Main Sequence\". It is here on the HR Diagram where the majority of stars such as our Sun reside."
   ]
  },
  {
   "cell_type": "code",
   "execution_count": null,
   "metadata": {
    "colab": {
     "base_uri": "https://localhost:8080/",
     "height": 287
    },
    "colab_type": "code",
    "id": "Vrrsv-QJS3bL",
    "outputId": "12dbdfec-1c10-428f-9a41-1f7b2767dfa1"
   },
   "outputs": [],
   "source": []
  }
 ],
 "metadata": {
  "accelerator": "GPU",
  "colab": {
   "collapsed_sections": [
    "BfHcbryxerCe",
    "yzX3ZVgAKKOW",
    "LQq7azzkE_ni",
    "kfbs1id-YU-N",
    "S_ONnuHOJHIJ",
    "xeOgFTgGGmwY",
    "jRuUspXOGpSH",
    "HsgfxIxgrPtn",
    "CCL5ycojOB-Z",
    "B5qE7N5uA4dJ",
    "mpoVpSUkA6wz",
    "R29JC3O1ApTQ",
    "Zk3TfXYYZS_i",
    "VnZmmiehGEUM",
    "69A44kFyGHsO",
    "nc2SfaAWGK1z",
    "dlwLrXb8IGiH",
    "6lDjgyNbhfff",
    "5YEgWXDmJY6W",
    "mRuof7EIIXgI"
   ],
   "name": "Python_Bootcamp_Beginner_Solutions.ipynb",
   "provenance": []
  },
  "kernelspec": {
   "display_name": "Python 3",
   "language": "python",
   "name": "python3"
  },
  "language_info": {
   "codemirror_mode": {
    "name": "ipython",
    "version": 3
   },
   "file_extension": ".py",
   "mimetype": "text/x-python",
   "name": "python",
   "nbconvert_exporter": "python",
   "pygments_lexer": "ipython3",
   "version": "3.8.5"
  }
 },
 "nbformat": 4,
 "nbformat_minor": 1
}
