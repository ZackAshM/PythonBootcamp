{
  "nbformat": 4,
  "nbformat_minor": 0,
  "metadata": {
    "colab": {
      "name": "Python_Bootcamp_Beginner_Solutions.ipynb",
      "provenance": [],
      "collapsed_sections": [
        "BfHcbryxerCe",
        "yzX3ZVgAKKOW",
        "LQq7azzkE_ni",
        "kfbs1id-YU-N",
        "S_ONnuHOJHIJ",
        "xeOgFTgGGmwY",
        "jRuUspXOGpSH",
        "HsgfxIxgrPtn",
        "CCL5ycojOB-Z",
        "B5qE7N5uA4dJ",
        "mpoVpSUkA6wz",
        "R29JC3O1ApTQ",
        "Zk3TfXYYZS_i",
        "VnZmmiehGEUM",
        "69A44kFyGHsO",
        "nc2SfaAWGK1z",
        "dlwLrXb8IGiH",
        "6lDjgyNbhfff",
        "5YEgWXDmJY6W",
        "mRuof7EIIXgI"
      ]
    },
    "kernelspec": {
      "name": "python3",
      "display_name": "Python 3"
    },
    "accelerator": "GPU"
  },
  "cells": [
    {
      "cell_type": "markdown",
      "metadata": {
        "id": "M8uYbm1KXMfL",
        "colab_type": "text"
      },
      "source": [
        "# How to git gud\n"
      ]
    },
    {
      "cell_type": "markdown",
      "metadata": {
        "id": "AeS4-8hvXQ5z",
        "colab_type": "text"
      },
      "source": [
        "**Disclaimer:** You are not expected to have any experience in coding for this notebook. If you are unsure about how to approach a problem, feel free to ask us! The most important thing when learning how to code is learning how to approach problems. Google is an amazing resource, but just like Chegg, it's important to understand the answer instead of just copying it. Please refer to the introductory slides for some of the syntax and definitions used here.\n",
        "\n",
        "And lastly: No matter how much coding experience you get, there will *always* be something that you need to look up to figure out how to do. So learn well how to search for answers!"
      ]
    },
    {
      "cell_type": "markdown",
      "metadata": {
        "id": "jX8VQFUmegzf",
        "colab_type": "text"
      },
      "source": [
        "# Python Basics I"
      ]
    },
    {
      "cell_type": "markdown",
      "metadata": {
        "id": "BfHcbryxerCe",
        "colab_type": "text"
      },
      "source": [
        "## 1. Hello World"
      ]
    },
    {
      "cell_type": "markdown",
      "metadata": {
        "id": "zmiHFyGqeyvT",
        "colab_type": "text"
      },
      "source": [
        "Print the string \"Hello world\""
      ]
    },
    {
      "cell_type": "code",
      "metadata": {
        "id": "Pk5ezXn6YTnk",
        "colab_type": "code",
        "outputId": "f91ef145-7a45-43d6-b1ee-e145c3813d86",
        "colab": {
          "base_uri": "https://localhost:8080/",
          "height": 35
        }
      },
      "source": [
        "# Here we use the function print().\n",
        "# Since we are printing a string, we need to use \"\".\n",
        "print(\"Hello World\")"
      ],
      "execution_count": 0,
      "outputs": [
        {
          "output_type": "stream",
          "text": [
            "Hello World\n"
          ],
          "name": "stdout"
        }
      ]
    },
    {
      "cell_type": "markdown",
      "metadata": {
        "id": "nDtNb1Ai4ubf",
        "colab_type": "text"
      },
      "source": [
        "For quick documentation on a function, use the ```help()``` function. This will return some basic explanation of the function inside ```help()```, how to use it and what its input parameters are. \n",
        "\n",
        "Use the ```help()``` function on ```print()```. Note: don't use the parenthesis () for the function inside of ```help()```."
      ]
    },
    {
      "cell_type": "code",
      "metadata": {
        "id": "eH2zCB_ZHcBm",
        "colab_type": "code",
        "outputId": "201d3e28-f884-439b-c0a6-0b22518b948b",
        "colab": {
          "base_uri": "https://localhost:8080/",
          "height": 233
        }
      },
      "source": [
        "# Here we use the help() function.\n",
        "# Note that the inside function does not have parentheses since\n",
        "# in code, 'print' is a function but 'print()' is a string.\n",
        "help(print)"
      ],
      "execution_count": 0,
      "outputs": [
        {
          "output_type": "stream",
          "text": [
            "Help on built-in function print in module builtins:\n",
            "\n",
            "print(...)\n",
            "    print(value, ..., sep=' ', end='\\n', file=sys.stdout, flush=False)\n",
            "    \n",
            "    Prints the values to a stream, or to sys.stdout by default.\n",
            "    Optional keyword arguments:\n",
            "    file:  a file-like object (stream); defaults to the current sys.stdout.\n",
            "    sep:   string inserted between values, default a space.\n",
            "    end:   string appended after the last value, default a newline.\n",
            "    flush: whether to forcibly flush the stream.\n",
            "\n"
          ],
          "name": "stdout"
        }
      ]
    },
    {
      "cell_type": "markdown",
      "metadata": {
        "id": "yzX3ZVgAKKOW",
        "colab_type": "text"
      },
      "source": [
        "## 2. Data Types"
      ]
    },
    {
      "cell_type": "markdown",
      "metadata": {
        "id": "C7sliYmtKQtn",
        "colab_type": "text"
      },
      "source": [
        "Data types are labels for the kinds of things that coding works with.\n",
        "Run the cell below to see what data types correspond with what."
      ]
    },
    {
      "cell_type": "code",
      "metadata": {
        "id": "Y2sXIZc6KpuJ",
        "colab_type": "code",
        "outputId": "86546b48-13ff-4b0a-87e9-cab925c63dcd",
        "colab": {
          "base_uri": "https://localhost:8080/",
          "height": 161
        }
      },
      "source": [
        "# This is a comment, ignored by the program.\n",
        "# Here, we get the type of the object and then print the result.\n",
        "print( type(  'hello'                ) )   # string     -  str\n",
        "print( type(  'a'                    ) )   # string     -  str\n",
        "print( type(  1                      ) )   # integer    -  int\n",
        "print( type(  1.0                    ) )   # float      -  flt\n",
        "print( type(  [1.0, 9, 'a', 'hello'] ) )   # list       -  list\n",
        "print( type(  {1.0:'hello', 9:'a'}   ) )   # dictionary -  dict\n",
        "print( type(  True                   ) )   # boolean    -  bool\n",
        "print( type(  (2, 3)                 ) )   # tuple      -  tuple\n",
        "\n",
        "# Notice that spaces don't affect anything here.\n",
        "# Try to make your code look neat when you can!"
      ],
      "execution_count": 0,
      "outputs": [
        {
          "output_type": "stream",
          "text": [
            "<class 'str'>\n",
            "<class 'str'>\n",
            "<class 'int'>\n",
            "<class 'float'>\n",
            "<class 'list'>\n",
            "<class 'dict'>\n",
            "<class 'bool'>\n",
            "<class 'tuple'>\n"
          ],
          "name": "stdout"
        }
      ]
    },
    {
      "cell_type": "markdown",
      "metadata": {
        "id": "LQq7azzkE_ni",
        "colab_type": "text"
      },
      "source": [
        "### Casting"
      ]
    },
    {
      "cell_type": "markdown",
      "metadata": {
        "id": "zTNcP6umFObK",
        "colab_type": "text"
      },
      "source": [
        "Casting a variable to a different data type means converting it from one data type to another. For example, we can cast the float 2.0 as an integer 2.\n",
        "\n",
        "To cast a variable to another data type use the form: desired_data_type(variable_to_cast)\n",
        "\n",
        "> Ex: ```int(2.0)``` becomes ```2```"
      ]
    },
    {
      "cell_type": "markdown",
      "metadata": {
        "id": "BqBv6HSCGEmV",
        "colab_type": "text"
      },
      "source": [
        "Try the following: Cast...\n",
        "\n",
        "1.   2.2 and 2.8 to an integer. What do you notice about the result?\n",
        "2.   the string 'hello' to a float. What about the string '3.14'?\n",
        "3.   an integer and a float to a string.\n",
        "4.   a string to a list. How about an integer or float to a list?\n",
        "5.   a dictionary to a list. How about a list to a dictionary (this one is weird, but possible)?\n",
        "6.   Explore any other options for casting.\n",
        "\n",
        "Casting isn't always obvious, so make sure you know what it's doing to your variable if you use it."
      ]
    },
    {
      "cell_type": "code",
      "metadata": {
        "id": "m6bva3WQGQpC",
        "colab_type": "code",
        "outputId": "188c91e4-1529-4f9b-b115-651594bfcf73",
        "colab": {
          "base_uri": "https://localhost:8080/",
          "height": 179
        }
      },
      "source": [
        "# Don't worry about all the print's.\n",
        "# Focus on the casting functions being used.\n",
        "\n",
        "print( int(2.2) )\n",
        "print( int(2.8) )\n",
        "\n",
        "# I comment out this line of code since it doesn't work.\n",
        "# print( float('hello') ) # doesn't work\n",
        "\n",
        "print( float('3.14') )\n",
        "print( str(3) )\n",
        "print( str(3.0) )\n",
        "print( list('hello') )\n",
        "# print( list(3) ) # doesn't work\n",
        "print( str(3.14) )\n",
        "print( list({'hello':'world', 'pi':3.14}) )\n",
        "print( dict([['hello','world'], ['pi', 3.14]]) )"
      ],
      "execution_count": 0,
      "outputs": [
        {
          "output_type": "stream",
          "text": [
            "2\n",
            "2\n",
            "3.14\n",
            "3\n",
            "3.0\n",
            "['h', 'e', 'l', 'l', 'o']\n",
            "3.14\n",
            "['hello', 'pi']\n",
            "{'hello': 'world', 'pi': 3.14}\n"
          ],
          "name": "stdout"
        }
      ]
    },
    {
      "cell_type": "markdown",
      "metadata": {
        "id": "kfbs1id-YU-N",
        "colab_type": "text"
      },
      "source": [
        "## 3. Basic Algebra"
      ]
    },
    {
      "cell_type": "markdown",
      "metadata": {
        "id": "S_ONnuHOJHIJ",
        "colab_type": "text"
      },
      "source": [
        "### Naming Conventions"
      ]
    },
    {
      "cell_type": "markdown",
      "metadata": {
        "id": "x3IjyKVtJS8s",
        "colab_type": "text"
      },
      "source": [
        "Whenever you define a variable or a function, you must assign a name to it. In Python, there are names that cannot be accepted.\n",
        "\n",
        "Rules:\n",
        "\n",
        "*   Names must begin with a letter or underscore '_'\n",
        "*   Other characters can be letters, numbers, or underscore\n",
        "\n",
        "There are also conventions to make your code easier to understand:\n",
        "\n",
        "*   Choose meaningful names: *dice_roll* vs *dr*\n",
        "*   Reasonable length: *series_sum* vs *the_sum_of_the_series*\n",
        "*   Be consistent in style: *DiceRoll*, *dice_roll*, *DICE_ROLL*, etc.\n",
        "\n",
        "**WARNING**: Avoid naming a variable or function that is already the name of another common function. For example: int = 2, sum = 50, print = 'hello', etc. If this ever happens, restart the runtime: *Runtime* -> *Restart runtime...*\n",
        "\n"
      ]
    },
    {
      "cell_type": "markdown",
      "metadata": {
        "id": "xeOgFTgGGmwY",
        "colab_type": "text"
      },
      "source": [
        "### Defining Variables"
      ]
    },
    {
      "cell_type": "markdown",
      "metadata": {
        "id": "vFkelWMBYf32",
        "colab_type": "text"
      },
      "source": [
        "Define two integers *a* and *b*, and give them whatever value you want. Print the variables."
      ]
    },
    {
      "cell_type": "code",
      "metadata": {
        "id": "hubKOodsYpPx",
        "colab_type": "code",
        "outputId": "b3db75d7-c634-42ca-c866-71c356c484f9",
        "colab": {
          "base_uri": "https://localhost:8080/",
          "height": 53
        }
      },
      "source": [
        "# I define two variables here.\n",
        "a = 23\n",
        "b = 5\n",
        "\n",
        "# I print the variables out, and I tell the print() function\n",
        "# that I want the separator (sep) between each variable to be a newline (\"\\n\").\n",
        "print(a, b, sep=\"\\n\")"
      ],
      "execution_count": 0,
      "outputs": [
        {
          "output_type": "stream",
          "text": [
            "23\n",
            "5\n"
          ],
          "name": "stdout"
        }
      ]
    },
    {
      "cell_type": "markdown",
      "metadata": {
        "id": "jRuUspXOGpSH",
        "colab_type": "text"
      },
      "source": [
        "### Mathematical Operations"
      ]
    },
    {
      "cell_type": "markdown",
      "metadata": {
        "id": "f9M84IEwYpzj",
        "colab_type": "text"
      },
      "source": [
        "Now try the following mathematical operations:\n",
        "\n",
        "\n",
        "1.   Addition/Subtraction\n",
        "2.   Multiplication/Division\n",
        "3.   Raise *a* to the third power\n",
        "4.   Find the square root of *b*\n",
        "5.   Raise *a* to the *b*th power\n",
        "6.   The remainder when a is divided by b (and when b is divided by a)\n",
        "7.   Try combinations; explore!\n",
        "\n"
      ]
    },
    {
      "cell_type": "code",
      "metadata": {
        "id": "v70TzKuIZSag",
        "colab_type": "code",
        "outputId": "e213bd22-f21d-4b2e-a634-b37ee404c8f3",
        "colab": {
          "base_uri": "https://localhost:8080/",
          "height": 125
        }
      },
      "source": [
        "# Ignore the print's here and focus on the operations being used.\n",
        "# Note: a and b are defined above.\n",
        "print( a + b )\n",
        "print( a * b )\n",
        "print( a ** 3 )\n",
        "print( b ** 0.5 )\n",
        "print( a ** b )\n",
        "print( a % b )"
      ],
      "execution_count": 0,
      "outputs": [
        {
          "output_type": "stream",
          "text": [
            "28\n",
            "115\n",
            "12167\n",
            "2.23606797749979\n",
            "6436343\n",
            "3\n"
          ],
          "name": "stdout"
        }
      ]
    },
    {
      "cell_type": "markdown",
      "metadata": {
        "id": "aUKX2cwXZzqR",
        "colab_type": "text"
      },
      "source": [
        "Try the following:\n",
        "1. Multiply a string and an integer\n",
        "2. Add a string and an integer\n",
        "3. Divide a float by an integer and an integer by a float\n",
        "4. Add two strings together\n",
        "5. Multiply two strings together\n",
        "6. Experiment with mathematics on more mixtures of data types "
      ]
    },
    {
      "cell_type": "code",
      "metadata": {
        "id": "XD2VzCskaUtl",
        "colab_type": "code",
        "outputId": "0bf88213-65fa-4515-fc83-36e55e4eb72b",
        "colab": {
          "base_uri": "https://localhost:8080/",
          "height": 89
        }
      },
      "source": [
        "print( \"Hello\" * 3 )\n",
        "# print( \"Hello\" + 3 ) # this doesn't work\n",
        "print( 3.3 / 2 )\n",
        "print( 5 / 3.3 )\n",
        "print( \"Hello\" + \" World\" )\n",
        "# print( \"Hello\" * \" World\" ) # this doesn't work"
      ],
      "execution_count": 0,
      "outputs": [
        {
          "output_type": "stream",
          "text": [
            "HelloHelloHello\n",
            "1.65\n",
            "1.5151515151515151\n",
            "Hello World\n"
          ],
          "name": "stdout"
        }
      ]
    },
    {
      "cell_type": "markdown",
      "metadata": {
        "id": "HsgfxIxgrPtn",
        "colab_type": "text"
      },
      "source": [
        "## 4. Tuples, Lists, and Dictionaries"
      ]
    },
    {
      "cell_type": "markdown",
      "metadata": {
        "id": "1s_i19J9r06x",
        "colab_type": "text"
      },
      "source": [
        "We can group together different elements using data types such as dictionaries, tuples and lists."
      ]
    },
    {
      "cell_type": "markdown",
      "metadata": {
        "id": "CCL5ycojOB-Z",
        "colab_type": "text"
      },
      "source": [
        "### Indexing"
      ]
    },
    {
      "cell_type": "markdown",
      "metadata": {
        "id": "_Oq929X4OFU-",
        "colab_type": "text"
      },
      "source": [
        "With a group of elements, we need a way to access them easily. We use square brackets to access the elements of a group. \n",
        "\n",
        "If I have a variable called 'group' and it is equal to a group of elements, then we can call the first element using 'group[0]'. Note that indexing begins at 0, not at 1. So the second element is 'group[1]'.\n",
        "Whenever we want to call a range of elements in the group, we use \":\" inside the square brackets: \n",
        "\n",
        "[:3] means everything up to the fourth element \n",
        "\n",
        "[1:] means everything after the second element\n",
        "\n",
        "[1:3] means everything between the second and fourth elements\n",
        "\n",
        "If you have a group of groups, you use multiple brackets:\n",
        "\n",
        "groups[0][1:3] means the second through fourth elements of the first group"
      ]
    },
    {
      "cell_type": "markdown",
      "metadata": {
        "id": "B5qE7N5uA4dJ",
        "colab_type": "text"
      },
      "source": [
        "### Tuples"
      ]
    },
    {
      "cell_type": "markdown",
      "metadata": {
        "id": "Z35-x_63M52r",
        "colab_type": "text"
      },
      "source": [
        "A tuple is defined using parenthesis () and has fixed elements.\n",
        "\n",
        "Define a tuple with 4 elements. Then do the following:\n",
        "\n",
        "1. Print the tuple\n",
        "2. Print the first element\n",
        "3. Print elements 2-4\n",
        "4. Set the second element equal to 5 (this doesn't work. Why?)\n",
        "5. Try to print an element with an index greater than the size of the tuple (this also doesn't work. Why?)\n",
        "6. What if you set that 'out-of-range' element equal to some value?\n",
        "7. Explore anything else you can think of"
      ]
    },
    {
      "cell_type": "code",
      "metadata": {
        "id": "W81xsqmHrW-P",
        "colab_type": "code",
        "outputId": "7b560752-5e0a-4c95-c815-3adcf832f811",
        "colab": {
          "base_uri": "https://localhost:8080/",
          "height": 71
        }
      },
      "source": [
        "# I define a tuple here.\n",
        "my_tuple = (1,2,3,\"4\")\n",
        "\n",
        "# I print out the whole tuple.\n",
        "print( my_tuple )\n",
        "\n",
        "# I print out the first element in the tuple.\n",
        "print( my_tuple[0] )\n",
        "\n",
        "# I print out the second to fourth element in the tuple.\n",
        "print( my_tuple[1:4] )\n",
        "\n",
        "# These below don't work:\n",
        "# my_tuple[1] = 5 # this doesn't work: tuple elements are fixed\n",
        "# print( my_tuple[5] ) # this doesn't work: no element outside of range\n",
        "# my_tuple[5] = 7 # this does not work"
      ],
      "execution_count": 0,
      "outputs": [
        {
          "output_type": "stream",
          "text": [
            "(1, 2, 3, '4')\n",
            "1\n",
            "(2, 3, '4')\n"
          ],
          "name": "stdout"
        }
      ]
    },
    {
      "cell_type": "markdown",
      "metadata": {
        "id": "mpoVpSUkA6wz",
        "colab_type": "text"
      },
      "source": [
        "### Lists"
      ]
    },
    {
      "cell_type": "markdown",
      "metadata": {
        "id": "t9ziCga3WoG_",
        "colab_type": "text"
      },
      "source": [
        "Lists are defined using square brackets [ ]. They are adjustable in length by appending (adding) elements to it and adjustable in the content.\n",
        "\n",
        "Define a list of 5 elements, each of a different data type. Then do the following:\n",
        "\n",
        "1. Print the list\n",
        "2. Print the first element\n",
        "3. Set the first element equal to 100 then print the list\n",
        "4. Print elements 2-4\n",
        "5. Can you set elements 2-4 equal to 100 the same way you did in step 3? Try it.\n",
        "6. Append the string \"hello\" to the list then print the list (Hint: lists have methods (functions) associated with them. If you have some list called ```my_list```, you can access its ```append()``` method with ```my_list.append()```)\n",
        "7. Append a list and print the result\n",
        "8. Multiply the list by an integer and print the result\n",
        "9. Define another list and mathematically add the lists together\n",
        "10. Explore anything else you can think of"
      ]
    },
    {
      "cell_type": "code",
      "metadata": {
        "id": "Vb83lArIYiWI",
        "colab_type": "code",
        "outputId": "d59b6cc3-ef35-42bc-84f5-374544140d20",
        "colab": {
          "base_uri": "https://localhost:8080/",
          "height": 143
        }
      },
      "source": [
        "# I define a list.\n",
        "my_list = [ 1,\"2\", [1,2], True, (2,1) ]\n",
        "\n",
        "# I print out the first element of the list.\n",
        "print( my_list[0] )\n",
        "\n",
        "# I assign the first element to be 100 then print the whole list.\n",
        "my_list[0] = 100\n",
        "print( my_list )\n",
        "\n",
        "# I print the second through fourth elements and I try to\n",
        "# assign them all to 100 like above but it doesn't work.\n",
        "print( my_list[1:4] )\n",
        "# my_list[1:4] = 100 # this doesn't work, we cannot assign int to a list\n",
        "\n",
        "# I append a string to the list (add a new element).\n",
        "my_list.append(\"hello\")\n",
        "print( my_list )\n",
        "\n",
        "# I append another list.\n",
        "my_list.append([4, 2])\n",
        "print( my_list )\n",
        "\n",
        "# I perform some mathematical operations on lists.\n",
        "print( my_list * 3 )\n",
        "another_list = [\"world\", {\"dog\":\"meow\"}]\n",
        "print( my_list + another_list )"
      ],
      "execution_count": 0,
      "outputs": [
        {
          "output_type": "stream",
          "text": [
            "1\n",
            "[100, '2', [1, 2], True, (2, 1)]\n",
            "['2', [1, 2], True]\n",
            "[100, '2', [1, 2], True, (2, 1), 'hello']\n",
            "[100, '2', [1, 2], True, (2, 1), 'hello', [4, 2]]\n",
            "[100, '2', [1, 2], True, (2, 1), 'hello', [4, 2], 100, '2', [1, 2], True, (2, 1), 'hello', [4, 2], 100, '2', [1, 2], True, (2, 1), 'hello', [4, 2]]\n",
            "[100, '2', [1, 2], True, (2, 1), 'hello', [4, 2], 'world', {'dog': 'meow'}]\n"
          ],
          "name": "stdout"
        }
      ]
    },
    {
      "cell_type": "markdown",
      "metadata": {
        "id": "R29JC3O1ApTQ",
        "colab_type": "text"
      },
      "source": [
        "### Dictionaries"
      ]
    },
    {
      "cell_type": "markdown",
      "metadata": {
        "id": "z5PWuF7wQbhc",
        "colab_type": "text"
      },
      "source": [
        "The normal indexing is not the same for dictionaries. Dictionaries are a list of 'items' which are pairs of 'keys' and 'values'. These can be any data type. To access an item, you put the key inside of the square brackets. To define a dictionary we use curly braces {} and each item is separated by a colon. \n",
        "For example: \n",
        "\n",
        "```my_dict = {\"apple\":2, \"banana\":\"healthy\", 3.14:\"pi\"}```\n",
        "\n",
        "> ```print(my_dict[\"apple\"])``` will print 2\n",
        "\n",
        "> ```print(my_dict[\"banana\"])``` will print \"healthy\"\n",
        "\n",
        "> ```print(my_dict[3.14])``` will print \"pi\""
      ]
    },
    {
      "cell_type": "markdown",
      "metadata": {
        "id": "rq6PNDchT4i1",
        "colab_type": "text"
      },
      "source": [
        "Define a dictionary with 3 items. Then do the following:\n",
        "1. Print the dictionary\n",
        "2. Print one of the values in the dictionary \n",
        "3. Set that value equal to 1 \n",
        "4. Print the value again \n",
        "5. Add a new item to the list. To do this, call a key from the dictionary which doesn't exist and set it equal to whatever you want the value to be (This is different from tuples: remember that there is no element outside of the range of the tuple. But this works for dictionaries)\n",
        "6. Then print the dictionary\n",
        "7. What happens when you put a value in the brackets instead of the key?\n",
        "8. Explore anything else you are curious about"
      ]
    },
    {
      "cell_type": "code",
      "metadata": {
        "id": "pSun3NB-RdMw",
        "colab_type": "code",
        "outputId": "a99fcdf6-04c0-4e21-fbfb-5e6a3434579b",
        "colab": {
          "base_uri": "https://localhost:8080/",
          "height": 71
        }
      },
      "source": [
        "# I define a dictionary.\n",
        "my_dict = {\"e\":2.72, \"pi\":3.14, \"1/0\":\"inf\"}\n",
        "\n",
        "# I print the item that has the key \"e\".\n",
        "print( my_dict[\"e\"] )\n",
        "\n",
        "# I set the item with the key \"e\" to be 1.\n",
        "my_dict[\"e\"] = 1\n",
        "print( my_dict[\"e\"] )\n",
        "\n",
        "# I append another element by assigning a new key to an item.\n",
        "my_dict[\"circle\"] = 360\n",
        "print( my_dict )\n",
        "\n",
        "# I try to print the key using the item, but this doesn't\n",
        "# work - you must use the key to get an item.\n",
        "# print( my_dict[3.14] ) # this doesn't work. Only slice using keys\n",
        "\n",
        "# You can search up ways to access the keys by their items but it is\n",
        "# out of the scope of this notebook, and it is not used often."
      ],
      "execution_count": 0,
      "outputs": [
        {
          "output_type": "stream",
          "text": [
            "2.72\n",
            "1\n",
            "{'e': 1, 'pi': 3.14, '1/0': 'inf', 'circle': 360}\n"
          ],
          "name": "stdout"
        }
      ]
    },
    {
      "cell_type": "markdown",
      "metadata": {
        "id": "Zk3TfXYYZS_i",
        "colab_type": "text"
      },
      "source": [
        "## 5. Flow Control"
      ]
    },
    {
      "cell_type": "markdown",
      "metadata": {
        "id": "VnZmmiehGEUM",
        "colab_type": "text"
      },
      "source": [
        "### For Loops"
      ]
    },
    {
      "cell_type": "markdown",
      "metadata": {
        "id": "I_vLvRacZoIx",
        "colab_type": "text"
      },
      "source": [
        "A 'for loop' does something repeatedly using an 'iterator' and a list to iterate through. So a for loop will change that iterator to match each element in the list one by one and perform the code within the loop each time.\n",
        "\n",
        "Write a for loop that prints the numbers 1-5; then write a for loop that prints twice the previous number starting at 1 for ten numbers (1,2,4,8,...)."
      ]
    },
    {
      "cell_type": "code",
      "metadata": {
        "id": "Zr-0gRjDrGpv",
        "colab_type": "code",
        "outputId": "c7b68b21-6159-485b-8a86-bf034328b54f",
        "colab": {
          "base_uri": "https://localhost:8080/",
          "height": 521
        }
      },
      "source": [
        "# I print iterator for when it's 1, 2, 3, 4, and 5.\n",
        "# Note: range(1,6,1) = list from 1 to 6 (not including) at steps of 1.\n",
        "for iterator in range(1,6,1):\n",
        "  print(iterator)\n",
        "\n",
        "# Print a line to separate the outputs.\n",
        "print(\"---------------\")\n",
        "\n",
        "# I give a variable initial conditions outside of the loop before\n",
        "# using it inside; otherwise if it was inside, it would always be redefined\n",
        "# in each iteration.\n",
        "keep_track = 1\n",
        "for x in range(10): # range(10) -> 0, 1, 2,..., 9\n",
        "  print(keep_track)\n",
        "  keep_track = keep_track*2\n",
        "print(keep_track)\n",
        "\n",
        "# Again, for organization.\n",
        "print(\"---------------\")\n",
        "\n",
        "# A better way:\n",
        "for x in range(10):\n",
        "  print(2**x)"
      ],
      "execution_count": 0,
      "outputs": [
        {
          "output_type": "stream",
          "text": [
            "1\n",
            "2\n",
            "3\n",
            "4\n",
            "5\n",
            "---------------\n",
            "1\n",
            "2\n",
            "4\n",
            "8\n",
            "16\n",
            "32\n",
            "64\n",
            "128\n",
            "256\n",
            "512\n",
            "1024\n",
            "---------------\n",
            "1\n",
            "2\n",
            "4\n",
            "8\n",
            "16\n",
            "32\n",
            "64\n",
            "128\n",
            "256\n",
            "512\n"
          ],
          "name": "stdout"
        }
      ]
    },
    {
      "cell_type": "markdown",
      "metadata": {
        "id": "dHuSvoG7rHWI",
        "colab_type": "text"
      },
      "source": [
        "Write a for loop that adds all the numbers from 1 to 100 and print the result. Hint: You need something to store the sum. Define a variable and set it equal to zero before the loop; this will store the sum.\n",
        "\n",
        "What is the sum of the first 1000 numbers?\n",
        "\n",
        "To check that it is getting a correct value, start by finding the sum of the first 3 numbers."
      ]
    },
    {
      "cell_type": "code",
      "metadata": {
        "id": "bX_KIGF9rJ_3",
        "colab_type": "code",
        "outputId": "a1332b6a-b1fc-454e-e8d9-3c9cfa0673d7",
        "colab": {
          "base_uri": "https://localhost:8080/",
          "height": 35
        }
      },
      "source": [
        "# I initialize a variable outside to 'store' the information of the sum.\n",
        "loop_sum = 0\n",
        "for i in range(1000):\n",
        "  loop_sum = loop_sum + (i+1)\n",
        "print(loop_sum)"
      ],
      "execution_count": 0,
      "outputs": [
        {
          "output_type": "stream",
          "text": [
            "500500\n"
          ],
          "name": "stdout"
        }
      ]
    },
    {
      "cell_type": "markdown",
      "metadata": {
        "id": "69A44kFyGHsO",
        "colab_type": "text"
      },
      "source": [
        "### If Statements"
      ]
    },
    {
      "cell_type": "markdown",
      "metadata": {
        "id": "gM_wyGwmH9bZ",
        "colab_type": "text"
      },
      "source": [
        "An 'if statement' does something only when some condition is satisfied. \n",
        "\n",
        "Define some variable and set it equal to your favorite number. Write an if statement to print \"Yes\" if the number is greater than 3, and \"No\" if the number is less than or equal to 3."
      ]
    },
    {
      "cell_type": "code",
      "metadata": {
        "id": "S9Prxd3rH_Ib",
        "colab_type": "code",
        "outputId": "eec6c9ec-8e4f-41a0-af27-0efc500cab26",
        "colab": {
          "base_uri": "https://localhost:8080/",
          "height": 35
        }
      },
      "source": [
        "# Define some number to be checked.\n",
        "fav_num = 2\n",
        "\n",
        "# I check if it's greater than 3 and print 'Yes' if so\n",
        "# and if not, print 'No'.\n",
        "if (fav_num > 3):\n",
        "  print(\"Yes\") \n",
        "else:\n",
        "  print(\"No\")\n",
        "\n",
        " # Advanced alternative: \n",
        " # print(\"Yes\") if fav_num > 3 else print(\"No\")"
      ],
      "execution_count": 0,
      "outputs": [
        {
          "output_type": "stream",
          "text": [
            "No\n"
          ],
          "name": "stdout"
        }
      ]
    },
    {
      "cell_type": "markdown",
      "metadata": {
        "id": "nc2SfaAWGK1z",
        "colab_type": "text"
      },
      "source": [
        "### While Loops"
      ]
    },
    {
      "cell_type": "markdown",
      "metadata": {
        "id": "EkY_d0ZXICLT",
        "colab_type": "text"
      },
      "source": [
        "A 'while loop' continually does something while some condition is satisfied.\n",
        "\n",
        "Write a while loop that doubles a number until the number is greater than 100. Print the number.\n",
        "\n",
        "WARNING: With while loops, you can get stuck in an infinite loop. It won't break anything (at least at this level), but the code will run forever and not return anything. Always make sure that there is something in the loop that will eventually break the condition to stop the loop."
      ]
    },
    {
      "cell_type": "code",
      "metadata": {
        "id": "hp6VdjrvIDFk",
        "colab_type": "code",
        "outputId": "e917b792-9937-4005-e557-cbb7b6b73750",
        "colab": {
          "base_uri": "https://localhost:8080/",
          "height": 161
        }
      },
      "source": [
        "# I define a variable outside with initial conditions.\n",
        "comparison_variable = 1\n",
        "\n",
        "# Then I change the variable while it is less than 100.\n",
        "while comparison_variable < 100:\n",
        "  print(comparison_variable)\n",
        "  comparison_variable *= 2\n",
        "\n",
        "# Then I print out what it is afterwards (should be >100).\n",
        "print(comparison_variable)"
      ],
      "execution_count": 0,
      "outputs": [
        {
          "output_type": "stream",
          "text": [
            "1\n",
            "2\n",
            "4\n",
            "8\n",
            "16\n",
            "32\n",
            "64\n",
            "128\n"
          ],
          "name": "stdout"
        }
      ]
    },
    {
      "cell_type": "markdown",
      "metadata": {
        "id": "F53S-gvjIFH4",
        "colab_type": "text"
      },
      "source": [
        "Write a loop that adds numbers (+1 then +2 then +3, etc.) until the sum is greater than 100. Print the number. Then print the last number that was added. Hint: There are two numbers to keep track of here. What are they?\n",
        "\n",
        "Ans: 105, 14"
      ]
    },
    {
      "cell_type": "code",
      "metadata": {
        "id": "ihtKDWlpIF--",
        "colab_type": "code",
        "outputId": "f0dbedcf-c3d5-4b4e-e30b-ea3e379961a7",
        "colab": {
          "base_uri": "https://localhost:8080/",
          "height": 305
        }
      },
      "source": [
        "# Define two things to store two pieces of information.\n",
        "while_sum = 0\n",
        "add_this = 1\n",
        "while while_sum <= 100:\n",
        "  print(while_sum)\n",
        "  while_sum += add_this  # while_sum = while_sum + add_this\n",
        "  add_this += 1\n",
        "\n",
        "# Print a newline, then the sum, then a comma and space, then what was added.\n",
        "# Since add_this had a +1 at the end of the loop, the last thing added\n",
        "# was add_this - 1.\n",
        "print(\"\\n\", while_sum, \", \", add_this - 1, sep=\"\")"
      ],
      "execution_count": 0,
      "outputs": [
        {
          "output_type": "stream",
          "text": [
            "0\n",
            "1\n",
            "3\n",
            "6\n",
            "10\n",
            "15\n",
            "21\n",
            "28\n",
            "36\n",
            "45\n",
            "55\n",
            "66\n",
            "78\n",
            "91\n",
            "\n",
            "105, 14\n"
          ],
          "name": "stdout"
        }
      ]
    },
    {
      "cell_type": "markdown",
      "metadata": {
        "id": "dlwLrXb8IGiH",
        "colab_type": "text"
      },
      "source": [
        "## 6. Functions"
      ]
    },
    {
      "cell_type": "markdown",
      "metadata": {
        "id": "BvQOr5wPILIc",
        "colab_type": "text"
      },
      "source": [
        "Define a function called is_even() which takes an integer as an input and prints \"Yes\" if the integer is even and \"No\" if the integer is not."
      ]
    },
    {
      "cell_type": "code",
      "metadata": {
        "id": "pPu9ji1AINqV",
        "colab_type": "code",
        "outputId": "fa7d788e-f418-4500-ce9c-2982715caac7",
        "colab": {
          "base_uri": "https://localhost:8080/",
          "height": 35
        }
      },
      "source": [
        "my_int = 42\n",
        "\n",
        "# Here's a way to let you choose the number every time you run.\n",
        "# my_int = int(input(\"What is your integer?\"))\n",
        "\n",
        "# This defines the function.\n",
        "def is_even(func_param):\n",
        "  if func_param % 2 == 0:\n",
        "    print(\"Yes\")\n",
        "  else:\n",
        "    print(\"No\")\n",
        "\n",
        "# This calls the function for my_int.\n",
        "is_even(my_int)"
      ],
      "execution_count": 0,
      "outputs": [
        {
          "output_type": "stream",
          "text": [
            "Yes\n"
          ],
          "name": "stdout"
        }
      ]
    },
    {
      "cell_type": "markdown",
      "metadata": {
        "id": "C1vFBDw3IQFb",
        "colab_type": "text"
      },
      "source": [
        "Define a function that calculates the gravitational force between two masses that are some distance apart. The equation is\n",
        "\n",
        "\n",
        "> F = $G \\frac{M_1 M_2}{r^2}$\n",
        "\n",
        "where $G = 6.67*10^{-11}$ N m$^2$ kg$^{-2}$  is the gravitational constant, $M_1$ is the mass of the first body in kilograms, $M_2$ is the mass of the second body in kilograms, and $r$ is the distance between them in meters.\n",
        "\n",
        "The function should take the masses and distance as arguments. Make it so that if no arguments are given to the function, it returns 0 (Hint: how do you initialize the function parameters)."
      ]
    },
    {
      "cell_type": "code",
      "metadata": {
        "id": "RAKs702ZIRgK",
        "colab_type": "code",
        "outputId": "708fc15a-9816-43ff-cc49-dec764b9385c",
        "colab": {
          "base_uri": "https://localhost:8080/",
          "height": 53
        }
      },
      "source": [
        "# Define the function with three parameters that have initial conditions.\n",
        "def grav_force(m1=0, m2=0, r=1):\n",
        "  G = 6.67 * 10 ** (-11)   # or G = 6.67e-11\n",
        "  return G * m1 * m2 / r**2\n",
        "\n",
        "# Print the output of the function using its\n",
        "# initial conditions.\n",
        "print( grav_force() )\n",
        "\n",
        "# Print the output of the function for arguments \n",
        "# different from the initial conditions.\n",
        "print( grav_force(m2=100, r=1e5, m1=10) )"
      ],
      "execution_count": 0,
      "outputs": [
        {
          "output_type": "stream",
          "text": [
            "0.0\n",
            "6.669999999999999e-18\n"
          ],
          "name": "stdout"
        }
      ]
    },
    {
      "cell_type": "markdown",
      "metadata": {
        "id": "2x94TBuvffZ-",
        "colab_type": "text"
      },
      "source": [
        "# Importing Packages"
      ]
    },
    {
      "cell_type": "markdown",
      "metadata": {
        "id": "Y-hQh88qjXVv",
        "colab_type": "text"
      },
      "source": [
        "Packages are what make Python so powerful. If you ever want to write a piece of code to do something, it's likely somebody has already written it in a far more efficient manner than you. So just import their code and use it yourself!"
      ]
    },
    {
      "cell_type": "markdown",
      "metadata": {
        "id": "6lDjgyNbhfff",
        "colab_type": "text"
      },
      "source": [
        "## 1. Numpy"
      ]
    },
    {
      "cell_type": "markdown",
      "metadata": {
        "id": "N3z1vc0wkXDn",
        "colab_type": "text"
      },
      "source": [
        "Numpy is holy grail of all of Python coding. It is full of useful mathematical tools and functions that are not available to vanilla Python."
      ]
    },
    {
      "cell_type": "markdown",
      "metadata": {
        "id": "y_2ddBocIjas",
        "colab_type": "text"
      },
      "source": [
        "First, import numpy with the alias np"
      ]
    },
    {
      "cell_type": "code",
      "metadata": {
        "id": "iSojeGUWInLT",
        "colab_type": "code",
        "colab": {}
      },
      "source": [
        "# Import the numpy package with the alias 'np'.\n",
        "# So now we can refer to it as np instead of numpy.\n",
        "import numpy as np"
      ],
      "execution_count": 0,
      "outputs": []
    },
    {
      "cell_type": "markdown",
      "metadata": {
        "id": "yFq89zA_Inza",
        "colab_type": "text"
      },
      "source": [
        "Use numpy to calculate:\n",
        "\n",
        "1.   cos($\\pi$)\n",
        "2.   log$_{10}$(100)\n",
        "3.   ln($e$)  ( natural log of euler number)\n",
        "4.   90 degrees in radians\n",
        "5.   Anything else you want!"
      ]
    },
    {
      "cell_type": "code",
      "metadata": {
        "id": "XVBdbQdZIrcR",
        "colab_type": "code",
        "outputId": "72714283-34e2-43e4-8bdd-1f18d44d2cea",
        "colab": {
          "base_uri": "https://localhost:8080/",
          "height": 89
        }
      },
      "source": [
        "# Focus on the inside of the print functions.\n",
        "# We are accessing things from the numpy package using periods.\n",
        "# Remember, we called numpy np so we use np.cos() instead of numpy.cos().\n",
        "print( np.cos( np.pi ) )\n",
        "print( np.log10( 100 ) )\n",
        "print( np.log( np.e ) )\n",
        "print( np.radians( 90 ) )"
      ],
      "execution_count": 0,
      "outputs": [
        {
          "output_type": "stream",
          "text": [
            "-1.0\n",
            "2.0\n",
            "1.0\n",
            "1.5707963267948966\n"
          ],
          "name": "stdout"
        }
      ]
    },
    {
      "cell_type": "markdown",
      "metadata": {
        "id": "I1Jnm8h8Iudo",
        "colab_type": "text"
      },
      "source": [
        "Now we will use a powerful data type for handling a group of numbers (like physics data). These are called **numpy arrays** or ```ndarray```. They are like lists, but are more powerful in terms of the mathematical manipulations you can do to them. If you have taken linear algebra, you can think of these as vectors and matrices."
      ]
    },
    {
      "cell_type": "markdown",
      "metadata": {
        "id": "PyM-Q9d6Ivbq",
        "colab_type": "text"
      },
      "source": [
        "Define a 2x3 list of any numbers you want and print it. Note: a 2x3 list means a list of two lists containing three numbers.\n",
        "\n",
        "Then multiply this list by 2 and print the result. Now add 2 to the list and print the result. (Spoiler alert: one of these won't work)"
      ]
    },
    {
      "cell_type": "code",
      "metadata": {
        "id": "n1kOaJtLI0pG",
        "colab_type": "code",
        "outputId": "52b98a3c-a2d8-4114-e3d9-8af2a61d6aff",
        "colab": {
          "base_uri": "https://localhost:8080/",
          "height": 35
        }
      },
      "source": [
        "# Define a list that has 2 rows and 3 columns.\n",
        "list2x3 = [ [1, 2, 3], [4, 5, 6] ]\n",
        "print( list2x3 * 2 )\n",
        "# print( list2x3 + 2 ) # this does not work"
      ],
      "execution_count": 0,
      "outputs": [
        {
          "output_type": "stream",
          "text": [
            "[[1, 2, 3], [4, 5, 6], [1, 2, 3], [4, 5, 6]]\n"
          ],
          "name": "stdout"
        }
      ]
    },
    {
      "cell_type": "markdown",
      "metadata": {
        "id": "KgLgK71EI4ty",
        "colab_type": "text"
      },
      "source": [
        "Now convert this list to a numpy array (you may want to look this up)\n",
        "\n",
        "Print the array.\n",
        "\n",
        "Multiply this array by 2 and print the result. Add 2 to the array and print the result. What are the differences?"
      ]
    },
    {
      "cell_type": "code",
      "metadata": {
        "id": "7mEKHh7EI6NN",
        "colab_type": "code",
        "outputId": "bc2f39c8-8d93-438d-86e8-fa21411c9c11",
        "colab": {
          "base_uri": "https://localhost:8080/",
          "height": 125
        }
      },
      "source": [
        "# Define a variable that is the numpy array of the list above.\n",
        "my_array = np.array( list2x3 )\n",
        "print( my_array )\n",
        "\n",
        "# Now, these operations work on each element, as we would want.\n",
        "print( my_array * 2 )\n",
        "print( my_array + 2 )"
      ],
      "execution_count": 0,
      "outputs": [
        {
          "output_type": "stream",
          "text": [
            "[[1 2 3]\n",
            " [4 5 6]]\n",
            "[[ 2  4  6]\n",
            " [ 8 10 12]]\n",
            "[[3 4 5]\n",
            " [6 7 8]]\n"
          ],
          "name": "stdout"
        }
      ]
    },
    {
      "cell_type": "markdown",
      "metadata": {
        "id": "mWLTChfxI82l",
        "colab_type": "text"
      },
      "source": [
        "As you can see, we can use mathematical operations on an array in a way that makes sense. We expect it to act on each element in the array, and it does, unlike when we do the same on lists."
      ]
    },
    {
      "cell_type": "markdown",
      "metadata": {
        "id": "iMKFeIZxI98w",
        "colab_type": "text"
      },
      "source": [
        "Now, use some functions on the array and print the result, such as:\n",
        "\n",
        "1. cos(array)\n",
        "2. exp(array)  (e to the power of array)\n",
        "3. sum(array)\n",
        "\n",
        "Note: You can find a list of numpy functions by googling \"numpy functions\""
      ]
    },
    {
      "cell_type": "code",
      "metadata": {
        "id": "XTvAmGJqJAvt",
        "colab_type": "code",
        "outputId": "7760f627-7d1d-4c8e-de78-c29d9a56f1fb",
        "colab": {
          "base_uri": "https://localhost:8080/",
          "height": 107
        }
      },
      "source": [
        "# We can perform whole functions with an array input.\n",
        "print( np.cos( my_array ) )\n",
        "print( np.exp( my_array ) )\n",
        "print( np.sum( my_array ) )"
      ],
      "execution_count": 0,
      "outputs": [
        {
          "output_type": "stream",
          "text": [
            "[[ 0.54030231 -0.41614684 -0.9899925 ]\n",
            " [-0.65364362  0.28366219  0.96017029]]\n",
            "[[  2.71828183   7.3890561   20.08553692]\n",
            " [ 54.59815003 148.4131591  403.42879349]]\n",
            "21\n"
          ],
          "name": "stdout"
        }
      ]
    },
    {
      "cell_type": "markdown",
      "metadata": {
        "id": "lTX2uVwmJCxQ",
        "colab_type": "text"
      },
      "source": [
        "The arrays themselves have methods (callable functions). Google the numpy.ndarray methods. Find one that will convert the array to a one dimensional array (also known as 'flattening' the array). Then reshape the array to 3x2, that is a list of three lists with two elements. (Remember: we call methods using \".\")"
      ]
    },
    {
      "cell_type": "code",
      "metadata": {
        "id": "xOJj49E_JD7d",
        "colab_type": "code",
        "outputId": "61867d0b-6a15-4360-91d4-371233ce6d13",
        "colab": {
          "base_uri": "https://localhost:8080/",
          "height": 89
        }
      },
      "source": [
        "# Change my_array to a one dimensional array using flatten().\n",
        "flat_arr = my_array.flatten()\n",
        "print( flat_arr )\n",
        "\n",
        "# Then we can reshape it using reshape().\n",
        "reshape_arr = flat_arr.reshape((3,2))\n",
        "print( reshape_arr )"
      ],
      "execution_count": 0,
      "outputs": [
        {
          "output_type": "stream",
          "text": [
            "[1 2 3 4 5 6]\n",
            "[[1 2]\n",
            " [3 4]\n",
            " [5 6]]\n"
          ],
          "name": "stdout"
        }
      ]
    },
    {
      "cell_type": "markdown",
      "metadata": {
        "id": "4JkloTARJFov",
        "colab_type": "text"
      },
      "source": [
        "Now define another array of the same shape as the previous array. Also define an array of a different shape.\n",
        "\n",
        "Use some of the mathematical operations between the previous array and the new ones to see how they work on arrays. Try multiplication, addition, power, etc."
      ]
    },
    {
      "cell_type": "code",
      "metadata": {
        "id": "-V8bBBYaJG57",
        "colab_type": "code",
        "outputId": "6235027c-cf99-4cf5-ef30-012a1450b676",
        "colab": {
          "base_uri": "https://localhost:8080/",
          "height": 125
        }
      },
      "source": [
        "# Define two arrays of different sizes.\n",
        "arr_A = np.array([[0, 2, 4],\n",
        "                  [1, 3, 5],])\n",
        "arr_B = np.array([[9, 8, 7],\n",
        "                  [6, 5, 4],\n",
        "                  [3, 2, 1]])\n",
        "\n",
        "# Try out some mathematical operations.\n",
        "# Recall: my_array is defined above and has the same dimensions as arr_A.\n",
        "print( my_array + arr_A )\n",
        "# print( my_array + arr_B ) # doesn't work; addition requires same shape\n",
        "\n",
        "print( my_array * arr_A )\n",
        "# print( my_array * arr_B ) # doesn't work; number columns for first array must match number of rows for second array\n",
        "\n",
        "print( my_array ** arr_A )\n",
        "# print( my_array ** arr_B ) # doesn't work; need same shape"
      ],
      "execution_count": 0,
      "outputs": [
        {
          "output_type": "stream",
          "text": [
            "[[ 1  4  7]\n",
            " [ 5  8 11]]\n",
            "[[ 0  4 12]\n",
            " [ 4 15 30]]\n",
            "[[   1    4   81]\n",
            " [   4  125 7776]]\n"
          ],
          "name": "stdout"
        }
      ]
    },
    {
      "cell_type": "markdown",
      "metadata": {
        "id": "qMvvbNe-JJD8",
        "colab_type": "text"
      },
      "source": [
        "There are special numpy methods that create arrays using some formula.\n",
        "\n",
        "Look up and make arrays using\n",
        "1. linspace\n",
        "2. arange\n",
        "3. logspace\n",
        "4. geomspace\n",
        "5. identity\n",
        "6. zeros\n",
        "7. ones\n",
        "8. empty"
      ]
    },
    {
      "cell_type": "code",
      "metadata": {
        "id": "lWhDSF8aJKRC",
        "colab_type": "code",
        "outputId": "17a97c1e-1125-4e46-aa0f-2647361d37af",
        "colab": {
          "base_uri": "https://localhost:8080/",
          "height": 323
        }
      },
      "source": [
        "# More numpy functions!\n",
        "arr_lin = np.linspace(1, 10, 10)\n",
        "arr_ran = np.arange(0, 10, 0.5)\n",
        "arr_log = np.logspace(1, 10, 10)\n",
        "arr_geo = np.geomspace(2, 2**10, 10)\n",
        "arr_id = np.identity(3)\n",
        "arr_zero = np.zeros((3,2))\n",
        "arr_one = np.ones((3,2))\n",
        "arr_empty = np.empty((3,2))\n",
        "\n",
        "# Print out all of the results above.\n",
        "print(arr_lin, arr_ran, arr_log, arr_geo, arr_id, arr_zero, arr_one, arr_empty, sep=\"\\n\")"
      ],
      "execution_count": 0,
      "outputs": [
        {
          "output_type": "stream",
          "text": [
            "[ 1.  2.  3.  4.  5.  6.  7.  8.  9. 10.]\n",
            "[0.  0.5 1.  1.5 2.  2.5 3.  3.5 4.  4.5 5.  5.5 6.  6.5 7.  7.5 8.  8.5\n",
            " 9.  9.5]\n",
            "[1.e+01 1.e+02 1.e+03 1.e+04 1.e+05 1.e+06 1.e+07 1.e+08 1.e+09 1.e+10]\n",
            "[   2.    4.    8.   16.   32.   64.  128.  256.  512. 1024.]\n",
            "[[1. 0. 0.]\n",
            " [0. 1. 0.]\n",
            " [0. 0. 1.]]\n",
            "[[0. 0.]\n",
            " [0. 0.]\n",
            " [0. 0.]]\n",
            "[[1. 1.]\n",
            " [1. 1.]\n",
            " [1. 1.]]\n",
            "[[2.24624061e-316 6.93834717e-310]\n",
            " [6.93834717e-310 0.00000000e+000]\n",
            " [0.00000000e+000 0.00000000e+000]]\n"
          ],
          "name": "stdout"
        }
      ]
    },
    {
      "cell_type": "markdown",
      "metadata": {
        "id": "MlLCFhokrsVU",
        "colab_type": "text"
      },
      "source": [
        "## 2. Matplotlib"
      ]
    },
    {
      "cell_type": "markdown",
      "metadata": {
        "id": "elv0CwM9JNCd",
        "colab_type": "text"
      },
      "source": [
        "Matplotlib is another library full of useful methods, like numpy. Its main purpose is for visualizing things. For example, it's what is mostly used for making graphs."
      ]
    },
    {
      "cell_type": "markdown",
      "metadata": {
        "id": "HEdVfYXtJQqm",
        "colab_type": "text"
      },
      "source": [
        "Import pyplot from matplotlib with the alias plt"
      ]
    },
    {
      "cell_type": "code",
      "metadata": {
        "id": "AKqjpJrgrv71",
        "colab_type": "code",
        "colab": {}
      },
      "source": [
        "# Import pyplot (which is inside the matplotlib package) and alias it as plt.\n",
        "from matplotlib import pyplot as plt"
      ],
      "execution_count": 0,
      "outputs": []
    },
    {
      "cell_type": "markdown",
      "metadata": {
        "id": "WMWQCEd8JTlc",
        "colab_type": "text"
      },
      "source": [
        "Create an array that has 40 elements starting from 0 and ending a 2$\\pi$. (Look back at the methods for array creation above)\n",
        "\n",
        "Now take the cosine of this array."
      ]
    },
    {
      "cell_type": "code",
      "metadata": {
        "id": "Z7agPq-qJUaF",
        "colab_type": "code",
        "outputId": "bc9f4456-8132-4ee2-a6ae-25398742cbec",
        "colab": {
          "base_uri": "https://localhost:8080/",
          "height": 269
        }
      },
      "source": [
        "# Define our data as numpy arrays.\n",
        "t = np.linspace(0, 2*np.pi, 40)\n",
        "y = np.cos( t )\n",
        "\n",
        "# Print them.\n",
        "print(t, y, sep='\\n')"
      ],
      "execution_count": 0,
      "outputs": [
        {
          "output_type": "stream",
          "text": [
            "[0.         0.16110732 0.32221463 0.48332195 0.64442926 0.80553658\n",
            " 0.96664389 1.12775121 1.28885852 1.44996584 1.61107316 1.77218047\n",
            " 1.93328779 2.0943951  2.25550242 2.41660973 2.57771705 2.73882436\n",
            " 2.89993168 3.061039   3.22214631 3.38325363 3.54436094 3.70546826\n",
            " 3.86657557 4.02768289 4.1887902  4.34989752 4.51100484 4.67211215\n",
            " 4.83321947 4.99432678 5.1554341  5.31654141 5.47764873 5.63875604\n",
            " 5.79986336 5.96097068 6.12207799 6.28318531]\n",
            "[ 1.          0.98705026  0.94853644  0.88545603  0.79944276  0.69272435\n",
            "  0.56806475  0.42869256  0.27821746  0.12053668 -0.04026594 -0.20002569\n",
            " -0.35460489 -0.5        -0.63244538 -0.74851075 -0.84519009 -0.91997944\n",
            " -0.97094182 -0.99675731 -0.99675731 -0.97094182 -0.91997944 -0.84519009\n",
            " -0.74851075 -0.63244538 -0.5        -0.35460489 -0.20002569 -0.04026594\n",
            "  0.12053668  0.27821746  0.42869256  0.56806475  0.69272435  0.79944276\n",
            "  0.88545603  0.94853644  0.98705026  1.        ]\n"
          ],
          "name": "stdout"
        }
      ]
    },
    {
      "cell_type": "markdown",
      "metadata": {
        "id": "U_AVRiigJXVt",
        "colab_type": "text"
      },
      "source": [
        "Use pyplot to plot the 0-2$\\pi$ array on the x-axis and the cosine of that array on the y-axis.\n",
        "\n",
        "On the same graph, plot the sine of the 0-2$\\pi$ array as a scatter plot.\n",
        "\n",
        "\n",
        "Clean up the graph by\n",
        "1. Giving it a title\n",
        "2. Labeling the axes\n",
        "3. Changing the color of the curve and points\n",
        "4. Adding a grid\n",
        "5. Adding a legend at the bottom left (with each plot labeled)\n",
        "6. Changing the plot line width\n",
        "8. Changing the scatter marker type\n",
        "9. Whatever else you think would look nice!"
      ]
    },
    {
      "cell_type": "code",
      "metadata": {
        "id": "frgHoyKJJYQN",
        "colab_type": "code",
        "outputId": "696f5abc-4ebe-4f9f-df69-1334d61524b2",
        "colab": {
          "base_uri": "https://localhost:8080/",
          "height": 349
        }
      },
      "source": [
        "# Use pyplot's functions to plot our data defined above.\n",
        "\n",
        "# As a line, colored blue, with a line width of 3 and the label \"Cosine\".\n",
        "plt.plot(t, y, color=\"blue\", lw=3, label=\"Cosine\")\n",
        "\n",
        "# As a scatter plot of \"x\" points that are red and labeled \"Natural Log\".\n",
        "plt.scatter(t, np.log(t), color=\"red\", marker=\"x\", label=\"Natural Log\")\n",
        "\n",
        "plt.title(\"Cosine and Natural Log\")\n",
        "plt.xlabel(\"Time (s)\")\n",
        "plt.ylabel(\"Amplitude\")\n",
        "plt.grid()\n",
        "plt.legend(loc=\"lower left\")"
      ],
      "execution_count": 0,
      "outputs": [
        {
          "output_type": "stream",
          "text": [
            "/usr/local/lib/python3.6/dist-packages/ipykernel_launcher.py:4: RuntimeWarning: divide by zero encountered in log\n",
            "  after removing the cwd from sys.path.\n"
          ],
          "name": "stderr"
        },
        {
          "output_type": "execute_result",
          "data": {
            "text/plain": [
              "<matplotlib.legend.Legend at 0x7fb94566a908>"
            ]
          },
          "metadata": {
            "tags": []
          },
          "execution_count": 29
        },
        {
          "output_type": "display_data",
          "data": {
            "image/png": "[encoded data removed]",
            "text/plain": [
              "<Figure size 432x288 with 1 Axes>"
            ]
          },
          "metadata": {
            "tags": []
          }
        }
      ]
    },
    {
      "cell_type": "markdown",
      "metadata": {
        "id": "Imp7TSP6uAdq",
        "colab_type": "text"
      },
      "source": [
        "Let's use a function that someone else has defined. Use the ```func_intersect()``` function defined below to calculate the intersection between the two functions above. Verify it by eye by using the graph."
      ]
    },
    {
      "cell_type": "code",
      "metadata": {
        "id": "xfrjV6lJeyeb",
        "colab_type": "code",
        "outputId": "661bbe32-f180-47c9-e954-b172e96ca5fb",
        "colab": {
          "base_uri": "https://localhost:8080/",
          "height": 107
        }
      },
      "source": [
        "def func_intersect(f1, f2, x, xrange=None, threshold = 0.01):\n",
        "  # below is a 'function comment' which is what is printed when using \n",
        "  # the help() function on this function\n",
        "  '''\n",
        "  Returns the intersection of two functions (arrays)\n",
        "   \n",
        "  Parameters\n",
        "  ----------\n",
        "  f1 : 1D array\n",
        "      the first function\n",
        "  f2 : 1D array\n",
        "      the second function\n",
        "  x : 1D array\n",
        "      the common x axis for f1 and f2 (needs to be same size)\n",
        "  xrange : tuple (size two)\n",
        "      the (lower, upper) bounds on the x range\n",
        "      default is the full range of x\n",
        "  threshold : number\n",
        "      the threshold value for which the distance between two points must\n",
        "      be below to be considered as an intersection\n",
        "                 \n",
        "  returns\n",
        "  -------\n",
        "  intersections : array\n",
        "      an array of x values for which an intersection was found\n",
        "  '''\n",
        "\n",
        "  # ensure numpy is imported\n",
        "  import numpy as np\n",
        "\n",
        "  # get the full x range if not specified\n",
        "  xrange = (x[0], x[-1]) if xrange == None else xrange\n",
        "\n",
        "  # begin with an empty array\n",
        "  intersections = np.array([])\n",
        "\n",
        "  # calculate the difference between the two functions\n",
        "  dist = abs(f1 - f2)\n",
        "  print(\"Minimum Distance Found: \", dist.min())\n",
        "  print(\"Should no intersections be found, consider raising the threshold.\\n\",\n",
        "        \"If too many closeby intersections, lower the threshold.\\n\", sep=\"\")\n",
        "\n",
        "  # indices within xrange\n",
        "  x_ind = [i for i in range(len(x)) if x[i] >= xrange[0] and x[i] <= xrange[1]]\n",
        "\n",
        "  # step through each x value to find an intersection\n",
        "  for x_i in x_ind:\n",
        "    if dist[x_i] <= threshold:\n",
        "      intersections = np.append(intersections, x[x_i])\n",
        "  \n",
        "  # return the array of intersections\n",
        "  return intersections\n",
        "\n",
        "\n",
        "\n",
        "# Here is an example for using this function:\n",
        "\n",
        "# We define some x:\n",
        "testx = np.linspace(-5, 5, 25)\n",
        "\n",
        "# Then we define two y values that we want to find the intersection of:\n",
        "testy1 = np.array([9 for i in testx])\n",
        "testy2 = testx**2\n",
        "\n",
        "# Then this returns the list of intersections.\n",
        "intersections = func_intersect(testy1, testy2, testx, xrange=(-5, 5), threshold=0.5)\n",
        "\n",
        "# And we print it.\n",
        "print(\"Intersection at x = \", intersections)"
      ],
      "execution_count": 0,
      "outputs": [
        {
          "output_type": "stream",
          "text": [
            "Minimum Distance Found:  0.4930555555555536\n",
            "Should no intersections be found, consider raising the threshold.\n",
            "If too many closeby intersections, lower the threshold.\n",
            "\n",
            "Intersection at x =  [-2.91666667  2.91666667]\n"
          ],
          "name": "stdout"
        }
      ]
    },
    {
      "cell_type": "code",
      "metadata": {
        "id": "S8Q0eiJckkY0",
        "colab_type": "code",
        "outputId": "1516a9d3-2c80-4027-9e08-286f9d57eda7",
        "colab": {
          "base_uri": "https://localhost:8080/",
          "height": 107
        }
      },
      "source": [
        "# Now it's your turn to use the function!\n",
        "# Find the intersection of the two lines graphed above.\n",
        "cos_ln_intersect = func_intersect(y, np.sin(t), t, threshold=0.13)\n",
        "print(\"Intersection at x = \", cos_ln_intersect)"
      ],
      "execution_count": 0,
      "outputs": [
        {
          "output_type": "stream",
          "text": [
            "Minimum Distance Found:  0.028478093834214957\n",
            "Should no intersections be found, consider raising the threshold.\n",
            "If too many closeby intersections, lower the threshold.\n",
            "\n",
            "Intersection at x =  [0.80553658 3.86657557]\n"
          ],
          "name": "stdout"
        }
      ]
    },
    {
      "cell_type": "markdown",
      "metadata": {
        "id": "5YEgWXDmJY6W",
        "colab_type": "text"
      },
      "source": [
        "### Project: Projectile Motion Trajectory"
      ]
    },
    {
      "cell_type": "markdown",
      "metadata": {
        "id": "ojoW7SbIJbtC",
        "colab_type": "text"
      },
      "source": [
        "Plot the trajectory of a projectile given an initial speed and launch angle.\n",
        "\n",
        "The vertical motion of the projectile is\n",
        "\n",
        "> $y = y_i + v_i\\sin(\\theta)t - \\frac{1}{2}gt^2$\n",
        "\n",
        "and the horizontal motion is\n",
        "\n",
        "> $x = x_i + v_i\\cos(\\theta)t$\n",
        "\n",
        "where $\\theta$ is the launch angle, $v_i$ is the initial launch speed, $x_i$, $y_i$ are the initial $x$ and $y$ positions, $t$ is time, and $g = 9.8$ m s$^{-2}$.\n",
        "\n",
        "What is the trajectory after 5 seconds when given an intial speed of 30 m s$^{-1}$ and an initial launch angle of 70 degrees?"
      ]
    },
    {
      "cell_type": "code",
      "metadata": {
        "id": "qR5V1JiBJez0",
        "colab_type": "code",
        "outputId": "891edb41-c4b6-421d-ec7f-56740e6d7e30",
        "colab": {
          "base_uri": "https://localhost:8080/",
          "height": 319
        }
      },
      "source": [
        "# Define initial values.\n",
        "# Here, I let the user define the launch speed and angle.\n",
        "vi = float(input(\"What is the initial speed? \"))\n",
        "theta = float(input(\"What is the initial angle (in degrees)? \"))\n",
        "g = 9.8\n",
        "xi, yi = 0, 0\n",
        "\n",
        "# Define our time axis.\n",
        "t = np.linspace(0, 5, 100)\n",
        "\n",
        "# Get our x and y data using the above equations.\n",
        "x = xi + vi*np.cos(np.radians(theta))*t\n",
        "y = yi + vi*np.sin(np.radians(theta))*t - 0.5*g*t**2\n",
        "\n",
        "# Plot the x and y data to see the trajectory.\n",
        "plt.plot(x, y)\n",
        "\n",
        "# Advanced: \n",
        "# We can choose to only plot the data that's above ground (greater than 0).\n",
        "# Here, y[y>0] will give the list of values where y>0. We also need\n",
        "# to use x[y>0] to get the x values where y>0 so that x and y have the same size.\n",
        "# plt.plot(x[y>0], y[y>0])\n"
      ],
      "execution_count": 0,
      "outputs": [
        {
          "output_type": "stream",
          "text": [
            "What is the initial speed? 50\n",
            "What is the initial angle (in degrees)? 25\n"
          ],
          "name": "stdout"
        },
        {
          "output_type": "execute_result",
          "data": {
            "text/plain": [
              "[<matplotlib.lines.Line2D at 0x7fb940b25cc0>]"
            ]
          },
          "metadata": {
            "tags": []
          },
          "execution_count": 45
        },
        {
          "output_type": "display_data",
          "data": {
            "image/png": "[encoded data removed]",
            "text/plain": [
              "<Figure size 432x288 with 1 Axes>"
            ]
          },
          "metadata": {
            "tags": []
          }
        }
      ]
    },
    {
      "cell_type": "markdown",
      "metadata": {
        "id": "geaanHmYoQEH",
        "colab_type": "text"
      },
      "source": [
        "## 3. Astropy: Constants and Quantities"
      ]
    },
    {
      "cell_type": "markdown",
      "metadata": {
        "id": "GQrng0xvoTjP",
        "colab_type": "text"
      },
      "source": [
        "A useful tool which gives easy access to several physical constants is astropy.constants. Look up the documentation for this package. Then import this library as cons and print:\n",
        "\n",
        "1. The speed of light\n",
        "2. Boltzmann's constant\n",
        "3. The gravitational constant\n",
        "4. These three multiplied by each other"
      ]
    },
    {
      "cell_type": "code",
      "metadata": {
        "id": "QdiMPXTDpi6i",
        "colab_type": "code",
        "outputId": "9c5db639-539c-4fb0-d845-8e2edec0c937",
        "colab": {
          "base_uri": "https://localhost:8080/",
          "height": 359
        }
      },
      "source": [
        "import astropy.constants as cons\n",
        "\n",
        "# Printing multiple constants from cons with a separation of two newlines ('\\n\\n').\n",
        "print( cons.c, cons.k_B, cons.G, cons.c*cons.k_B*cons.G, sep='\\n\\n' )"
      ],
      "execution_count": 0,
      "outputs": [
        {
          "output_type": "stream",
          "text": [
            "  Name   = Speed of light in vacuum\n",
            "  Value  = 299792458.0\n",
            "  Uncertainty  = 0.0\n",
            "  Unit  = m / s\n",
            "  Reference = CODATA 2014\n",
            "\n",
            "  Name   = Boltzmann constant\n",
            "  Value  = 1.38064852e-23\n",
            "  Uncertainty  = 7.9e-30\n",
            "  Unit  = J / K\n",
            "  Reference = CODATA 2014\n",
            "\n",
            "  Name   = Gravitational constant\n",
            "  Value  = 6.67408e-11\n",
            "  Uncertainty  = 3.1e-15\n",
            "  Unit  = m3 / (kg s2)\n",
            "  Reference = CODATA 2014\n",
            "\n",
            "2.7624551943720855e-25 J m4 / (K kg s3)\n"
          ],
          "name": "stdout"
        }
      ]
    },
    {
      "cell_type": "markdown",
      "metadata": {
        "id": "xIMsSaB4p3x-",
        "colab_type": "text"
      },
      "source": [
        "Notice how these values are not just numbers. The name, units, and uncertainty are included in these values as well. And with a calculation, the result also includes units.\n",
        "\n",
        "Convert the speed of light to $\\text{km } s^{-1}$. "
      ]
    },
    {
      "cell_type": "code",
      "metadata": {
        "id": "KvOJL3EgrD-A",
        "colab_type": "code",
        "outputId": "ba45d1d2-b335-43de-b349-b64da0752a38",
        "colab": {
          "base_uri": "https://localhost:8080/",
          "height": 35
        }
      },
      "source": [
        "# Converting using the to() function attached to the constants.\n",
        "print( cons.c.to('km/s') )"
      ],
      "execution_count": 0,
      "outputs": [
        {
          "output_type": "stream",
          "text": [
            "299792.458 km / s\n"
          ],
          "name": "stdout"
        }
      ]
    },
    {
      "cell_type": "markdown",
      "metadata": {
        "id": "gRQiSd3BrFgQ",
        "colab_type": "text"
      },
      "source": [
        "Calculate the electron rest mass energy.\n",
        "> $ E = m_e c^2 $\n",
        "\n",
        "First in SI units (as normal), then convert it to units of $MeV$."
      ]
    },
    {
      "cell_type": "code",
      "metadata": {
        "id": "1hoFAjVerdtN",
        "colab_type": "code",
        "outputId": "66d285ab-806e-47c0-9ce8-e37fb8d4c92e",
        "colab": {
          "base_uri": "https://localhost:8080/",
          "height": 53
        }
      },
      "source": [
        "# Calculate using the formula above.\n",
        "el_mass = cons.m_e * cons.c**2\n",
        "\n",
        "# Print the results in SI units then MeV using the to() function.\n",
        "print(el_mass, el_mass.to('MeV'), sep='\\n')"
      ],
      "execution_count": 0,
      "outputs": [
        {
          "output_type": "stream",
          "text": [
            "8.187105649650028e-14 kg m2 / s2\n",
            "0.5109989462686103 MeV\n"
          ],
          "name": "stdout"
        }
      ]
    },
    {
      "cell_type": "markdown",
      "metadata": {
        "id": "UpT_7l3preaU",
        "colab_type": "text"
      },
      "source": [
        "In order to be consistent with the units of these constants, any other numbers you use must also have their corresponding unit. For an easy access to units management, use the package astropy.units. Look up the documentation for this package.\n",
        "\n",
        "Then using this package, define a velocity in units of m/s, an energy in joules, and some value in m$^2$J kg$^{-1}$s$^{-2}$. Print them. Then multiply them all together and print the result. Then convert the result to cgs units(centimeter-gram-second)."
      ]
    },
    {
      "cell_type": "code",
      "metadata": {
        "id": "2i6YtBktuocE",
        "colab_type": "code",
        "outputId": "e3b35355-7bef-435b-d1c1-c4baf15f9759",
        "colab": {
          "base_uri": "https://localhost:8080/",
          "height": 107
        }
      },
      "source": [
        "import astropy.units as units\n",
        "\n",
        "# Defining constants with units using astropy.units.\n",
        "v_ = 3 * units.meter / units.second\n",
        "E_ = 3 * units.joule\n",
        "foo = 3 * units.meter**2 * units.joule / units.kilogram / units.second**2\n",
        "bar = v_ * E_ * foo\n",
        "\n",
        "print(v_, E_, foo, bar, bar.cgs, sep='\\n')"
      ],
      "execution_count": 0,
      "outputs": [
        {
          "output_type": "stream",
          "text": [
            "3.0 m / s\n",
            "3.0 J\n",
            "3.0 J m2 / (kg s2)\n",
            "27.0 J2 m3 / (kg s3)\n",
            "2.6999999999999995e+18 cm7 g / s7\n"
          ],
          "name": "stdout"
        }
      ]
    },
    {
      "cell_type": "markdown",
      "metadata": {
        "id": "joo_P6FywtKf",
        "colab_type": "text"
      },
      "source": [
        "Always be consistent with your units for any meaningful calculations!"
      ]
    },
    {
      "cell_type": "markdown",
      "metadata": {
        "id": "mRuof7EIIXgI",
        "colab_type": "text"
      },
      "source": [
        "## Project: Using Random to Make a Rock, Paper, Scissors Game"
      ]
    },
    {
      "cell_type": "markdown",
      "metadata": {
        "id": "ly5M2jutIaHS",
        "colab_type": "text"
      },
      "source": [
        "Create a program that asks the user for rock, paper, or scissors (Hint: look up the ```input()``` function). Then have the program randomly choose one of rock, paper, or scissors. Then print the result of the game (i.e. \"You win!\")\n",
        "\n",
        "For the program to make a random selection, import the package 'random' and use a method from it called 'choice.' To call a method from a package, use \".\" after the package name.\n",
        "\n",
        "Anytime you are coding and have questions on a package, it is a good idea to google its documentation."
      ]
    },
    {
      "cell_type": "code",
      "metadata": {
        "id": "WidckwijIZe0",
        "colab_type": "code",
        "outputId": "ec76a817-0e4c-494c-db61-59023038d551",
        "colab": {
          "base_uri": "https://localhost:8080/",
          "height": 71
        }
      },
      "source": [
        "# Use 'import' to get the 'random' package.\n",
        "import random\n",
        "\n",
        "# Define our choices.\n",
        "choices = [\"rock\", \"paper\", \"scissors\"]\n",
        "\n",
        "# Define the results.\n",
        "results = [\"draw\", \"win\", \"lose\"]\n",
        "\n",
        "# Let the user input one of the choices (store the choice as a number).\n",
        "x = int(input(\"0:rock, 1:paper, 2:scissors\"))\n",
        "\n",
        "# Have the computer make a choice randomly.\n",
        "# It will choose a random number from the given list.\n",
        "y = random.choice([0,1,2])   # <- here is where we need to use random\n",
        "\n",
        "# Print the outcome.\n",
        "print(\"You choose\", choices[x], \"; opponent chooses\", \n",
        "      choices[y], \"\\n-> \", results[(x-y)%3])"
      ],
      "execution_count": 0,
      "outputs": [
        {
          "output_type": "stream",
          "text": [
            "0:rock, 1:paper, 2:scissors2\n",
            "You choose scissors ; opponent chooses rock \n",
            "->  lose\n"
          ],
          "name": "stdout"
        }
      ]
    },
    {
      "cell_type": "markdown",
      "metadata": {
        "id": "NUWI1NRSsbMQ",
        "colab_type": "text"
      },
      "source": [
        "# Working With Data"
      ]
    },
    {
      "cell_type": "markdown",
      "metadata": {
        "id": "Lyb4QslwoXab",
        "colab_type": "text"
      },
      "source": [
        "Python is most useful for data manipulation, and is becoming the language of choice for Astronomy (IDL don't @me). Here we will see how to load in a basic data file, and perform simple calculations on said data. We will be using measurements from the *Gaia* space telescope; specifically, measurements of a star's brightness at three different wavelengths, as well as the distance to the stars. From these we can begin to explore the realm of stellar classification by spectral type."
      ]
    },
    {
      "cell_type": "markdown",
      "metadata": {
        "id": "peCFRtNOsqmN",
        "colab_type": "text"
      },
      "source": [
        "## 1. Loading from csv file"
      ]
    },
    {
      "cell_type": "markdown",
      "metadata": {
        "id": "r7LXqgFH_tAc",
        "colab_type": "text"
      },
      "source": [
        "Use Numpy's genfromtxt function to import the data from gaia.csv. CSV stands for \"comma separated value\" file; each number is separated by a comma (known as a delimiter). When using genfromtxt, you will have to specify the delimiter. You will also have to skip the first row of the file, as this is the header that labels the columns.\n",
        "\n",
        "For the filename parameter, copy-paste this URL as a string:\n",
        "\n",
        "> https://raw.githubusercontent.com/ZackAshM/PythonBootcamp/master/data/gaia.csv"
      ]
    },
    {
      "cell_type": "code",
      "metadata": {
        "id": "WsWM32zo_201",
        "colab_type": "code",
        "colab": {}
      },
      "source": [
        "# Get the data using numpy's genfromtxt() function.\n",
        "gaia_data = np.genfromtxt(\"https://raw.githubusercontent.com/ZackAshM/PythonBootcamp/master/data/gaia.csv\",\n",
        "                          skip_header=1, delimiter=\",\", unpack=True)"
      ],
      "execution_count": 0,
      "outputs": []
    },
    {
      "cell_type": "markdown",
      "metadata": {
        "id": "l1Y3-NIWebQU",
        "colab_type": "text"
      },
      "source": [
        "The data is now stored in a 100,000x5 array. Each row represents a single star (so 100,000 stars), and each column is a different type of measurement for that star. The zeroth column is the star's ID number, the first column is the *B*-band magnitude (Blue), the second column is *R* magnitude (Red), the third column is *G* magnitude (Green), and the fourth column is distance. We will use these values to plot the stellar astronomer's staple: The Hertzsprung-Russell (HR) Diagram. The HR Diagram classifies stars by plotting their brightness (Absolute Magnitude $M$) vs their Surface Temperature ($T_\\text{eff}$)."
      ]
    },
    {
      "cell_type": "markdown",
      "metadata": {
        "id": "N9qCx74DCrMY",
        "colab_type": "text"
      },
      "source": [
        "## 2. Making calculations with imported data"
      ]
    },
    {
      "cell_type": "markdown",
      "metadata": {
        "id": "WFPTrBtaf6Sh",
        "colab_type": "text"
      },
      "source": [
        "Let's start with Surface Temperature. While we don't have a thermometer that we can hold up to stars, we can use a star's \"color\" as a stand-in for temperature. Much like how hotter things are bluer and colder things are redder, we can use the difference between the Blue and Red magnitudes as our temperature."
      ]
    },
    {
      "cell_type": "markdown",
      "metadata": {
        "id": "e9nXCkwQg_Jn",
        "colab_type": "text"
      },
      "source": [
        "Calculate the $B-R$ color for this dataset, and save it to the variable \"color\"."
      ]
    },
    {
      "cell_type": "code",
      "metadata": {
        "id": "EVMspEZfsgOg",
        "colab_type": "code",
        "colab": {}
      },
      "source": [
        "# The B - R color is the difference between the \n",
        "# second (B) and third (R) elements of the gaia data.\n",
        "color = gaia_data[1] - gaia_data[2]"
      ],
      "execution_count": 0,
      "outputs": []
    },
    {
      "cell_type": "markdown",
      "metadata": {
        "id": "BlNRoBi3hL_n",
        "colab_type": "text"
      },
      "source": [
        "Now we have to find the star's inherent brightness. We know how bright the star appears on Earth, but that's not fair for stars that are brighter but farther away. To remove this distance factor, we calculate how bright all stars would appear at a distance of 10 parsecs (pc; 1pc = 3.26 lightyears), known as Absolute Magnitude. You are given the stars' *apparent* G magnitude ($m$). Find their *absolute* G magnitude ($M$) and save it to the variable absmag (Hint: $M=m-5\\,\\log_{10}(\\text{distance})+5$)"
      ]
    },
    {
      "cell_type": "code",
      "metadata": {
        "id": "yRf1wBruuBKU",
        "colab_type": "code",
        "colab": {}
      },
      "source": [
        "# From the data, we have that:\n",
        "# m = gaia_data[3] and\n",
        "# the distance = gaia_data[4].\n",
        "# So then we can use the formula above as such:\n",
        "abs_mag = gaia_data[3] - 5*np.log10(gaia_data[4]/10) + 5"
      ],
      "execution_count": 0,
      "outputs": []
    },
    {
      "cell_type": "markdown",
      "metadata": {
        "id": "FmFziaIlC0Sr",
        "colab_type": "text"
      },
      "source": [
        "## 3. Plotting the calculated data"
      ]
    },
    {
      "cell_type": "markdown",
      "metadata": {
        "id": "VCFt39KyAxCg",
        "colab_type": "text"
      },
      "source": [
        "Now that we have both a color and an absolute magnitude, we're ready to make the HR Diagram. Make a scatter plot with color on the x-axis and absmag $M$ on the y-axis. You'll have to reverse the y-axis so that smaller numbers are above larger ones (The magnitude scale works backwards, so smaller number = brighter star! Blame Hipparcos for this nonsense)."
      ]
    },
    {
      "cell_type": "markdown",
      "metadata": {
        "id": "YJejSboEBSUw",
        "colab_type": "text"
      },
      "source": [
        "Once you have your plot, play around with the axes limits, point sizes, and transparencies (alpha) until you can identify the \"Main Sequence\". It is here on the HR Diagram where the majority of stars such as our Sun reside."
      ]
    },
    {
      "cell_type": "code",
      "metadata": {
        "id": "Vrrsv-QJS3bL",
        "colab_type": "code",
        "outputId": "12dbdfec-1c10-428f-9a41-1f7b2767dfa1",
        "colab": {
          "base_uri": "https://localhost:8080/",
          "height": 287
        }
      },
      "source": [
        "# Plotting!\n",
        "plt.scatter(color, abs_mag, s=0.1, c='forestgreen', alpha=0.1)\n",
        "\n",
        "# Set some limits on what we're seeing.\n",
        "plt.ylim(20, 0)\n",
        "plt.xlim(0, 3)"
      ],
      "execution_count": 0,
      "outputs": [
        {
          "output_type": "execute_result",
          "data": {
            "text/plain": [
              "(0, 3)"
            ]
          },
          "metadata": {
            "tags": []
          },
          "execution_count": 36
        },
        {
          "output_type": "display_data",
          "data": {
            "image/png": "[encoded data removed]",
            "text/plain": [
              "<Figure size 432x288 with 1 Axes>"
            ]
          },
          "metadata": {
            "tags": []
          }
        }
      ]
    },
    {
      "cell_type": "code",
      "metadata": {
        "id": "8jFt29-3KpZk",
        "colab_type": "code",
        "colab": {}
      },
      "source": [
        ""
      ],
      "execution_count": 0,
      "outputs": []
    }
  ]
}