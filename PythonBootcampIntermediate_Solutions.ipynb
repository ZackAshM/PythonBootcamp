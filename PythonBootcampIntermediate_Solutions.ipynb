{
 "cells": [
  {
   "cell_type": "markdown",
   "metadata": {
    "colab_type": "text",
    "id": "M8uYbm1KXMfL"
   },
   "source": [
    "\n",
    "# How to git gudder\n"
   ]
  },
  {
   "cell_type": "markdown",
   "metadata": {
    "colab_type": "text",
    "id": "AeS4-8hvXQ5z"
   },
   "source": [
    "**Disclaimer:** This notebook assumes you have finished or worked enough through the Beginner Python Bootcamp Notebook, and so you should know the some basics (basic syntax, data types, algebraic operations, conditional statements, numpy arrays, basic plotting).\n",
    "\n",
    "This notebook will reiterate as well as build upon those basics, with emphasis on physics applications.\n",
    "\n",
    "If you are unsure about how to approach a problem, feel free to ask us! The most important thing when learning how to code is learning how to approach problems. Google is an amazing resource, but just like Chegg, it's important to understand the answer instead of just copying it.\n",
    "\n",
    "And lastly: No matter how much coding experience you get, there will *always* be something that you need to look up to figure out how to do. So learn well how to search for answers!"
   ]
  },
  {
   "cell_type": "markdown",
   "metadata": {
    "colab_type": "text",
    "id": "Gqt3Hu5Emfro"
   },
   "source": [
    "# Python Bootcamp I Review"
   ]
  },
  {
   "cell_type": "markdown",
   "metadata": {
    "colab_type": "text",
    "id": "6w8vsiIDWBnY"
   },
   "source": [
    "Here is a quick check to see what you remember from the beginner notebook. Feel free to skip this if you are confident in your skills of the basics."
   ]
  },
  {
   "cell_type": "markdown",
   "metadata": {
    "colab_type": "text",
    "id": "HShFh4Q0mmvD"
   },
   "source": [
    "Calculate:\n",
    "\n",
    "\n",
    "1.   $2^{30}$\n",
    "2.   $\\frac{3.33}{2.5}$\n",
    "3.   The remainder of $\\frac{6789}{1234}$\n",
    "\n"
   ]
  },
  {
   "cell_type": "code",
   "execution_count": 0,
   "metadata": {
    "colab": {
     "base_uri": "https://localhost:8080/",
     "height": 35
    },
    "colab_type": "code",
    "id": "WsZtVXCinzSV",
    "outputId": "90f67e3a-d74f-4bea-8212-acb3fe8335ff"
   },
   "outputs": [
    {
     "name": "stdout",
     "output_type": "stream",
     "text": [
      "1073741824 1.332 619\n"
     ]
    }
   ],
   "source": [
    "print(2**30, 3.33/2.5, 6789%1234)"
   ]
  },
  {
   "cell_type": "markdown",
   "metadata": {
    "colab_type": "text",
    "id": "5heRjI6WoNJy"
   },
   "source": [
    "Create a dictionary of colors where a fruit of that color is the color's key. Then print out one of the elements (item not key).\n",
    "\n",
    "Eg. MY_DICT['strawberry'] = 'red'"
   ]
  },
  {
   "cell_type": "code",
   "execution_count": 0,
   "metadata": {
    "colab": {
     "base_uri": "https://localhost:8080/",
     "height": 35
    },
    "colab_type": "code",
    "id": "i-IOSR3RozDa",
    "outputId": "3b757c38-33aa-432e-a142-d9845e0872fb"
   },
   "outputs": [
    {
     "name": "stdout",
     "output_type": "stream",
     "text": [
      "yellow\n"
     ]
    }
   ],
   "source": [
    "my_dict = {'pepper':'red', 'banana':'yellow', 'kiwi':'brown', 'orange':'orange'}\n",
    "print(my_dict['banana'])"
   ]
  },
  {
   "cell_type": "markdown",
   "metadata": {
    "colab_type": "text",
    "id": "FVIuUJzlpZjK"
   },
   "source": [
    "Write a 'for loop' that prints out each element individually  of the dictionary defined above. Make sure it's printing out the items, not the keys."
   ]
  },
  {
   "cell_type": "code",
   "execution_count": 0,
   "metadata": {
    "colab": {
     "base_uri": "https://localhost:8080/",
     "height": 89
    },
    "colab_type": "code",
    "id": "YidbcC45pwIf",
    "outputId": "4a429ccc-1e01-44c9-927a-e42aac24c794"
   },
   "outputs": [
    {
     "name": "stdout",
     "output_type": "stream",
     "text": [
      "red\n",
      "yellow\n",
      "brown\n",
      "orange\n"
     ]
    }
   ],
   "source": [
    "for i in my_dict: \n",
    "  print(my_dict[i])"
   ]
  },
  {
   "cell_type": "markdown",
   "metadata": {
    "colab_type": "text",
    "id": "YLRtks82pwmU"
   },
   "source": [
    "Define a function that prints out the type of a variable, the variable itself, and *if it is an even integer*: the variable divided by 2. Run the function for a string, boolean, float, odd integer, and an even integer.\n",
    "\n",
    "For example:\n",
    "\n",
    "f('hello') = string 'hello'\n",
    "\n",
    "f(4) = int 4 2"
   ]
  },
  {
   "cell_type": "code",
   "execution_count": 0,
   "metadata": {
    "colab": {
     "base_uri": "https://localhost:8080/",
     "height": 107
    },
    "colab_type": "code",
    "id": "GXv7hDPlqVAM",
    "outputId": "385405a9-c18f-4e61-deb4-5f1fda43940b"
   },
   "outputs": [
    {
     "name": "stdout",
     "output_type": "stream",
     "text": [
      "<class 'str'> hi\n",
      "<class 'bool'> True\n",
      "<class 'float'> 5.5\n",
      "<class 'int'> 5\n",
      "<class 'int'> 6 3.0\n"
     ]
    }
   ],
   "source": [
    "def f(x):\n",
    "  print(type(x), x, x/2) if type(x) == int and x%2==0 else print(type(x), x)\n",
    "\n",
    "ex = ['hi', True, 5.5, 5, 6]\n",
    "\n",
    "for i in ex:\n",
    "  f(i)"
   ]
  },
  {
   "cell_type": "markdown",
   "metadata": {
    "colab_type": "text",
    "id": "yy2ednbmritO"
   },
   "source": [
    "Import numpy as np and matplotlib.pyplot as plt."
   ]
  },
  {
   "cell_type": "code",
   "execution_count": 0,
   "metadata": {
    "colab": {},
    "colab_type": "code",
    "id": "wr5NPaFyrrST"
   },
   "outputs": [],
   "source": [
    "import numpy as np\n",
    "from matplotlib import pyplot as plt"
   ]
  },
  {
   "cell_type": "markdown",
   "metadata": {
    "colab_type": "text",
    "id": "WDmuG_4Aozi8"
   },
   "source": [
    "Create a numpy array that goes from 0 to 100 in steps of 2. Then create another array which is the first but in reverse order. Using these two arrays, create a 2D array."
   ]
  },
  {
   "cell_type": "code",
   "execution_count": 0,
   "metadata": {
    "colab": {
     "base_uri": "https://localhost:8080/",
     "height": 341
    },
    "colab_type": "code",
    "id": "CxY7jAi3pOK9",
    "outputId": "05b92cda-a410-41ca-cf6f-6dee26177402"
   },
   "outputs": [
    {
     "name": "stdout",
     "output_type": "stream",
     "text": [
      "[  0.   2.   4.   6.   8.  10.  12.  14.  16.  18.  20.  22.  24.  26.\n",
      "  28.  30.  32.  34.  36.  38.  40.  42.  44.  46.  48.  50.  52.  54.\n",
      "  56.  58.  60.  62.  64.  66.  68.  70.  72.  74.  76.  78.  80.  82.\n",
      "  84.  86.  88.  90.  92.  94.  96.  98. 100.]\n",
      "\n",
      "[100.  98.  96.  94.  92.  90.  88.  86.  84.  82.  80.  78.  76.  74.\n",
      "  72.  70.  68.  66.  64.  62.  60.  58.  56.  54.  52.  50.  48.  46.\n",
      "  44.  42.  40.  38.  36.  34.  32.  30.  28.  26.  24.  22.  20.  18.\n",
      "  16.  14.  12.  10.   8.   6.   4.   2.   0.]\n",
      "\n",
      "[[  0.   2.   4.   6.   8.  10.  12.  14.  16.  18.  20.  22.  24.  26.\n",
      "   28.  30.  32.  34.  36.  38.  40.  42.  44.  46.  48.  50.  52.  54.\n",
      "   56.  58.  60.  62.  64.  66.  68.  70.  72.  74.  76.  78.  80.  82.\n",
      "   84.  86.  88.  90.  92.  94.  96.  98. 100.]\n",
      " [100.  98.  96.  94.  92.  90.  88.  86.  84.  82.  80.  78.  76.  74.\n",
      "   72.  70.  68.  66.  64.  62.  60.  58.  56.  54.  52.  50.  48.  46.\n",
      "   44.  42.  40.  38.  36.  34.  32.  30.  28.  26.  24.  22.  20.  18.\n",
      "   16.  14.  12.  10.   8.   6.   4.   2.   0.]]\n"
     ]
    }
   ],
   "source": [
    "a = np.linspace(0,100,51)\n",
    "b = np.flip(a)\n",
    "c = np.vstack((a,b))\n",
    "\n",
    "print(a,b,c,sep='\\n\\n')"
   ]
  },
  {
   "cell_type": "markdown",
   "metadata": {
    "colab_type": "text",
    "id": "2VVPzuRUqWd1"
   },
   "source": [
    "Plot the functions cos(x), sin(x), and cos(x)+sin(x) for $-\\pi<x<\\pi$ with:\n",
    "\n",
    "Colors: cos(x) in blue, sin(x) in red, cos(x)+sin(x) in green\n",
    "\n",
    "Labels: labeled axes, title, and legend in the upper left (whatever labels you want)\n",
    "\n",
    "And a grid"
   ]
  },
  {
   "cell_type": "code",
   "execution_count": 0,
   "metadata": {
    "colab": {
     "base_uri": "https://localhost:8080/",
     "height": 295
    },
    "colab_type": "code",
    "id": "NRhoaPiaqrbC",
    "outputId": "77f983ec-b7e0-4ce7-d545-315db06400cc"
   },
   "outputs": [
    {
     "data": {
      "image/png": "[encoded data removed]",
      "text/plain": [
       "<Figure size 432x288 with 1 Axes>"
      ]
     },
     "metadata": {
      "tags": []
     },
     "output_type": "display_data"
    }
   ],
   "source": [
    "t = np.linspace(-5,5,100)\n",
    "\n",
    "plt.plot(t, np.sin(t), c='red', label='sine')\n",
    "plt.plot(t, np.cos(t), c='blue', label='cosine')\n",
    "plt.plot(t, np.sin(t)+np.cos(t), c='green', label='sine+cosine')\n",
    "\n",
    "plt.xlabel('time'); plt.ylabel('amplitude')\n",
    "plt.title('sin and cos')\n",
    "plt.legend(loc='upper right')\n",
    "\n",
    "plt.show()"
   ]
  },
  {
   "cell_type": "markdown",
   "metadata": {
    "colab_type": "text",
    "id": "jX8VQFUmegzf"
   },
   "source": [
    "# Python Basics II"
   ]
  },
  {
   "cell_type": "markdown",
   "metadata": {
    "colab_type": "text",
    "id": "KAtA4dUASspm"
   },
   "source": [
    "## 1. More on Loops"
   ]
  },
  {
   "cell_type": "markdown",
   "metadata": {
    "colab_type": "text",
    "id": "SKBq2-GQS2yM"
   },
   "source": [
    "In the first Python Bootcamp notebook, we went over for loops, if statements, and while loops. They control the flow of the code through repetition or conditional barriers. There are two statements associated with flow control which give more power to the user: these are ```break``` and ```continue```."
   ]
  },
  {
   "cell_type": "markdown",
   "metadata": {
    "colab_type": "text",
    "id": "bGdpTIMlTxqh"
   },
   "source": [
    "Before we use them, let's make a normal for loop which prints numbers from 1 to 50."
   ]
  },
  {
   "cell_type": "code",
   "execution_count": 0,
   "metadata": {
    "colab": {
     "base_uri": "https://localhost:8080/",
     "height": 917
    },
    "colab_type": "code",
    "id": "TxDLktElUIx1",
    "outputId": "ed9a14b1-35af-4cac-e1ea-7ee96c892586"
   },
   "outputs": [
    {
     "name": "stdout",
     "output_type": "stream",
     "text": [
      "1\n",
      "2\n",
      "3\n",
      "4\n",
      "5\n",
      "6\n",
      "7\n",
      "8\n",
      "9\n",
      "10\n",
      "11\n",
      "12\n",
      "13\n",
      "14\n",
      "15\n",
      "16\n",
      "17\n",
      "18\n",
      "19\n",
      "20\n",
      "21\n",
      "22\n",
      "23\n",
      "24\n",
      "25\n",
      "26\n",
      "27\n",
      "28\n",
      "29\n",
      "30\n",
      "31\n",
      "32\n",
      "33\n",
      "34\n",
      "35\n",
      "36\n",
      "37\n",
      "38\n",
      "39\n",
      "40\n",
      "41\n",
      "42\n",
      "43\n",
      "44\n",
      "45\n",
      "46\n",
      "47\n",
      "48\n",
      "49\n",
      "50\n"
     ]
    }
   ],
   "source": [
    "for i in range(50):\n",
    "  print(i+1)\n",
    "\n",
    "# Here, i is going from 0 to 49. \n",
    "# Thus to get 1 to 50, we add 1 to i."
   ]
  },
  {
   "cell_type": "markdown",
   "metadata": {
    "colab_type": "text",
    "id": "qpcyvrKWTqA7"
   },
   "source": [
    "### Break"
   ]
  },
  {
   "cell_type": "markdown",
   "metadata": {
    "colab_type": "text",
    "id": "Bvv9AGHZUYQp"
   },
   "source": [
    "Now let's modify our loop above.\n",
    "\n",
    "By calling ```break``` inside of a loop, you are stopping it. Hence, even if there are more iterations to cover, Python will ignore them and move on.\n",
    "\n",
    "So, suppose the user is allowed to set a threshold value for which we can ignore the rest of the numbers above it. For example, if the threshold is set at 20, then the code should only print up to 20.\n",
    "\n",
    "Define a variable to be your threshold based upon the user's input. Then copy and paste your for loop in the cell below. Modify the loop so that when the the iterator is above that threshold, the loop will stop."
   ]
  },
  {
   "cell_type": "code",
   "execution_count": 0,
   "metadata": {
    "colab": {
     "base_uri": "https://localhost:8080/",
     "height": 395
    },
    "colab_type": "code",
    "id": "zt-47G35Vi-Y",
    "outputId": "f031bf71-41c0-4778-c422-9d307c09b33b"
   },
   "outputs": [
    {
     "name": "stdout",
     "output_type": "stream",
     "text": [
      "What is the threshold? 20\n",
      "1\n",
      "2\n",
      "3\n",
      "4\n",
      "5\n",
      "6\n",
      "7\n",
      "8\n",
      "9\n",
      "10\n",
      "11\n",
      "12\n",
      "13\n",
      "14\n",
      "15\n",
      "16\n",
      "17\n",
      "18\n",
      "19\n",
      "20\n"
     ]
    }
   ],
   "source": [
    "# Here we define the variable threshold. The value\n",
    "# is stored by asking for a user input.\n",
    "threshold = int(input(\"What is the threshold? \"))\n",
    "\n",
    "for i in range(50):\n",
    "\n",
    "  # Inside our for loop, we ask if the iteration\n",
    "  # is above our threshold and if so, stop the loop.\n",
    "  if i+1 > threshold:\n",
    "    break\n",
    "  \n",
    "  # If not, then continue printing.\n",
    "  print(i+1)"
   ]
  },
  {
   "cell_type": "markdown",
   "metadata": {
    "colab_type": "text",
    "id": "S-a4FDBqTsCl"
   },
   "source": [
    "### Continue"
   ]
  },
  {
   "cell_type": "markdown",
   "metadata": {
    "colab_type": "text",
    "id": "CD-EVOZtV1Du"
   },
   "source": [
    "Let's modify the original loop in a different way.\n",
    "\n",
    "By calling ```continue``` inside of a loop, it will immediately move on to the next iteration, ignoring all lines that were under it.\n",
    "\n",
    "Suppose we only want to print odd numbers. How can you modify the loop you made in the beginning so that it will ignore the even numbers and print the odd numbers from 1 to 50?\n",
    "\n",
    "Note: there are different ways to do this without using ```continue```, but for the purposes of this exercise, try to incorporate it into your solution."
   ]
  },
  {
   "cell_type": "code",
   "execution_count": 0,
   "metadata": {
    "colab": {
     "base_uri": "https://localhost:8080/",
     "height": 467
    },
    "colab_type": "code",
    "id": "XSSk2-QtXMkN",
    "outputId": "304a5e8e-2069-4f6f-dc6c-3b36038148ac"
   },
   "outputs": [
    {
     "name": "stdout",
     "output_type": "stream",
     "text": [
      "1\n",
      "3\n",
      "5\n",
      "7\n",
      "9\n",
      "11\n",
      "13\n",
      "15\n",
      "17\n",
      "19\n",
      "21\n",
      "23\n",
      "25\n",
      "27\n",
      "29\n",
      "31\n",
      "33\n",
      "35\n",
      "37\n",
      "39\n",
      "41\n",
      "43\n",
      "45\n",
      "47\n",
      "49\n"
     ]
    }
   ],
   "source": [
    "for i in range(50):\n",
    "\n",
    "  # Inside the for loop, we ask if the iteration is even,\n",
    "  # and if so, move on to the next iteration without printing.\n",
    "  if (i+1)%2==0:\n",
    "    continue\n",
    "\n",
    "  # If not, continue printing.\n",
    "  print(i+1)"
   ]
  },
  {
   "cell_type": "markdown",
   "metadata": {
    "colab_type": "text",
    "id": "ezRRiHoQlfJT"
   },
   "source": [
    "## 2. List Comprehension"
   ]
  },
  {
   "cell_type": "markdown",
   "metadata": {
    "colab_type": "text",
    "id": "6pt9ngkolibd"
   },
   "source": [
    "Unlike Java or C, which are \"compiling\" languages, Python is an \"interpretive\" language. In other words, Python will run your code line by line until it reaches the end. In other words, it runs while it reads. Because of this, we want to make the interpreter's job as easy as possible (i.e. make our code as compact as possible). A perfect example of this is when creating lists.\n",
    "\n",
    "Say you want to make an array whose entry is \"Yup!\" if a number is a factor of 41 and \"Nope\" if it is not for every number between 0 and 10,000,000. By this point you'd probably think to make a for loop that contains an if else statement, like such:"
   ]
  },
  {
   "cell_type": "markdown",
   "metadata": {
    "colab_type": "text",
    "id": "DDHHk6XKr56j"
   },
   "source": [
    "```\n",
    "# Don't worry about this; it will return the time to run the code.\n",
    "%%timeit\n",
    "\n",
    "foo = []\n",
    "for i in range(0, 10000000):\n",
    "  if i % 41 == 0:\n",
    "    foo.append('Yup!')\n",
    "  else:\n",
    "    foo.append('Nope')\n",
    "```"
   ]
  },
  {
   "cell_type": "markdown",
   "metadata": {
    "colab_type": "text",
    "id": "mDYr-WQdsCfG"
   },
   "source": [
    "Copy and paste this code and run it to see the output."
   ]
  },
  {
   "cell_type": "code",
   "execution_count": 0,
   "metadata": {
    "colab": {
     "base_uri": "https://localhost:8080/",
     "height": 35
    },
    "colab_type": "code",
    "id": "p4XLvORTKNJQ",
    "outputId": "a65c16b3-bc30-4dbd-fc8e-b0aaf51ccb59"
   },
   "outputs": [
    {
     "name": "stdout",
     "output_type": "stream",
     "text": [
      "1 loop, best of 3: 1.11 s per loop\n"
     ]
    }
   ],
   "source": [
    "# Don't worry about this; it will return the time to run the code.\n",
    "%%timeit\n",
    "\n",
    "# We define our list, which is empty right now.\n",
    "foo = []\n",
    "\n",
    "for i in range(0, 10000000):\n",
    "\n",
    "  # We append 'Yup!' to the list if\n",
    "  # the iterator i is divisible by 41.\n",
    "  if i % 41 == 0:\n",
    "    foo.append('Yup!')\n",
    "\n",
    "  # Otherwise, append 'Nope'.\n",
    "  else:\n",
    "    foo.append('Nope')"
   ]
  },
  {
   "cell_type": "markdown",
   "metadata": {
    "colab_type": "text",
    "id": "UOVsimLLQDIq"
   },
   "source": [
    "But there's a much faster way of doing this using the power of list comprehension!"
   ]
  },
  {
   "cell_type": "markdown",
   "metadata": {
    "colab_type": "text",
    "id": "0b-gXTyssMIr"
   },
   "source": [
    "```\n",
    "%%timeit\n",
    "\n",
    "foo = ['Yup!' if i % 41 == 0 else 'Nope' for i in range(0, 10000000)]\n",
    "```"
   ]
  },
  {
   "cell_type": "markdown",
   "metadata": {
    "colab_type": "text",
    "id": "8cQsPb2dsPSR"
   },
   "source": [
    "Copy and paste this code and run it to see the output. Notice the difference between this and the last cell of code. Which is better?"
   ]
  },
  {
   "cell_type": "code",
   "execution_count": 0,
   "metadata": {
    "colab": {
     "base_uri": "https://localhost:8080/",
     "height": 35
    },
    "colab_type": "code",
    "id": "ztGYW54oKj3a",
    "outputId": "4fc72f13-142a-414d-94c7-2754ac35fe75"
   },
   "outputs": [
    {
     "name": "stdout",
     "output_type": "stream",
     "text": [
      "1 loop, best of 3: 776 ms per loop\n"
     ]
    }
   ],
   "source": [
    "%%timeit\n",
    "\n",
    "# All of that above is equal to this one line.\n",
    "foo = ['Yup!' if i % 41 == 0 else 'Nope' for i in range(0, 10000000)]"
   ]
  },
  {
   "cell_type": "markdown",
   "metadata": {
    "colab_type": "text",
    "id": "_sJ2i2HYQQQD"
   },
   "source": [
    "Not only does it run faster, but it's just nicer to look at. This has taken the long code from above and put it all into one line. And it reads like english: foo is a list with 'Yup!' if i modulo 41 is 0, or 'Nope' if not, for i in the range 0 to 100000000.\n",
    "\n",
    "Note: There is an order for the conditionals and for loop:\n",
    "\n",
    "1. for\n",
    "2. for if\n",
    "3. if else for\n",
    "\n",
    "Thus for example, ```[x for x in range(5) if x != 2 else 3]``` would *not* work.\n",
    "\n",
    "Using list comprehension, make an array that is the square of every number between 0 and 1,000."
   ]
  },
  {
   "cell_type": "code",
   "execution_count": 0,
   "metadata": {
    "colab": {
     "base_uri": "https://localhost:8080/",
     "height": 55
    },
    "colab_type": "code",
    "id": "ivTZBWqyRQuU",
    "outputId": "6f222f65-cd95-427c-87e7-b7ec44070f59"
   },
   "outputs": [
    {
     "name": "stdout",
     "output_type": "stream",
     "text": [
      "[0, 1, 4, 9, 16, 25, 36, 49, 64, 81, 100, 121, 144, 169, 196, 225, 256, 289, 324, 361, 400, 441, 484, 529, 576, 625, 676, 729, 784, 841, 900, 961, 1024, 1089, 1156, 1225, 1296, 1369, 1444, 1521, 1600, 1681, 1764, 1849, 1936, 2025, 2116, 2209, 2304, 2401, 2500, 2601, 2704, 2809, 2916, 3025, 3136, 3249, 3364, 3481, 3600, 3721, 3844, 3969, 4096, 4225, 4356, 4489, 4624, 4761, 4900, 5041, 5184, 5329, 5476, 5625, 5776, 5929, 6084, 6241, 6400, 6561, 6724, 6889, 7056, 7225, 7396, 7569, 7744, 7921, 8100, 8281, 8464, 8649, 8836, 9025, 9216, 9409, 9604, 9801, 10000, 10201, 10404, 10609, 10816, 11025, 11236, 11449, 11664, 11881, 12100, 12321, 12544, 12769, 12996, 13225, 13456, 13689, 13924, 14161, 14400, 14641, 14884, 15129, 15376, 15625, 15876, 16129, 16384, 16641, 16900, 17161, 17424, 17689, 17956, 18225, 18496, 18769, 19044, 19321, 19600, 19881, 20164, 20449, 20736, 21025, 21316, 21609, 21904, 22201, 22500, 22801, 23104, 23409, 23716, 24025, 24336, 24649, 24964, 25281, 25600, 25921, 26244, 26569, 26896, 27225, 27556, 27889, 28224, 28561, 28900, 29241, 29584, 29929, 30276, 30625, 30976, 31329, 31684, 32041, 32400, 32761, 33124, 33489, 33856, 34225, 34596, 34969, 35344, 35721, 36100, 36481, 36864, 37249, 37636, 38025, 38416, 38809, 39204, 39601, 40000, 40401, 40804, 41209, 41616, 42025, 42436, 42849, 43264, 43681, 44100, 44521, 44944, 45369, 45796, 46225, 46656, 47089, 47524, 47961, 48400, 48841, 49284, 49729, 50176, 50625, 51076, 51529, 51984, 52441, 52900, 53361, 53824, 54289, 54756, 55225, 55696, 56169, 56644, 57121, 57600, 58081, 58564, 59049, 59536, 60025, 60516, 61009, 61504, 62001, 62500, 63001, 63504, 64009, 64516, 65025, 65536, 66049, 66564, 67081, 67600, 68121, 68644, 69169, 69696, 70225, 70756, 71289, 71824, 72361, 72900, 73441, 73984, 74529, 75076, 75625, 76176, 76729, 77284, 77841, 78400, 78961, 79524, 80089, 80656, 81225, 81796, 82369, 82944, 83521, 84100, 84681, 85264, 85849, 86436, 87025, 87616, 88209, 88804, 89401, 90000, 90601, 91204, 91809, 92416, 93025, 93636, 94249, 94864, 95481, 96100, 96721, 97344, 97969, 98596, 99225, 99856, 100489, 101124, 101761, 102400, 103041, 103684, 104329, 104976, 105625, 106276, 106929, 107584, 108241, 108900, 109561, 110224, 110889, 111556, 112225, 112896, 113569, 114244, 114921, 115600, 116281, 116964, 117649, 118336, 119025, 119716, 120409, 121104, 121801, 122500, 123201, 123904, 124609, 125316, 126025, 126736, 127449, 128164, 128881, 129600, 130321, 131044, 131769, 132496, 133225, 133956, 134689, 135424, 136161, 136900, 137641, 138384, 139129, 139876, 140625, 141376, 142129, 142884, 143641, 144400, 145161, 145924, 146689, 147456, 148225, 148996, 149769, 150544, 151321, 152100, 152881, 153664, 154449, 155236, 156025, 156816, 157609, 158404, 159201, 160000, 160801, 161604, 162409, 163216, 164025, 164836, 165649, 166464, 167281, 168100, 168921, 169744, 170569, 171396, 172225, 173056, 173889, 174724, 175561, 176400, 177241, 178084, 178929, 179776, 180625, 181476, 182329, 183184, 184041, 184900, 185761, 186624, 187489, 188356, 189225, 190096, 190969, 191844, 192721, 193600, 194481, 195364, 196249, 197136, 198025, 198916, 199809, 200704, 201601, 202500, 203401, 204304, 205209, 206116, 207025, 207936, 208849, 209764, 210681, 211600, 212521, 213444, 214369, 215296, 216225, 217156, 218089, 219024, 219961, 220900, 221841, 222784, 223729, 224676, 225625, 226576, 227529, 228484, 229441, 230400, 231361, 232324, 233289, 234256, 235225, 236196, 237169, 238144, 239121, 240100, 241081, 242064, 243049, 244036, 245025, 246016, 247009, 248004, 249001, 250000, 251001, 252004, 253009, 254016, 255025, 256036, 257049, 258064, 259081, 260100, 261121, 262144, 263169, 264196, 265225, 266256, 267289, 268324, 269361, 270400, 271441, 272484, 273529, 274576, 275625, 276676, 277729, 278784, 279841, 280900, 281961, 283024, 284089, 285156, 286225, 287296, 288369, 289444, 290521, 291600, 292681, 293764, 294849, 295936, 297025, 298116, 299209, 300304, 301401, 302500, 303601, 304704, 305809, 306916, 308025, 309136, 310249, 311364, 312481, 313600, 314721, 315844, 316969, 318096, 319225, 320356, 321489, 322624, 323761, 324900, 326041, 327184, 328329, 329476, 330625, 331776, 332929, 334084, 335241, 336400, 337561, 338724, 339889, 341056, 342225, 343396, 344569, 345744, 346921, 348100, 349281, 350464, 351649, 352836, 354025, 355216, 356409, 357604, 358801, 360000, 361201, 362404, 363609, 364816, 366025, 367236, 368449, 369664, 370881, 372100, 373321, 374544, 375769, 376996, 378225, 379456, 380689, 381924, 383161, 384400, 385641, 386884, 388129, 389376, 390625, 391876, 393129, 394384, 395641, 396900, 398161, 399424, 400689, 401956, 403225, 404496, 405769, 407044, 408321, 409600, 410881, 412164, 413449, 414736, 416025, 417316, 418609, 419904, 421201, 422500, 423801, 425104, 426409, 427716, 429025, 430336, 431649, 432964, 434281, 435600, 436921, 438244, 439569, 440896, 442225, 443556, 444889, 446224, 447561, 448900, 450241, 451584, 452929, 454276, 455625, 456976, 458329, 459684, 461041, 462400, 463761, 465124, 466489, 467856, 469225, 470596, 471969, 473344, 474721, 476100, 477481, 478864, 480249, 481636, 483025, 484416, 485809, 487204, 488601, 490000, 491401, 492804, 494209, 495616, 497025, 498436, 499849, 501264, 502681, 504100, 505521, 506944, 508369, 509796, 511225, 512656, 514089, 515524, 516961, 518400, 519841, 521284, 522729, 524176, 525625, 527076, 528529, 529984, 531441, 532900, 534361, 535824, 537289, 538756, 540225, 541696, 543169, 544644, 546121, 547600, 549081, 550564, 552049, 553536, 555025, 556516, 558009, 559504, 561001, 562500, 564001, 565504, 567009, 568516, 570025, 571536, 573049, 574564, 576081, 577600, 579121, 580644, 582169, 583696, 585225, 586756, 588289, 589824, 591361, 592900, 594441, 595984, 597529, 599076, 600625, 602176, 603729, 605284, 606841, 608400, 609961, 611524, 613089, 614656, 616225, 617796, 619369, 620944, 622521, 624100, 625681, 627264, 628849, 630436, 632025, 633616, 635209, 636804, 638401, 640000, 641601, 643204, 644809, 646416, 648025, 649636, 651249, 652864, 654481, 656100, 657721, 659344, 660969, 662596, 664225, 665856, 667489, 669124, 670761, 672400, 674041, 675684, 677329, 678976, 680625, 682276, 683929, 685584, 687241, 688900, 690561, 692224, 693889, 695556, 697225, 698896, 700569, 702244, 703921, 705600, 707281, 708964, 710649, 712336, 714025, 715716, 717409, 719104, 720801, 722500, 724201, 725904, 727609, 729316, 731025, 732736, 734449, 736164, 737881, 739600, 741321, 743044, 744769, 746496, 748225, 749956, 751689, 753424, 755161, 756900, 758641, 760384, 762129, 763876, 765625, 767376, 769129, 770884, 772641, 774400, 776161, 777924, 779689, 781456, 783225, 784996, 786769, 788544, 790321, 792100, 793881, 795664, 797449, 799236, 801025, 802816, 804609, 806404, 808201, 810000, 811801, 813604, 815409, 817216, 819025, 820836, 822649, 824464, 826281, 828100, 829921, 831744, 833569, 835396, 837225, 839056, 840889, 842724, 844561, 846400, 848241, 850084, 851929, 853776, 855625, 857476, 859329, 861184, 863041, 864900, 866761, 868624, 870489, 872356, 874225, 876096, 877969, 879844, 881721, 883600, 885481, 887364, 889249, 891136, 893025, 894916, 896809, 898704, 900601, 902500, 904401, 906304, 908209, 910116, 912025, 913936, 915849, 917764, 919681, 921600, 923521, 925444, 927369, 929296, 931225, 933156, 935089, 937024, 938961, 940900, 942841, 944784, 946729, 948676, 950625, 952576, 954529, 956484, 958441, 960400, 962361, 964324, 966289, 968256, 970225, 972196, 974169, 976144, 978121, 980100, 982081, 984064, 986049, 988036, 990025, 992016, 994009, 996004, 998001, 1000000]\n"
     ]
    }
   ],
   "source": [
    "# Same as above, it reads like english:\n",
    "# our list is i**2 for i = 0, 1, 2, ..., 999, 1000.\n",
    "square_array = [i**2 for i in range(1001)]\n",
    "print(square_array)"
   ]
  },
  {
   "cell_type": "markdown",
   "metadata": {
    "colab_type": "text",
    "id": "ifNQwfaNRwbk"
   },
   "source": [
    "Now let's try conditionals. Let's look for all the integer squares between 0 and 1,000,000! Using list comprehension, make a list of all numbers whose square root is an integer (hint: An integer n will have n % 1 == 0)"
   ]
  },
  {
   "cell_type": "code",
   "execution_count": 0,
   "metadata": {
    "colab": {
     "base_uri": "https://localhost:8080/",
     "height": 55
    },
    "colab_type": "code",
    "id": "YrWr7FwuTmCD",
    "outputId": "e942d5f2-b979-4ae3-bf71-eb8082d585f3"
   },
   "outputs": [
    {
     "name": "stdout",
     "output_type": "stream",
     "text": [
      "[0, 1, 4, 9, 16, 25, 36, 49, 64, 81, 100, 121, 144, 169, 196, 225, 256, 289, 324, 361, 400, 441, 484, 529, 576, 625, 676, 729, 784, 841, 900, 961, 1024, 1089, 1156, 1225, 1296, 1369, 1444, 1521, 1600, 1681, 1764, 1849, 1936, 2025, 2116, 2209, 2304, 2401, 2500, 2601, 2704, 2809, 2916, 3025, 3136, 3249, 3364, 3481, 3600, 3721, 3844, 3969, 4096, 4225, 4356, 4489, 4624, 4761, 4900, 5041, 5184, 5329, 5476, 5625, 5776, 5929, 6084, 6241, 6400, 6561, 6724, 6889, 7056, 7225, 7396, 7569, 7744, 7921, 8100, 8281, 8464, 8649, 8836, 9025, 9216, 9409, 9604, 9801, 10000, 10201, 10404, 10609, 10816, 11025, 11236, 11449, 11664, 11881, 12100, 12321, 12544, 12769, 12996, 13225, 13456, 13689, 13924, 14161, 14400, 14641, 14884, 15129, 15376, 15625, 15876, 16129, 16384, 16641, 16900, 17161, 17424, 17689, 17956, 18225, 18496, 18769, 19044, 19321, 19600, 19881, 20164, 20449, 20736, 21025, 21316, 21609, 21904, 22201, 22500, 22801, 23104, 23409, 23716, 24025, 24336, 24649, 24964, 25281, 25600, 25921, 26244, 26569, 26896, 27225, 27556, 27889, 28224, 28561, 28900, 29241, 29584, 29929, 30276, 30625, 30976, 31329, 31684, 32041, 32400, 32761, 33124, 33489, 33856, 34225, 34596, 34969, 35344, 35721, 36100, 36481, 36864, 37249, 37636, 38025, 38416, 38809, 39204, 39601, 40000, 40401, 40804, 41209, 41616, 42025, 42436, 42849, 43264, 43681, 44100, 44521, 44944, 45369, 45796, 46225, 46656, 47089, 47524, 47961, 48400, 48841, 49284, 49729, 50176, 50625, 51076, 51529, 51984, 52441, 52900, 53361, 53824, 54289, 54756, 55225, 55696, 56169, 56644, 57121, 57600, 58081, 58564, 59049, 59536, 60025, 60516, 61009, 61504, 62001, 62500, 63001, 63504, 64009, 64516, 65025, 65536, 66049, 66564, 67081, 67600, 68121, 68644, 69169, 69696, 70225, 70756, 71289, 71824, 72361, 72900, 73441, 73984, 74529, 75076, 75625, 76176, 76729, 77284, 77841, 78400, 78961, 79524, 80089, 80656, 81225, 81796, 82369, 82944, 83521, 84100, 84681, 85264, 85849, 86436, 87025, 87616, 88209, 88804, 89401, 90000, 90601, 91204, 91809, 92416, 93025, 93636, 94249, 94864, 95481, 96100, 96721, 97344, 97969, 98596, 99225, 99856, 100489, 101124, 101761, 102400, 103041, 103684, 104329, 104976, 105625, 106276, 106929, 107584, 108241, 108900, 109561, 110224, 110889, 111556, 112225, 112896, 113569, 114244, 114921, 115600, 116281, 116964, 117649, 118336, 119025, 119716, 120409, 121104, 121801, 122500, 123201, 123904, 124609, 125316, 126025, 126736, 127449, 128164, 128881, 129600, 130321, 131044, 131769, 132496, 133225, 133956, 134689, 135424, 136161, 136900, 137641, 138384, 139129, 139876, 140625, 141376, 142129, 142884, 143641, 144400, 145161, 145924, 146689, 147456, 148225, 148996, 149769, 150544, 151321, 152100, 152881, 153664, 154449, 155236, 156025, 156816, 157609, 158404, 159201, 160000, 160801, 161604, 162409, 163216, 164025, 164836, 165649, 166464, 167281, 168100, 168921, 169744, 170569, 171396, 172225, 173056, 173889, 174724, 175561, 176400, 177241, 178084, 178929, 179776, 180625, 181476, 182329, 183184, 184041, 184900, 185761, 186624, 187489, 188356, 189225, 190096, 190969, 191844, 192721, 193600, 194481, 195364, 196249, 197136, 198025, 198916, 199809, 200704, 201601, 202500, 203401, 204304, 205209, 206116, 207025, 207936, 208849, 209764, 210681, 211600, 212521, 213444, 214369, 215296, 216225, 217156, 218089, 219024, 219961, 220900, 221841, 222784, 223729, 224676, 225625, 226576, 227529, 228484, 229441, 230400, 231361, 232324, 233289, 234256, 235225, 236196, 237169, 238144, 239121, 240100, 241081, 242064, 243049, 244036, 245025, 246016, 247009, 248004, 249001, 250000, 251001, 252004, 253009, 254016, 255025, 256036, 257049, 258064, 259081, 260100, 261121, 262144, 263169, 264196, 265225, 266256, 267289, 268324, 269361, 270400, 271441, 272484, 273529, 274576, 275625, 276676, 277729, 278784, 279841, 280900, 281961, 283024, 284089, 285156, 286225, 287296, 288369, 289444, 290521, 291600, 292681, 293764, 294849, 295936, 297025, 298116, 299209, 300304, 301401, 302500, 303601, 304704, 305809, 306916, 308025, 309136, 310249, 311364, 312481, 313600, 314721, 315844, 316969, 318096, 319225, 320356, 321489, 322624, 323761, 324900, 326041, 327184, 328329, 329476, 330625, 331776, 332929, 334084, 335241, 336400, 337561, 338724, 339889, 341056, 342225, 343396, 344569, 345744, 346921, 348100, 349281, 350464, 351649, 352836, 354025, 355216, 356409, 357604, 358801, 360000, 361201, 362404, 363609, 364816, 366025, 367236, 368449, 369664, 370881, 372100, 373321, 374544, 375769, 376996, 378225, 379456, 380689, 381924, 383161, 384400, 385641, 386884, 388129, 389376, 390625, 391876, 393129, 394384, 395641, 396900, 398161, 399424, 400689, 401956, 403225, 404496, 405769, 407044, 408321, 409600, 410881, 412164, 413449, 414736, 416025, 417316, 418609, 419904, 421201, 422500, 423801, 425104, 426409, 427716, 429025, 430336, 431649, 432964, 434281, 435600, 436921, 438244, 439569, 440896, 442225, 443556, 444889, 446224, 447561, 448900, 450241, 451584, 452929, 454276, 455625, 456976, 458329, 459684, 461041, 462400, 463761, 465124, 466489, 467856, 469225, 470596, 471969, 473344, 474721, 476100, 477481, 478864, 480249, 481636, 483025, 484416, 485809, 487204, 488601, 490000, 491401, 492804, 494209, 495616, 497025, 498436, 499849, 501264, 502681, 504100, 505521, 506944, 508369, 509796, 511225, 512656, 514089, 515524, 516961, 518400, 519841, 521284, 522729, 524176, 525625, 527076, 528529, 529984, 531441, 532900, 534361, 535824, 537289, 538756, 540225, 541696, 543169, 544644, 546121, 547600, 549081, 550564, 552049, 553536, 555025, 556516, 558009, 559504, 561001, 562500, 564001, 565504, 567009, 568516, 570025, 571536, 573049, 574564, 576081, 577600, 579121, 580644, 582169, 583696, 585225, 586756, 588289, 589824, 591361, 592900, 594441, 595984, 597529, 599076, 600625, 602176, 603729, 605284, 606841, 608400, 609961, 611524, 613089, 614656, 616225, 617796, 619369, 620944, 622521, 624100, 625681, 627264, 628849, 630436, 632025, 633616, 635209, 636804, 638401, 640000, 641601, 643204, 644809, 646416, 648025, 649636, 651249, 652864, 654481, 656100, 657721, 659344, 660969, 662596, 664225, 665856, 667489, 669124, 670761, 672400, 674041, 675684, 677329, 678976, 680625, 682276, 683929, 685584, 687241, 688900, 690561, 692224, 693889, 695556, 697225, 698896, 700569, 702244, 703921, 705600, 707281, 708964, 710649, 712336, 714025, 715716, 717409, 719104, 720801, 722500, 724201, 725904, 727609, 729316, 731025, 732736, 734449, 736164, 737881, 739600, 741321, 743044, 744769, 746496, 748225, 749956, 751689, 753424, 755161, 756900, 758641, 760384, 762129, 763876, 765625, 767376, 769129, 770884, 772641, 774400, 776161, 777924, 779689, 781456, 783225, 784996, 786769, 788544, 790321, 792100, 793881, 795664, 797449, 799236, 801025, 802816, 804609, 806404, 808201, 810000, 811801, 813604, 815409, 817216, 819025, 820836, 822649, 824464, 826281, 828100, 829921, 831744, 833569, 835396, 837225, 839056, 840889, 842724, 844561, 846400, 848241, 850084, 851929, 853776, 855625, 857476, 859329, 861184, 863041, 864900, 866761, 868624, 870489, 872356, 874225, 876096, 877969, 879844, 881721, 883600, 885481, 887364, 889249, 891136, 893025, 894916, 896809, 898704, 900601, 902500, 904401, 906304, 908209, 910116, 912025, 913936, 915849, 917764, 919681, 921600, 923521, 925444, 927369, 929296, 931225, 933156, 935089, 937024, 938961, 940900, 942841, 944784, 946729, 948676, 950625, 952576, 954529, 956484, 958441, 960400, 962361, 964324, 966289, 968256, 970225, 972196, 974169, 976144, 978121, 980100, 982081, 984064, 986049, 988036, 990025, 992016, 994009, 996004, 998001, 1000000]\n"
     ]
    }
   ],
   "source": [
    "perfect_square_array = [i for i in range(1000001) if i**0.5 % 1 == 0]\n",
    "print(perfect_square_array)"
   ]
  },
  {
   "cell_type": "markdown",
   "metadata": {
    "colab_type": "text",
    "id": "04xgA0P-OFCC"
   },
   "source": [
    "## 3. Functions"
   ]
  },
  {
   "cell_type": "markdown",
   "metadata": {
    "colab_type": "text",
    "id": "BkgNf-tRHnD3"
   },
   "source": [
    "Let's refine our use of functions. Functions are used to either give a result, or to do something. "
   ]
  },
  {
   "cell_type": "markdown",
   "metadata": {
    "colab_type": "text",
    "id": "agMbDjymHrLT"
   },
   "source": [
    "### Returns"
   ]
  },
  {
   "cell_type": "markdown",
   "metadata": {
    "colab_type": "text",
    "id": "qxq7NGSmOPqH"
   },
   "source": [
    "For a function to give a result, use *return*. For example:\n",
    "```\n",
    "def f(x):\n",
    "  return x\n",
    "```\n",
    "will give back whatever is put into it, ie. f(2)=2, f('hi')='hi', etc.\n",
    "\n",
    "Write a function that calculates (and returns) the hypotenuse of a right triangle when given the side lengths. Test it out by printing the hypotenuse of a triangle with side lengths 3 and 4 (ans: 5). Try it for other side lengths.\n",
    "\n",
    "Store the function output into a variable.\n",
    "\n",
    "\n"
   ]
  },
  {
   "cell_type": "code",
   "execution_count": 0,
   "metadata": {
    "colab": {
     "base_uri": "https://localhost:8080/",
     "height": 53
    },
    "colab_type": "code",
    "id": "o2_9wzBZPwP1",
    "outputId": "7b341a81-e430-4848-c3fd-2198b283c79f"
   },
   "outputs": [
    {
     "name": "stdout",
     "output_type": "stream",
     "text": [
      "5.0\n",
      "3.8340057381282047\n"
     ]
    }
   ],
   "source": [
    "# Define the function with parameters a and b (which\n",
    "# are the side lengths) and return Pythagorean theorem.\n",
    "def hyp(a, b):\n",
    "  return (a**2+b**2)**0.5\n",
    "\n",
    "# hyp(3,4) will return the hypotenuse, then we print it.\n",
    "print(hyp(3,4))\n",
    "\n",
    "# Here, we store the output of the function, which is the\n",
    "# hypotenuse, into a variable. Now we can call the hypotenuse\n",
    "# without using the function.\n",
    "hyp_var = hyp(2.2,3.14)\n",
    "print(hyp_var)"
   ]
  },
  {
   "cell_type": "markdown",
   "metadata": {
    "colab_type": "text",
    "id": "Nx9VzCprHugW"
   },
   "source": [
    "### No Returns"
   ]
  },
  {
   "cell_type": "markdown",
   "metadata": {
    "colab_type": "text",
    "id": "MN02k10VQIJ8"
   },
   "source": [
    "A function does not require a return. It can just do things. For example:\n",
    "```\n",
    "def f(x):\n",
    "  print('hello world' + str(x))\n",
    "```\n",
    "Create this function and store a variable to the output (same way as the last problem), then print the variable. Does this make sense?"
   ]
  },
  {
   "cell_type": "code",
   "execution_count": 0,
   "metadata": {
    "colab": {
     "base_uri": "https://localhost:8080/",
     "height": 53
    },
    "colab_type": "code",
    "id": "uBl9s5H_Sc16",
    "outputId": "07681917-7470-4509-beab-8ebc77abd48a"
   },
   "outputs": [
    {
     "name": "stdout",
     "output_type": "stream",
     "text": [
      "hello worldtwo\n",
      "None\n"
     ]
    }
   ],
   "source": [
    "# Define the function with parameter x, and\n",
    "# do not have a return.\n",
    "def f(x):\n",
    "  print('hello world' + str(x))\n",
    "\n",
    "# The function does what we told it to do,\n",
    "# but foo is not storing anything since\n",
    "# the function doesn't return anything.\n",
    "foo = f('two')\n",
    "print(foo)"
   ]
  },
  {
   "cell_type": "markdown",
   "metadata": {
    "colab_type": "text",
    "id": "IIOuEDaKSywp"
   },
   "source": [
    "Create a function that plots any given function for any given range. It should also be given labels and a title, but default to none if they aren't given (Recall how to initialize function parameters). \n",
    "\n",
    "Use it to plot a log function from 1 to 100. Or plot whatever function you want. Test out the title and labels in your function."
   ]
  },
  {
   "cell_type": "code",
   "execution_count": 0,
   "metadata": {
    "colab": {
     "base_uri": "https://localhost:8080/",
     "height": 281
    },
    "colab_type": "code",
    "id": "VTesIaBATxdu",
    "outputId": "74729805-709b-4704-d83e-556a513bc1b4"
   },
   "outputs": [
    {
     "data": {
      "image/png": "[encoded data removed]",
      "text/plain": [
       "<Figure size 432x288 with 1 Axes>"
      ]
     },
     "metadata": {
      "tags": []
     },
     "output_type": "display_data"
    }
   ],
   "source": [
    "# Import these packages if we haven't already.\n",
    "import numpy as np\n",
    "import matplotlib.pyplot as plt\n",
    "\n",
    "# Our function will plot x vs func and have a title,\n",
    "# xlabel, and ylabel if given.\n",
    "def f(x, func, xlabel=None, ylabel=None, title=None):\n",
    "  plt.plot(x, func)\n",
    "  plt.title(title)\n",
    "  plt.xlabel(xlabel)\n",
    "  plt.ylabel(ylabel)\n",
    "\n",
    "# Here is the function and range we're using.\n",
    "x = np.linspace(1, 100, 1000)\n",
    "y = np.log(x)\n",
    "title = 'log'\n",
    "\n",
    "# Call the function and give it a title. But \n",
    "# don't label the axes.\n",
    "f(x, y, title=title)"
   ]
  },
  {
   "cell_type": "markdown",
   "metadata": {
    "colab_type": "text",
    "id": "nstt8dVPH03B"
   },
   "source": [
    "### Multiple Returns"
   ]
  },
  {
   "cell_type": "markdown",
   "metadata": {
    "colab_type": "text",
    "id": "klkXSYkqX4VI"
   },
   "source": [
    "Suppose you need to write a function that returns more than one value. To do this, have the function return a list, tuple, or anything list-like (convention for multiple output is tuples). Then it is possible to assign multiple variables at once to the output. For example:\n",
    "```\n",
    "def f(x):\n",
    "  return (x, x+1, x+2)\n",
    "a, b, c = f(1)\n",
    "```\n",
    "will have *a=1*, *b=2*, and *c=3* all in one line.\n",
    "\n"
   ]
  },
  {
   "cell_type": "markdown",
   "metadata": {
    "colab_type": "text",
    "id": "3AIQ7WWIrNHT"
   },
   "source": [
    "Side note: You can also assign multiple variables in one line like this:\n",
    "\n",
    "```a, b, c = 1, 2, 3```"
   ]
  },
  {
   "cell_type": "markdown",
   "metadata": {
    "colab_type": "text",
    "id": "DCNTORy4fFGm"
   },
   "source": [
    "Write a function which when given a frequency and index of refraction, calculates and returns three values: wavelength, wave speed, wave energy. Then store three variables as the outputs.\n",
    "\n",
    "Useful Equations:\n",
    "\n",
    "> Wave Speed: $v = \\frac{c}{n}$\n",
    "\n",
    "> Wavelength: $\\lambda = \\frac{c}{fn}$\n",
    "\n",
    "> Wave energy: $E = hf$\n",
    "\n",
    "where *f* is the frequency, *n* is the index of refraction, *c = $3*10^8 m s^{-1}$* is the speed of light in vacuum, and *h = $6.6*10^{-34} m^2 \\text{kg } s^{-1}$* is Planck's constant. Don't worry about the units for now.\n",
    "\n",
    "Test the function out for a frequency of $10^{16}$ Hz and index of refraction $1.5$."
   ]
  },
  {
   "cell_type": "code",
   "execution_count": 0,
   "metadata": {
    "colab": {
     "base_uri": "https://localhost:8080/",
     "height": 35
    },
    "colab_type": "code",
    "id": "D1WMODsGZbdY",
    "outputId": "35abe85d-e4a2-4812-fca0-8cfe0d739d6a"
   },
   "outputs": [
    {
     "name": "stdout",
     "output_type": "stream",
     "text": [
      "v = 2.00e+08, L = 2.00e-08, E = 6.60e-18.\n"
     ]
    }
   ],
   "source": [
    "# Define the function and return the tuple containing \n",
    "# each equation above to calculate what we want.\n",
    "def wave(f,n):\n",
    "  c = 3*10**8\n",
    "  h = 6.6*10**(-34)\n",
    "  return (c/n, c/(f*n), h*f)\n",
    "\n",
    "# Store each output into its own variable.\n",
    "v, l, E = wave(1*10**16, 1.5)\n",
    "print(r'v = {0:.2e}, L = {1:.2e}, E = {2:.2e}.'.format(v, l, E))\n",
    "# String formatting as shown above is explained later in this notebook."
   ]
  },
  {
   "cell_type": "markdown",
   "metadata": {
    "colab_type": "text",
    "id": "sO9S1vt7f5hQ"
   },
   "source": [
    "Suppose you only wanted the first two outputs. It is not required that you store a variable to a value you don't want. BUT you must indicate that you are ignoring it by storing it to an underscore. For example:\n",
    "\n",
    "```a, b, _ = f(1)```\n",
    "\n",
    "will only store values in *a* and *b* and ignore the third output.\n",
    "\n",
    "If there are multiple outputs that you want to ignore, you can use *_. For example:\n",
    "\n",
    "```a, *_ = f(1)```\n",
    "\n",
    "will only store a value in *a* and ignore all the outputs after. But note that *_ must be used last.\n",
    "\n",
    "Using the function you defined above, store only the second output to a variable."
   ]
  },
  {
   "cell_type": "code",
   "execution_count": 0,
   "metadata": {
    "colab": {},
    "colab_type": "code",
    "id": "vatmwSxXg_Jt"
   },
   "outputs": [],
   "source": [
    "_, l, *_ = wave(1*10**16, 1.5)"
   ]
  },
  {
   "cell_type": "markdown",
   "metadata": {
    "colab_type": "text",
    "id": "ldeiqdVJg_qx"
   },
   "source": [
    "There is another way to return only a selection of outputs. This is useful if you only want to use a certain return value but not store it to a variable. To do this, treat the function as a list and call it element wise using square brackets [ ]. For example:\n",
    "\n",
    "```x = 3*f(1)[2]```\n",
    "\n",
    "will store three times the third return of *f(1)* (third since indexing starts at 0).\n",
    "\n",
    "Define a function which returns for a given range the functions: cosine, sine, exponential, and log10 all at once.\n",
    "\n",
    "Then separately, plot only the log10 function over that range."
   ]
  },
  {
   "cell_type": "code",
   "execution_count": 0,
   "metadata": {
    "colab": {
     "base_uri": "https://localhost:8080/",
     "height": 283
    },
    "colab_type": "code",
    "id": "zvyObt9AiJTt",
    "outputId": "bab2a9e6-5f7c-4486-b4e4-b31b4a6cb64f"
   },
   "outputs": [
    {
     "data": {
      "text/plain": [
       "[<matplotlib.lines.Line2D at 0x7fcd6287cb00>]"
      ]
     },
     "execution_count": 20,
     "metadata": {
      "tags": []
     },
     "output_type": "execute_result"
    },
    {
     "data": {
      "image/png": "[encoded data removed]",
      "text/plain": [
       "<Figure size 432x288 with 1 Axes>"
      ]
     },
     "metadata": {
      "tags": []
     },
     "output_type": "display_data"
    }
   ],
   "source": [
    "# Define a function that takes in a range and \n",
    "# returns the cosine, sine, and log10 functions.\n",
    "def func(x):\n",
    "  return (np.cos(x), np.sin(x), np.exp(x), np.log10(x))\n",
    "\n",
    "# Make a range and plot the third function (log10).\n",
    "x = np.linspace(1,10, 100)\n",
    "plt.plot(x, func(x)[3])"
   ]
  },
  {
   "cell_type": "markdown",
   "metadata": {
    "colab_type": "text",
    "id": "_iawUjU6h0QO"
   },
   "source": [
    "## 4. String Formatting"
   ]
  },
  {
   "cell_type": "markdown",
   "metadata": {
    "colab_type": "text",
    "id": "VXLuUDn9h4lq"
   },
   "source": [
    "It is very likely that there are times where you would like to print out a value in the middle of a string. Perhaps you would like to print this value to a certain precision, or in a specific way such as scientific notation. String formatting solves all of this and more. There are a few different ways to do string formatting. Here, we will use the ```str.format()``` method.\n",
    "\n",
    "The syntax goes as\n",
    "\n",
    "```\"x = {0:0.3f} and y = {1:0.1f}. Also my name is {2}, and I am {3:0.0f} years old.\".format(x_value, y_value, name, age)```\n",
    "\n",
    "where we have a string given by \" \" and format() is a method of the string (so we use \" \".format()) and everything inside of the ```format()``` is variable and can change. Inside the brackets { } will change the display of the corresponding value. The first number is their key, which matches the argument number in ```format()```. So the first one will use ```x_value``` and display it to 3 decimal places. The second will use ```y_value``` and display it to 1 decimal place. The third will take ```name``` as it is. And the last uses ```age``` displayed as an integer.\n",
    "\n",
    "Try it out:\n",
    "\n",
    "1. Print the result of the hypotenuse function so that the program outputs \"For a triangle with sides length _ and _, its hypotnuse is _\".\n",
    "2. Create a for loop which loops through a list of name and age pairs and outputs \"My name is _ and I am _ years old\"\n",
    "3. Try using it in the rest of the exercises to print your results more clearly\n",
    "\n",
    "Find more information on string formatting here: \n",
    "\n",
    "> https://www.geeksforgeeks.org/python-format-function/"
   ]
  },
  {
   "cell_type": "code",
   "execution_count": 0,
   "metadata": {
    "colab": {
     "base_uri": "https://localhost:8080/",
     "height": 89
    },
    "colab_type": "code",
    "id": "LmrqLdUCkJ-m",
    "outputId": "1784449d-3031-4e7d-9e32-bb3ef9164102"
   },
   "outputs": [
    {
     "name": "stdout",
     "output_type": "stream",
     "text": [
      "For a triangle with sides length 3 and 4.00, its hypotnuse is 5.00\n",
      "My name is john and I am 20 years old.\n",
      "My name is zack and I am 21 years old.\n",
      "My name is devin and I am 100 years old.\n"
     ]
    }
   ],
   "source": [
    "# Define side lengths to put into the hypotenuse function from earlier.\n",
    "side_a = 3\n",
    "side_b = 4\n",
    "\n",
    "# Here we format the string as stated above. The hypotenuse value is given by the function from earlier.\n",
    "print(\"For a triangle with sides length {0:0.0f} and {1:0.2f}, its hypotnuse is {2:0.2f}\".format(side_a, side_b, hyp(side_a, side_b)))\n",
    "\n",
    "# Define a list of pairs of names and ages.\n",
    "name_age = [(\"john\", 20), (\"zack\", 21), (\"devin\", 100)]\n",
    "\n",
    "# Then print using string formatting the names and ages above.\n",
    "for person in name_age:\n",
    "  print(\"My name is {0} and I am {1} years old.\".format(person[0], person[1]))"
   ]
  },
  {
   "cell_type": "markdown",
   "metadata": {
    "colab_type": "text",
    "id": "-nfnf7NOW0qN"
   },
   "source": [
    "## 5. More on Plotting"
   ]
  },
  {
   "cell_type": "markdown",
   "metadata": {
    "colab_type": "text",
    "id": "P9pqmcHtjaDk"
   },
   "source": [
    "Let's take a look at more ways we can improve our plots. (These are common tips for improvement. We will not look at how to do different types of plots. Whenever you encounter the problem of needing to do a specific type of plot, the power of google will have to be used.)"
   ]
  },
  {
   "cell_type": "markdown",
   "metadata": {
    "colab_type": "text",
    "id": "ZSVbS51_5xdu"
   },
   "source": [
    "### Figures"
   ]
  },
  {
   "cell_type": "markdown",
   "metadata": {
    "colab_type": "text",
    "id": "QDNdqWou5wkG"
   },
   "source": [
    "First, let's define the data we'll use to plot. Create one or two arrays that we can use to plot sine from 0 to 2$\\pi$. Then plot it."
   ]
  },
  {
   "cell_type": "code",
   "execution_count": 0,
   "metadata": {
    "colab": {
     "base_uri": "https://localhost:8080/",
     "height": 283
    },
    "colab_type": "code",
    "id": "e5zVcG7_kK94",
    "outputId": "eecaa805-4e9c-4dd4-ede2-ca104fcbd97b"
   },
   "outputs": [
    {
     "data": {
      "text/plain": [
       "[<matplotlib.lines.Line2D at 0x7fcd6285c630>]"
      ]
     },
     "execution_count": 22,
     "metadata": {
      "tags": []
     },
     "output_type": "execute_result"
    },
    {
     "data": {
      "image/png": "[encoded data removed]",
      "text/plain": [
       "<Figure size 432x288 with 1 Axes>"
      ]
     },
     "metadata": {
      "tags": []
     },
     "output_type": "display_data"
    }
   ],
   "source": [
    "t = np.linspace(0, 2*np.pi)\n",
    "y = np.sin(t)\n",
    "\n",
    "plt.plot(t, y)"
   ]
  },
  {
   "cell_type": "markdown",
   "metadata": {
    "colab_type": "text",
    "id": "-4GFtd3zkZpG"
   },
   "source": [
    "The first thing that will improve your plots is defining your plot figure. Use plt.figure() to create a figure that is 7 inches tall, 10 inches wide and has a gray background color. Then plot the sine curve again."
   ]
  },
  {
   "cell_type": "code",
   "execution_count": 0,
   "metadata": {
    "colab": {
     "base_uri": "https://localhost:8080/",
     "height": 446
    },
    "colab_type": "code",
    "id": "zmvJvERTihK3",
    "outputId": "5ea373b5-420e-47a4-c875-6c17adf86be1"
   },
   "outputs": [
    {
     "data": {
      "text/plain": [
       "[<matplotlib.lines.Line2D at 0x7fcd627c4ac8>]"
      ]
     },
     "execution_count": 23,
     "metadata": {
      "tags": []
     },
     "output_type": "execute_result"
    },
    {
     "data": {
      "image/png": "[encoded data removed]",
      "text/plain": [
       "<Figure size 720x504 with 1 Axes>"
      ]
     },
     "metadata": {
      "tags": []
     },
     "output_type": "display_data"
    }
   ],
   "source": [
    "# Create a figure that is 10x7 inches with a gray background.\n",
    "# Note: the bigger you make the plot, the better the quality.\n",
    "fig = plt.figure(figsize=[10,7], facecolor='gray')\n",
    "\n",
    "plt.plot(t, y)"
   ]
  },
  {
   "cell_type": "markdown",
   "metadata": {
    "colab_type": "text",
    "id": "JVjNAt2XmhIh"
   },
   "source": [
    "Repeat the above, but this time:\n",
    "\n",
    "  1. Create a title with a font size of 20.\n",
    "  2. Create axis labels with a font size of 20.\n",
    "  3. Add a grid.\n",
    "  4. Make a sine curve a green dashed line with a line width of 4.\n",
    "  5. Save the plot as a png. (Google plt.savefig)"
   ]
  },
  {
   "cell_type": "code",
   "execution_count": 0,
   "metadata": {
    "colab": {
     "base_uri": "https://localhost:8080/",
     "height": 472
    },
    "colab_type": "code",
    "id": "9xlcG4xPmgNZ",
    "outputId": "fbb12048-e31e-4b16-9d22-ba7c47f6805d"
   },
   "outputs": [
    {
     "data": {
      "image/png": "[encoded data removed]",
      "text/plain": [
       "<Figure size 720x504 with 1 Axes>"
      ]
     },
     "metadata": {
      "tags": []
     },
     "output_type": "display_data"
    }
   ],
   "source": [
    "# Make our figure.\n",
    "fig = plt.figure(figsize=[10,7], facecolor='gray')\n",
    "\n",
    "# Plot with linestyle dashed, line width 4, and\n",
    "# colored green.\n",
    "plt.plot(t, y, ls='--', lw=4, c='green')\n",
    "\n",
    "# Give it a title and labels with fontsize 20.\n",
    "plt.title(\"Title\", fontsize=20)\n",
    "plt.xlabel('x axis', fontsize=20)\n",
    "plt.ylabel('y axis', fontsize=20)\n",
    "\n",
    "# Plot a simple grid.\n",
    "plt.grid()\n",
    "\n",
    "# Save the figure.\n",
    "plt.savefig(\"test.png\")"
   ]
  },
  {
   "cell_type": "markdown",
   "metadata": {
    "colab_type": "text",
    "id": "MtYBBleCvU8N"
   },
   "source": [
    "### Subplots"
   ]
  },
  {
   "cell_type": "markdown",
   "metadata": {
    "colab_type": "text",
    "id": "criXyjyjvW_u"
   },
   "source": [
    "Perhaps you would like to plot multiple things as one figure. The way to do this is to use ```plt.subplots()```. This will return a figure and a list of subplots on the figure. The subplots are organized like a grid. So for 4 subplots that's 2x2, you want\n",
    "\n",
    "```fig, ax = plt.subplots(nrows=2, ncols=2)```\n",
    "\n",
    "Then you can edit each subplot using \n",
    "\n",
    "```ax[0,0].plot(x, y, color=..., lw=..., etc.)```, \n",
    "\n",
    "```ax[0,0].set(title=..., xlabel=..., etc.)```\n",
    "\n",
    "and so on. Here, [0,0] refers to the upper left subplot, so [1, 1] would refer to the bottom right subplot. \n",
    "\n",
    "Or you can obtain the subplots another way:\n",
    "\n",
    "```fig, (axrow1, axrow2) = plt.subplots(nrows=2, ncols=2)```\n",
    "\n",
    "and then axrow1 contains the first row of subplots and axrow2 contains the second. Then to call the first row, first column you can use ```axrow1[0]``` and to call the first row, second column use ```axrow1[1]```.\n",
    "\n",
    "Note that plt.subplots() can take the same keyword arguments as plt.plot(), e.g. ```plt.subplots(nrows=2, ncols=2, figsize=[10,7])```."
   ]
  },
  {
   "cell_type": "markdown",
   "metadata": {
    "colab_type": "text",
    "id": "xJCMmMCPxh0K"
   },
   "source": [
    "Make three graphs (sine, cosine, tangent from $-\\pi$ to $\\pi$) on a 2x2 subplot grid. \n",
    "\n",
    "Hint: You will need to delete the unused subplot using ```fig.delaxes(insert unused subplot variable here)``` where fig is the variable name of your figure.\n",
    "\n",
    "Adjust the size of the figure, and the design of your plots to make it as nice looking as possible. Be sure to add a title and axes labels. Specifically, give each subplot a title, and give the entire figure a title."
   ]
  },
  {
   "cell_type": "code",
   "execution_count": 0,
   "metadata": {
    "colab": {
     "base_uri": "https://localhost:8080/",
     "height": 616
    },
    "colab_type": "code",
    "id": "HZt4htzPy07b",
    "outputId": "a5250dbf-599c-42aa-e09b-89a2403fda96"
   },
   "outputs": [
    {
     "data": {
      "image/png": "[encoded data removed]",
      "text/plain": [
       "<Figure size 792x648 with 3 Axes>"
      ]
     },
     "metadata": {
      "tags": []
     },
     "output_type": "display_data"
    }
   ],
   "source": [
    "# Get the subplots. Note the figsize is for the entire\n",
    "# figure, not for each subplot.\n",
    "fig, ax = plt.subplots(nrows=2, ncols=2, figsize=[11,9], facecolor='gray')\n",
    "\n",
    "# Define our x range.\n",
    "x = np.linspace(-np.pi, np.pi)\n",
    "\n",
    "# Plot on each subplot.\n",
    "ax[0,0].plot(x, np.sin(x))\n",
    "ax[0,1].plot(x, np.cos(x))\n",
    "ax[1,0].plot(x, np.tan(x))\n",
    "\n",
    "# A title for the whole figure.\n",
    "fig.suptitle(\"Title\", fontsize=30)\n",
    "\n",
    "# Titles and axes labels for each subplot. Something nice is since they\n",
    "# all share the same x and y scales, then we don't have to put labels\n",
    "# for plot axes in the middle of the figure. So some labels are empty here.\n",
    "ax[0,0].set(title=\"Sine\", xlabel=\"\", ylabel=\"y-axis\")\n",
    "ax[0,1].set(title=\"Cosine\", xlabel=\"x-axis\", ylabel=\"\")\n",
    "ax[1,0].set(title=\"Tangent\", xlabel=\"x-axis\", ylabel=\"y-axis\")\n",
    "\n",
    "# Delete the unused subplot.\n",
    "fig.delaxes(ax[1,1])"
   ]
  },
  {
   "cell_type": "markdown",
   "metadata": {
    "colab_type": "text",
    "id": "mLFtKVBi12nN"
   },
   "source": [
    "**Challenge**: Can you perform the same steps above using a for loop that iterates over each axis?"
   ]
  },
  {
   "cell_type": "code",
   "execution_count": 0,
   "metadata": {
    "colab": {
     "base_uri": "https://localhost:8080/",
     "height": 634
    },
    "colab_type": "code",
    "id": "trYx6ErS2B_n",
    "outputId": "08faa2d8-4075-4e1f-e48e-c5e64cc60faf"
   },
   "outputs": [
    {
     "data": {
      "text/plain": [
       "Text(0.5, 0.98, 'Title')"
      ]
     },
     "execution_count": 14,
     "metadata": {
      "tags": []
     },
     "output_type": "execute_result"
    },
    {
     "data": {
      "image/png": "[encoded data removed]",
      "text/plain": [
       "<Figure size 792x648 with 3 Axes>"
      ]
     },
     "metadata": {
      "tags": []
     },
     "output_type": "display_data"
    }
   ],
   "source": [
    "# Get the subplots.\n",
    "fig, ax = plt.subplots(nrows=2, ncols=2, figsize=[11,9])\n",
    "\n",
    "# Define our x range.\n",
    "x = np.linspace(-np.pi, np.pi)\n",
    "\n",
    "# Delete the unused subplot first.\n",
    "fig.delaxes(ax[1,1])\n",
    "\n",
    "# Let's define some properties that will also be iterated over.\n",
    "functions = [np.sin, np.cos, np.tan]\n",
    "titles = [\"Sine\", \"Cosine\", \"Tangent\"]\n",
    "\n",
    "# Now flatten our array of subplots to make it easier to iterate over.\n",
    "ax = ax.flatten()\n",
    "\n",
    "# Now we loop through our subplots.\n",
    "for i in range(3):\n",
    "  ax[i].plot(x, functions[i](x))\n",
    "  ax[i].set(title=titles[i], \n",
    "            xlabel=\"x-axis\" if i != 0 else \"\", \n",
    "            ylabel=\"y-label\" if i != 1 else \"\")\n",
    "  \n",
    "# Then a title for the whole figure.\n",
    "fig.suptitle(\"Title\", fontsize=30)"
   ]
  },
  {
   "cell_type": "markdown",
   "metadata": {
    "colab_type": "text",
    "id": "2aguI8qe4d8-"
   },
   "source": [
    "### Default Parameters"
   ]
  },
  {
   "cell_type": "markdown",
   "metadata": {
    "colab_type": "text",
    "id": "W4_vcKkN4lKn"
   },
   "source": [
    "It is often useful to set the default plotting settings to something we would like. For example, setting the default font size to something bigger is useful instead of writing out the font size in every function where we add text (titles, labels, etc.).\n",
    "\n",
    "The code below will change the default font size to 20. For information on changing other parameters, look up the documentation of ```plt.rcParams.update()```."
   ]
  },
  {
   "cell_type": "code",
   "execution_count": 0,
   "metadata": {
    "colab": {},
    "colab_type": "code",
    "id": "g9Yz8E2d5X3G"
   },
   "outputs": [],
   "source": [
    "# This will change the default font size of all future plots to 20.\n",
    "plt.rcParams.update({'font.size': 20})"
   ]
  },
  {
   "cell_type": "markdown",
   "metadata": {},
   "source": [
    "After running the code, rerun your plots and see how they've changed!"
   ]
  },
  {
   "cell_type": "markdown",
   "metadata": {
    "colab_type": "text",
    "id": "94i7RE8qlzxp"
   },
   "source": [
    "# Reading and Writing Files"
   ]
  },
  {
   "cell_type": "markdown",
   "metadata": {
    "colab_type": "text",
    "id": "SYAjx1-IdDQo"
   },
   "source": [
    "## Reading"
   ]
  },
  {
   "cell_type": "markdown",
   "metadata": {
    "colab_type": "text",
    "id": "o9-aY4yrmLT8"
   },
   "source": [
    "One of the key uses for programming is working with data. This data is usually written in a .txt, .csv, etc. and so you will have to import this data into Python. There are two ways to do this: 1) Manually type out the data into Python numpy arrays, 2) Use awesome functions in Python to quickly import the data.\n",
    "\n",
    "There are multiple libraries which allow you to import data but the most common to start with is ```numpy.genfromtxt()```. Look up the documentation for this and read through some of the parameters."
   ]
  },
  {
   "cell_type": "markdown",
   "metadata": {
    "colab_type": "text",
    "id": "J6NFTa8JaOZB"
   },
   "source": [
    "Take a look at the data here:\n",
    "\n",
    "> https://raw.githubusercontent.com/ZackAshM/PythonBootcamp/master/data/testData.txt\n",
    "\n",
    "It is separated by header, data, and footer. The data is organized in two columns, separated by a space. Using the ```genfromtxt()``` function, import the data above and print the result. \n",
    "\n",
    "Note that the filename parameter for this function is a string. It refers to the name of the file. Python will search through its connected directories to find that file. Or instead, we can give it a URL from which it can 'download' the data, without it having to be saved in one of its directories. Therefore, you can import this data by copy-pasting the url (as a string) into the filename parameter. Use other parameters as necessary.\n",
    "\n",
    "If you are having troubles, scan the documentation. What is this function returning? "
   ]
  },
  {
   "cell_type": "code",
   "execution_count": 0,
   "metadata": {
    "colab": {
     "base_uri": "https://localhost:8080/",
     "height": 53
    },
    "colab_type": "code",
    "id": "WGrwALDEbvCX",
    "outputId": "b931a0e4-bc66-47e8-de85-672e1ab0bd23"
   },
   "outputs": [
    {
     "name": "stdout",
     "output_type": "stream",
     "text": [
      "[[ 1.  2.  3.  4.  5.  6.  7.  8.]\n",
      " [ 1.  1.  2.  3.  5.  8. 13. 21.]]\n"
     ]
    }
   ],
   "source": [
    "# Import the data using the url as a string as the first parameter.\n",
    "# By looking at the link, we can see that there are 4 header lines and\n",
    "# 2 footer lines that we want to ignore when importing.\n",
    "# The unpack will make each column its own array rather than\n",
    "# having arrays of x, y pairs. Thus test[0] is the x and test[1] is the y.\n",
    "test = np.genfromtxt(\"https://raw.githubusercontent.com/ZackAshM/PythonBootcamp/master/data/testData.txt\",\n",
    "                     skip_header=4, skip_footer=2, unpack=True)\n",
    "\n",
    "print(test)"
   ]
  },
  {
   "cell_type": "markdown",
   "metadata": {
    "colab_type": "text",
    "id": "dpzA4pVZcVBz"
   },
   "source": [
    "Try using the unpack parameter. How does this change the result? Why is this better (Hint: how would you go about indexing the data in each case)?\n",
    "\n",
    "Now that you have imported your data, you usually want to plot it (for example, if you're taking a lab class). Plot the data as a scatter plot."
   ]
  },
  {
   "cell_type": "code",
   "execution_count": 0,
   "metadata": {
    "colab": {
     "base_uri": "https://localhost:8080/",
     "height": 292
    },
    "colab_type": "code",
    "id": "5_LWoaN8cUB-",
    "outputId": "972c61ea-0d34-4def-f105-a6960d89f144"
   },
   "outputs": [
    {
     "data": {
      "text/plain": [
       "<matplotlib.collections.PathCollection at 0x7fcd62528e48>"
      ]
     },
     "execution_count": 29,
     "metadata": {
      "tags": []
     },
     "output_type": "execute_result"
    },
    {
     "data": {
      "image/png": "[encoded data removed]",
      "text/plain": [
       "<Figure size 432x288 with 1 Axes>"
      ]
     },
     "metadata": {
      "tags": []
     },
     "output_type": "display_data"
    }
   ],
   "source": [
    "# Since we used unpack=True, then \n",
    "# test[0] is all the x's and test[1] is all the y's.\n",
    "plt.scatter(test[0], test[1])"
   ]
  },
  {
   "cell_type": "markdown",
   "metadata": {
    "colab_type": "text",
    "id": "yvkvjdnicUTO"
   },
   "source": [
    "## Writing"
   ]
  },
  {
   "cell_type": "markdown",
   "metadata": {
    "colab_type": "text",
    "id": "pd9JkSJEdKC0"
   },
   "source": [
    "Now, let's create some data of our own and store it as an output file.\n",
    "\n",
    "First, let's create some data to store. Define some range of x values and then use a function on the x values to get some set of y values. Do this however you'd like."
   ]
  },
  {
   "cell_type": "code",
   "execution_count": 0,
   "metadata": {
    "colab": {},
    "colab_type": "code",
    "id": "ka0G_GmUdwFy"
   },
   "outputs": [],
   "source": [
    "# Here I made a list of x's from 0 to 9 in steps of 1,\n",
    "# and a list of y's which are the cosine of the x's.\n",
    "xdata = np.linspace(0,10,10)\n",
    "ydata = np.cos(xdata)"
   ]
  },
  {
   "cell_type": "markdown",
   "metadata": {
    "colab_type": "text",
    "id": "0k7A4S5Ud4pU"
   },
   "source": [
    "Now, let's create a file using the ```open()``` function. Look up the documentation for this, then create a file named \"MyData.txt\" and so that we can write to it."
   ]
  },
  {
   "cell_type": "code",
   "execution_count": 0,
   "metadata": {
    "colab": {},
    "colab_type": "code",
    "id": "9UFYXYrpeQ8M"
   },
   "outputs": [],
   "source": [
    "# The first argument in open() is the filename, then\n",
    "# we give it the \"w\" argument to allow writing to the file.\n",
    "output = open(\"MyData.txt\", \"w\")"
   ]
  },
  {
   "cell_type": "markdown",
   "metadata": {
    "colab_type": "text",
    "id": "LkJx_2j9eXAw"
   },
   "source": [
    "Next, we can write to the file using its member function ```write()```. To call its member function, use the syntax ```<variable>.<member function>()```. First, write a comment in the file to describe your data."
   ]
  },
  {
   "cell_type": "code",
   "execution_count": 0,
   "metadata": {
    "colab": {},
    "colab_type": "code",
    "id": "cBbwb2_Ye7-J"
   },
   "outputs": [],
   "source": [
    "# We use write to insert a comment which starts with the # character.\n",
    "output.write(\"# This is my data\")"
   ]
  },
  {
   "cell_type": "markdown",
   "metadata": {
    "colab_type": "text",
    "id": "PzfXNK2PfCsu"
   },
   "source": [
    "Now, we will want to store the data with x in the first column and y in the second column. Do so by writing each x, y pair of data individually. Hint: Consider using string formatting. And make sure there is a new-line break after each line of writing."
   ]
  },
  {
   "cell_type": "code",
   "execution_count": 0,
   "metadata": {
    "colab": {},
    "colab_type": "code",
    "id": "ut5yA4jffd87"
   },
   "outputs": [],
   "source": [
    "# We will loop through each x and y array to write the data, \n",
    "# separated by a space and ending with a newline.\n",
    "for i in range(10):\n",
    "  output.write(\"{} {}\\n\".format(xdata[i], ydata[i]))"
   ]
  },
  {
   "cell_type": "markdown",
   "metadata": {
    "colab_type": "text",
    "id": "PpxjBvyKgb5N"
   },
   "source": [
    "You can check for your file by clicking the files folder button on the left edge. You should see your file in there. Then you can right-click and download it to view it and see if you did this correctly.\n",
    "\n",
    "If you have trouble finding it, ask one of us, or google how to find files in Google Colab."
   ]
  },
  {
   "cell_type": "markdown",
   "metadata": {
    "colab_type": "text",
    "id": "VMEaoMqbW1KK"
   },
   "source": [
    "## Closing and With Statements"
   ]
  },
  {
   "cell_type": "markdown",
   "metadata": {
    "colab_type": "text",
    "id": "ynVenjwyW7tG"
   },
   "source": [
    "Note that there's a problem with how we've left things. We never closed the files that we opened, hence they're still in memory and can cause a memory leak (something that's realllllyyyy bad). Let's learn how to close the file to prevent this.\n",
    "\n",
    "One way is simply the close() member function of the file (i.e ```<file_variable>.close()```). Using that, close the file that you opened."
   ]
  },
  {
   "cell_type": "code",
   "execution_count": 0,
   "metadata": {
    "colab": {},
    "colab_type": "code",
    "id": "vrXN7WKuXs1R"
   },
   "outputs": [],
   "source": [
    "# Use the variable used to open the file.\n",
    "output.close()"
   ]
  },
  {
   "cell_type": "markdown",
   "metadata": {
    "colab_type": "text",
    "id": "iEC18wR1Xz0B"
   },
   "source": [
    "There's a much safer way of handling data writing without needing to use the close() function. This is using \"with statements.\" They work similarly to for and while loops. The syntax is\n",
    "\n",
    "```\n",
    "with <open_function> as <variable_name>:\n",
    "    <do things with variable_name>\n",
    "```\n",
    "\n",
    "So we'll want to use this to write the data all in one \"with statement\". Try it out - write the data in a new file named MyData2.txt."
   ]
  },
  {
   "cell_type": "code",
   "execution_count": 0,
   "metadata": {
    "colab": {},
    "colab_type": "code",
    "id": "70Iwu3NKa9Qx"
   },
   "outputs": [],
   "source": [
    "# We use the with statement using the output of the \n",
    "# open() function as the variable 'output'. And we do\n",
    "# everything we did before.\n",
    "with open(\"MyData2.txt\", \"w\") as output:\n",
    "  output.write(\"# This is my data\")\n",
    "  for i in range(10):\n",
    "    output.write(\"{} {}\\n\".format(xdata[i], ydata[i]))\n",
    "\n",
    "# When the with statement closes, it automatically closes the file."
   ]
  },
  {
   "cell_type": "markdown",
   "metadata": {
    "colab_type": "text",
    "id": "yCzFvFXbmQXd"
   },
   "source": [
    "# Fitting"
   ]
  },
  {
   "cell_type": "markdown",
   "metadata": {
    "colab_type": "text",
    "id": "4Z3fOGe9mYzk"
   },
   "source": [
    "Once we have data, there is usually a way to model the data. This means that we can take a model, an equation or function, and 'fit' this to the data. Every model depends on certain parameters. Fitting will find the parameters for the model which gives the best representation of the data.\n",
    "\n",
    "If you are taking a physics lab course, then you might be aware of how often you have to fit data to a line. Try using Python the next time you have to do a linear fit!"
   ]
  },
  {
   "cell_type": "markdown",
   "metadata": {
    "colab_type": "text",
    "id": "hvAsGpeqMTMz"
   },
   "source": [
    "### scipy.optimize.curve_fit()"
   ]
  },
  {
   "cell_type": "markdown",
   "metadata": {
    "colab_type": "text",
    "id": "kZa89XpPMWa4"
   },
   "source": [
    "There are multiple functions from many different libraries that you can use to do fitting. The most common to use is ```scipy.optimize.curve_fit()```. Look up the documentation for this function. Read through some of the parameters and get a feel for how this function may work (what data types are the parameters, how many parameters are there, what are the returns, etc?)\n",
    "\n",
    "Now, import just this function."
   ]
  },
  {
   "cell_type": "code",
   "execution_count": 0,
   "metadata": {
    "colab": {},
    "colab_type": "code",
    "id": "8-r1bcnDM_N1"
   },
   "outputs": [],
   "source": [
    "from scipy.optimize import curve_fit"
   ]
  },
  {
   "cell_type": "markdown",
   "metadata": {
    "colab_type": "text",
    "id": "pkC9x5NjNHas"
   },
   "source": [
    "### Linear Fit"
   ]
  },
  {
   "cell_type": "markdown",
   "metadata": {
    "colab_type": "text",
    "id": "xBFwwNSKNKcp"
   },
   "source": [
    "Take a look at the data written here:\n",
    "\n",
    ">https://raw.githubusercontent.com/ZackAshM/PythonBootcamp/master/data/LinData.txt\n",
    "\n",
    "Do you understand how it is written?\n",
    "\n",
    "Using the ```np.genfromtxt()``` function from earlier, import this data by copy and pasting the url as the filename (and as a string). Apply any other parameters from this function as necessary.\n",
    "\n",
    "Print the resulting array. If you are satisfied with the result, plot the data (note: these are discrete data points, so you should use a scatter plot)."
   ]
  },
  {
   "cell_type": "code",
   "execution_count": 0,
   "metadata": {
    "colab": {
     "base_uri": "https://localhost:8080/",
     "height": 391
    },
    "colab_type": "code",
    "id": "pymgU3mzUCvk",
    "outputId": "760f1fc0-5541-4e93-f93f-de521d7671c0"
   },
   "outputs": [
    {
     "name": "stdout",
     "output_type": "stream",
     "text": [
      "[[ 0.     0.5    1.     1.5    2.     2.5    3.     3.5    4.     4.5\n",
      "   5.     5.5    6.     6.5    7.     7.5    8.     8.5    9.     9.5\n",
      "  10.   ]\n",
      " [ 0.142  0.5    0.594  0.658  1.814  1.248  1.72   1.592  2.34   3.094\n",
      "   2.804  3.402  3.454  3.194  4.026  3.616  4.526  4.86   4.228  5.234\n",
      "   5.028]]\n"
     ]
    },
    {
     "data": {
      "text/plain": [
       "<matplotlib.collections.PathCollection at 0x7f1eb6d97828>"
      ]
     },
     "execution_count": 5,
     "metadata": {
      "tags": []
     },
     "output_type": "execute_result"
    },
    {
     "data": {
      "image/png": "[encoded data removed]",
      "text/plain": [
       "<Figure size 432x288 with 1 Axes>"
      ]
     },
     "metadata": {
      "tags": []
     },
     "output_type": "display_data"
    }
   ],
   "source": [
    "# Importing the data like last time. This time, we only have 1 header line.\n",
    "linData = np.genfromtxt(\"https://raw.githubusercontent.com/ZackAshM/PythonBootcamp/master/data/LinData.txt\",\n",
    "                     skip_header=1, unpack=True)\n",
    "\n",
    "print(linData)\n",
    "\n",
    "# Plot the data as a scatter plot. Again, since we used\n",
    "# unpack=True, each column is its own index.\n",
    "plt.scatter(linData[0], linData[1])"
   ]
  },
  {
   "cell_type": "markdown",
   "metadata": {
    "colab_type": "text",
    "id": "l5XaNk42OpyG"
   },
   "source": [
    "As you can see, the data looks very close to a linear relationship. We can define the model for a linear function as\n",
    "\n",
    "> y = mx + b\n",
    "\n",
    "where m and b are the model parameters, namely the slope and y-intercept. Define a function which returns this linear model when given x data, slope, and y-intercept as arguments.\n",
    "\n",
    "Now use this function and the ```scipy.optimize.curve_fit()``` function to get a fit for this data. Plot the data and fit on top of each other, with a legend to distinguish the two. Hint: What does the ```curve_fit()``` function return? Scan the documentation if you get stuck, you may be able to find useful information on it (perhaps, an example of how to use it)."
   ]
  },
  {
   "cell_type": "code",
   "execution_count": 0,
   "metadata": {
    "colab": {
     "base_uri": "https://localhost:8080/",
     "height": 301
    },
    "colab_type": "code",
    "id": "aP4AaDCLQDSZ",
    "outputId": "9415c77b-4ba7-4ef2-bc64-697fb2a1efea"
   },
   "outputs": [
    {
     "name": "stdout",
     "output_type": "stream",
     "text": [
      "m = 0.506\n",
      "b = 0.238\n"
     ]
    },
    {
     "data": {
      "image/png": "[encoded data removed]",
      "text/plain": [
       "<Figure size 432x288 with 1 Axes>"
      ]
     },
     "metadata": {
      "tags": []
     },
     "output_type": "display_data"
    }
   ],
   "source": [
    "# First, we define the model function that we want to fit.\n",
    "def linFunc(x, m, b):\n",
    "  return m*x+b\n",
    "\n",
    "# Use the curve_fit function with the model, x data, and y data\n",
    "# as the function arguments. From the documentation, you can see\n",
    "# that it returns two things: the fitted parameters, and a \n",
    "# \"covariance matrix\". Don't worry about the last one, and just\n",
    "# get the fitted parameters (the best slope and y-intercept).\n",
    "linArg, _ = curve_fit(linFunc, linData[0], linData[1]) \n",
    "\n",
    "# And now we plot the actual data and the fit. Note that the fit \n",
    "# is only the parameters so we have to insert these parameters into\n",
    "# the model function that we defined. Using * inserts all of the\n",
    "# elements of linArg automatically. \n",
    "plt.scatter(linData[0], linData[1], label='Data', c='black')\n",
    "plt.plot(linData[0], linFunc(linData[0], *linArg), label='Fit', c='red')\n",
    "\n",
    "# And plot the legend.\n",
    "plt.legend(loc='best')\n",
    "\n",
    "# Then print what the fitted parameters were.\n",
    "print(\"m = {0:0.3f}\\nb = {1:0.3f}\".format(*linArg))"
   ]
  },
  {
   "cell_type": "markdown",
   "metadata": {
    "colab_type": "text",
    "id": "gvVFd5VjQDgJ"
   },
   "source": [
    "Finally, print the resulting fit parameters using the cell above. The data was generated using the parameters\n",
    "\n",
    "> **m** = 0.5, **b** = 0.25\n",
    "\n",
    "How well did the fit do for obtaining these parameters?"
   ]
  },
  {
   "cell_type": "markdown",
   "metadata": {
    "colab_type": "text",
    "id": "HbfsHV3Kdj02"
   },
   "source": [
    "After we've fit the data, let's check the agreement numerically. One way to do this is to find the percent difference. The equation for this is\n",
    "\n",
    "> \\%diff. $= \\frac{|\\text{fitted - actual}|}{\\text{actual}} * 100$\n",
    "\n",
    "Calculate the percent difference between your slope and y-intercept."
   ]
  },
  {
   "cell_type": "code",
   "execution_count": 0,
   "metadata": {
    "colab": {
     "base_uri": "https://localhost:8080/",
     "height": 53
    },
    "colab_type": "code",
    "id": "_2o0MBRNeOrY",
    "outputId": "c2811b05-00e1-4bb1-c719-f5d9067e073a"
   },
   "outputs": [
    {
     "name": "stdout",
     "output_type": "stream",
     "text": [
      "Slope percent diff = 1.11%\n",
      "y-int percent diff = 4.89%\n"
     ]
    }
   ],
   "source": [
    "# Here I defined a function to give us the percent difference.\n",
    "# You could have done it without using a function, but I like\n",
    "# using functions.\n",
    "def perDiff(actual, fitted):\n",
    "  return np.abs(fitted - actual) * 100 / actual\n",
    "\n",
    "# Now we print the results using the actual parameter and the\n",
    "# parameters obtained from the fit.\n",
    "print(\"Slope percent diff = {0:0.2f}%\\ny-int percent diff = {1:0.2f}%\".format(perDiff(0.5, linArg[0]), perDiff(0.25, linArg[1])))"
   ]
  },
  {
   "cell_type": "markdown",
   "metadata": {
    "colab_type": "text",
    "id": "rogxp1m4VEiV"
   },
   "source": [
    "### Gaussian Fit"
   ]
  },
  {
   "cell_type": "markdown",
   "metadata": {
    "colab_type": "text",
    "id": "kPTwAobsVGQP"
   },
   "source": [
    "Take a look at the data written here:\n",
    "\n",
    ">https://raw.githubusercontent.com/ZackAshM/PythonBootcamp/master/data/GaussData.txt\n",
    "\n",
    "\n",
    "As in the previous exercise, import this data by copy and pasting the url as the filename. Apply any other parameters from this function as necessary.\n",
    "\n",
    "Print the resulting array and plot the data (a scatter plot)."
   ]
  },
  {
   "cell_type": "code",
   "execution_count": 0,
   "metadata": {
    "colab": {
     "base_uri": "https://localhost:8080/",
     "height": 680
    },
    "colab_type": "code",
    "id": "g7Jxarp-VcmC",
    "outputId": "85b04409-62e2-478c-8f3a-4b69fa243eed"
   },
   "outputs": [
    {
     "name": "stdout",
     "output_type": "stream",
     "text": [
      "[[-3.55000000e+00 -3.30609756e+00 -3.06219512e+00 -2.81829268e+00\n",
      "  -2.57439024e+00 -2.33048780e+00 -2.08658537e+00 -1.84268293e+00\n",
      "  -1.59878049e+00 -1.35487805e+00 -1.11097561e+00 -8.67073171e-01\n",
      "  -6.23170732e-01 -3.79268293e-01 -1.35365854e-01  1.08536585e-01\n",
      "   3.52439024e-01  5.96341463e-01  8.40243902e-01  1.08414634e+00\n",
      "   1.32804878e+00  1.57195122e+00  1.81585366e+00  2.05975610e+00\n",
      "   2.30365854e+00  2.54756098e+00  2.79146341e+00  3.03536585e+00\n",
      "   3.27926829e+00  3.52317073e+00  3.76707317e+00  4.01097561e+00\n",
      "   4.25487805e+00  4.49878049e+00  4.74268293e+00  4.98658537e+00\n",
      "   5.23048780e+00  5.47439024e+00  5.71829268e+00  5.96219512e+00\n",
      "   6.20609756e+00  6.45000000e+00]\n",
      " [-4.10000000e-02 -1.00000000e-02  3.30000000e-02 -3.90000000e-02\n",
      "   6.50000000e-03  3.95000000e-02  4.65000002e-02  2.75000039e-02\n",
      "  -1.69999412e-02 -2.79992744e-02  6.00726159e-03  2.55894501e-03\n",
      "   3.33880795e-02 -1.44276993e-02  5.29751843e-02 -1.49722877e-02\n",
      "   6.28255796e-02  2.35570716e-01  4.09536748e-01  5.49889560e-01\n",
      "   7.57647125e-01  7.25147125e-01  6.19389560e-01  4.24036748e-01\n",
      "   2.31070716e-01  7.23255796e-02  7.95277123e-02  3.84751843e-02\n",
      "   3.35723007e-02 -4.81119205e-02 -9.94105499e-03 -3.74927384e-02\n",
      "  -4.99927444e-03 -3.04999412e-02 -4.29999961e-02 -1.14999998e-02\n",
      "   2.10000000e-02  3.00000000e-02  4.60000000e-02 -3.00000000e-02\n",
      "   3.00000000e-02 -3.55000000e-02]]\n"
     ]
    },
    {
     "data": {
      "text/plain": [
       "<matplotlib.collections.PathCollection at 0x7f1eb4561550>"
      ]
     },
     "execution_count": 12,
     "metadata": {
      "tags": []
     },
     "output_type": "execute_result"
    },
    {
     "data": {
      "image/png": "[encoded data removed]",
      "text/plain": [
       "<Figure size 432x288 with 1 Axes>"
      ]
     },
     "metadata": {
      "tags": []
     },
     "output_type": "display_data"
    }
   ],
   "source": [
    "# Repeat the steps from the linear example.\n",
    "gauData = np.genfromtxt(\"https://raw.githubusercontent.com/ZackAshM/PythonBootcamp/master/data/GaussData.txt\",\n",
    "                     skip_header=1, unpack=True)\n",
    "\n",
    "print(gauData)\n",
    "\n",
    "plt.scatter(gauData[0], gauData[1])"
   ]
  },
  {
   "cell_type": "markdown",
   "metadata": {
    "colab_type": "text",
    "id": "UwLkF6z5VlgU"
   },
   "source": [
    "The data has the shape of a Gaussian function. The Gaussian function is given as\n",
    "\n",
    "> $p(x; \\mu, \\sigma) = \\frac{1}{\\sqrt{ 2 \\pi \\sigma^2 }} e^{ - \\frac{ (x - \\mu)^2 } {2 \\sigma^2} }$ \n",
    "\n",
    "where $\\mu$ and $\\sigma$ are the parameters, namely the mean value and standard deviation or width. Don't let it scare you! You don't need to completely understand each part of the function to use it. Look at each little part and define a function which returns the Gaussian function.\n",
    "\n",
    "Then fit this function to the data and plot the results."
   ]
  },
  {
   "cell_type": "code",
   "execution_count": 0,
   "metadata": {
    "colab": {
     "base_uri": "https://localhost:8080/",
     "height": 302
    },
    "colab_type": "code",
    "id": "s1lH1r5nXZQi",
    "outputId": "b0637067-c230-4212-b2a6-30fee5a5283c"
   },
   "outputs": [
    {
     "name": "stdout",
     "output_type": "stream",
     "text": [
      "mu = 1.468\n",
      "sigma = 0.534\n"
     ]
    },
    {
     "data": {
      "image/png": "[encoded data removed]",
      "text/plain": [
       "<Figure size 432x288 with 1 Axes>"
      ]
     },
     "metadata": {
      "tags": []
     },
     "output_type": "display_data"
    }
   ],
   "source": [
    "# Define the Gaussian function.\n",
    "def gaussFunc(x, mu, sigma):\n",
    "  return (1 / (2*np.pi*sigma**2)**0.5) * np.exp(- (x - mu)**2 / (2*sigma**2))\n",
    "\n",
    "# We repeat the steps from the linear example.\n",
    "gauArg, _ = curve_fit(gaussFunc,gauData[0], gauData[1]) \n",
    "\n",
    "plt.scatter(gauData[0], gauData[1], label='Data', c='black')\n",
    "plt.plot(gauData[0], gaussFunc(gauData[0], *gauArg), label='Fit', c='red')\n",
    "plt.legend(loc='best')\n",
    "\n",
    "print('mu = {0:0.3f}\\nsigma = {1:0.3f}'.format(*gauArg))"
   ]
  },
  {
   "cell_type": "markdown",
   "metadata": {
    "colab_type": "text",
    "id": "2IHvd3zyXZcf"
   },
   "source": [
    "Using the cell above, print the resulting fit parameters. This data was generated using the parameters\n",
    "\n",
    "> $\\mu$ = 1.45, $\\sigma$ = 0.533\n",
    "\n",
    "How well did the fit do in determining these values? Find the percent differences."
   ]
  },
  {
   "cell_type": "code",
   "execution_count": 0,
   "metadata": {
    "colab": {
     "base_uri": "https://localhost:8080/",
     "height": 53
    },
    "colab_type": "code",
    "id": "GYlAMZ0vhB7b",
    "outputId": "540710a1-ae50-4c3e-96ee-a93e8f68acdb"
   },
   "outputs": [
    {
     "name": "stdout",
     "output_type": "stream",
     "text": [
      "Mean percent diff = 1.25%\n",
      "Standard deviation percent diff = 0.18%\n"
     ]
    }
   ],
   "source": [
    "# Since I defined the percent difference function\n",
    "# from before, we can use it here too.\n",
    "print(\"Mean percent diff = {0:0.2f}%\\nStandard deviation percent diff = {1:0.2f}%\".format(perDiff(1.45, gauArg[0]), perDiff(0.533, gauArg[1])))"
   ]
  }
 ],
 "metadata": {
  "accelerator": "GPU",
  "colab": {
   "collapsed_sections": [
    "Gqt3Hu5Emfro",
    "jX8VQFUmegzf",
    "ezRRiHoQlfJT",
    "04xgA0P-OFCC",
    "agMbDjymHrLT",
    "Nx9VzCprHugW",
    "nstt8dVPH03B",
    "_iawUjU6h0QO"
   ],
   "name": "Python_Bootcamp_Intermediate_Solutions.ipynb",
   "provenance": []
  },
  "kernelspec": {
   "display_name": "Python 3",
   "language": "python",
   "name": "python3"
  },
  "language_info": {
   "codemirror_mode": {
    "name": "ipython",
    "version": 3
   },
   "file_extension": ".py",
   "mimetype": "text/x-python",
   "name": "python",
   "nbconvert_exporter": "python",
   "pygments_lexer": "ipython3",
   "version": "3.8.5"
  }
 },
 "nbformat": 4,
 "nbformat_minor": 1
}
