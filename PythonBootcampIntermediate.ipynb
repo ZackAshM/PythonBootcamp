{
 "cells": [
  {
   "cell_type": "markdown",
   "metadata": {
    "colab_type": "text",
    "id": "M8uYbm1KXMfL"
   },
   "source": [
    "\n",
    "# How to git gudder\n"
   ]
  },
  {
   "cell_type": "markdown",
   "metadata": {
    "colab_type": "text",
    "id": "AeS4-8hvXQ5z"
   },
   "source": [
    "**Disclaimer:** This notebook assumes you have finished or worked enough through the Beginner Python Bootcamp Notebook, and so you should know the some basics (basic syntax, data types, algebraic operations, conditional statements, numpy arrays, basic plotting).\n",
    "\n",
    "This notebook will reiterate as well as build upon those basics, with emphasis on physics applications.\n",
    "\n",
    "If you are unsure about how to approach a problem, feel free to ask us! The most important thing when learning how to code is learning how to approach problems. Google is an amazing resource, but just like Chegg, it's important to understand the answer instead of just copying it.\n",
    "\n",
    "And lastly: No matter how much coding experience you get, there will *always* be something that you need to look up to figure out how to do. So learn well how to search for answers!"
   ]
  },
  {
   "cell_type": "markdown",
   "metadata": {
    "colab_type": "text",
    "id": "Gqt3Hu5Emfro"
   },
   "source": [
    "# Python Bootcamp I Review"
   ]
  },
  {
   "cell_type": "markdown",
   "metadata": {
    "colab_type": "text",
    "id": "6w8vsiIDWBnY"
   },
   "source": [
    "Here is a quick check to see what you remember from the beginner notebook. Feel free to skip this if you are confident in your skills of the basics."
   ]
  },
  {
   "cell_type": "markdown",
   "metadata": {
    "colab_type": "text",
    "id": "HShFh4Q0mmvD"
   },
   "source": [
    "Calculate:\n",
    "\n",
    "\n",
    "1.   $2^{30}$\n",
    "2.   $\\frac{3.33}{2.5}$\n",
    "3.   The remainder of $\\frac{6789}{1234}$\n",
    "\n"
   ]
  },
  {
   "cell_type": "code",
   "execution_count": null,
   "metadata": {
    "colab": {
     "base_uri": "https://localhost:8080/",
     "height": 35
    },
    "colab_type": "code",
    "id": "WsZtVXCinzSV",
    "outputId": "90f67e3a-d74f-4bea-8212-acb3fe8335ff"
   },
   "outputs": [],
   "source": []
  },
  {
   "cell_type": "markdown",
   "metadata": {
    "colab_type": "text",
    "id": "5heRjI6WoNJy"
   },
   "source": [
    "Create a dictionary of colors where a fruit of that color is the color's key. Then print out one of the elements (item not key).\n",
    "\n",
    "Eg. MY_DICT['strawberry'] = 'red'"
   ]
  },
  {
   "cell_type": "code",
   "execution_count": null,
   "metadata": {
    "colab": {
     "base_uri": "https://localhost:8080/",
     "height": 35
    },
    "colab_type": "code",
    "id": "i-IOSR3RozDa",
    "outputId": "3b757c38-33aa-432e-a142-d9845e0872fb"
   },
   "outputs": [],
   "source": []
  },
  {
   "cell_type": "markdown",
   "metadata": {
    "colab_type": "text",
    "id": "FVIuUJzlpZjK"
   },
   "source": [
    "Write a 'for loop' that prints out each element individually  of the dictionary defined above. Make sure it's printing out the items, not the keys."
   ]
  },
  {
   "cell_type": "code",
   "execution_count": null,
   "metadata": {
    "colab": {
     "base_uri": "https://localhost:8080/",
     "height": 89
    },
    "colab_type": "code",
    "id": "YidbcC45pwIf",
    "outputId": "4a429ccc-1e01-44c9-927a-e42aac24c794"
   },
   "outputs": [],
   "source": []
  },
  {
   "cell_type": "markdown",
   "metadata": {
    "colab_type": "text",
    "id": "YLRtks82pwmU"
   },
   "source": [
    "Define a function that prints out the type of a variable, the variable itself, and *if it is an even integer*: the variable divided by 2. Run the function for a string, boolean, float, odd integer, and an even integer.\n",
    "\n",
    "For example:\n",
    "\n",
    "f('hello') = string 'hello'\n",
    "\n",
    "f(4) = int 4 2"
   ]
  },
  {
   "cell_type": "code",
   "execution_count": null,
   "metadata": {
    "colab": {
     "base_uri": "https://localhost:8080/",
     "height": 107
    },
    "colab_type": "code",
    "id": "GXv7hDPlqVAM",
    "outputId": "385405a9-c18f-4e61-deb4-5f1fda43940b"
   },
   "outputs": [],
   "source": []
  },
  {
   "cell_type": "markdown",
   "metadata": {
    "colab_type": "text",
    "id": "yy2ednbmritO"
   },
   "source": [
    "Import numpy as np and matplotlib.pyplot as plt."
   ]
  },
  {
   "cell_type": "code",
   "execution_count": null,
   "metadata": {
    "colab": {},
    "colab_type": "code",
    "id": "wr5NPaFyrrST"
   },
   "outputs": [],
   "source": []
  },
  {
   "cell_type": "markdown",
   "metadata": {
    "colab_type": "text",
    "id": "WDmuG_4Aozi8"
   },
   "source": [
    "Create a numpy array that goes from 0 to 100 in steps of 2. Then create another array which is the first but in reverse order. Using these two arrays, create a 2D array."
   ]
  },
  {
   "cell_type": "code",
   "execution_count": null,
   "metadata": {
    "colab": {
     "base_uri": "https://localhost:8080/",
     "height": 341
    },
    "colab_type": "code",
    "id": "CxY7jAi3pOK9",
    "outputId": "05b92cda-a410-41ca-cf6f-6dee26177402"
   },
   "outputs": [],
   "source": []
  },
  {
   "cell_type": "markdown",
   "metadata": {
    "colab_type": "text",
    "id": "2VVPzuRUqWd1"
   },
   "source": [
    "Plot the functions cos(x), sin(x), and cos(x)+sin(x) for $-\\pi<x<\\pi$ with:\n",
    "\n",
    "Colors: cos(x) in blue, sin(x) in red, cos(x)+sin(x) in green\n",
    "\n",
    "Labels: labeled axes, title, and legend in the upper left (whatever labels you want)\n",
    "\n",
    "And a grid"
   ]
  },
  {
   "cell_type": "code",
   "execution_count": null,
   "metadata": {
    "colab": {
     "base_uri": "https://localhost:8080/",
     "height": 295
    },
    "colab_type": "code",
    "id": "NRhoaPiaqrbC",
    "outputId": "77f983ec-b7e0-4ce7-d545-315db06400cc"
   },
   "outputs": [],
   "source": []
  },
  {
   "cell_type": "markdown",
   "metadata": {
    "colab_type": "text",
    "id": "jX8VQFUmegzf"
   },
   "source": [
    "# Python Basics II"
   ]
  },
  {
   "cell_type": "markdown",
   "metadata": {
    "colab_type": "text",
    "id": "KAtA4dUASspm"
   },
   "source": [
    "## 1. More on Loops"
   ]
  },
  {
   "cell_type": "markdown",
   "metadata": {
    "colab_type": "text",
    "id": "SKBq2-GQS2yM"
   },
   "source": [
    "In the first Python Bootcamp notebook, we went over for loops, if statements, and while loops. They control the flow of the code through repetition or conditional barriers. There are two statements associated with flow control which give more power to the user: these are ```break``` and ```continue```."
   ]
  },
  {
   "cell_type": "markdown",
   "metadata": {
    "colab_type": "text",
    "id": "bGdpTIMlTxqh"
   },
   "source": [
    "Before we use them, let's make a normal for loop which prints numbers from 1 to 50."
   ]
  },
  {
   "cell_type": "code",
   "execution_count": null,
   "metadata": {
    "colab": {
     "base_uri": "https://localhost:8080/",
     "height": 917
    },
    "colab_type": "code",
    "id": "TxDLktElUIx1",
    "outputId": "ed9a14b1-35af-4cac-e1ea-7ee96c892586"
   },
   "outputs": [],
   "source": []
  },
  {
   "cell_type": "markdown",
   "metadata": {
    "colab_type": "text",
    "id": "qpcyvrKWTqA7"
   },
   "source": [
    "### Break"
   ]
  },
  {
   "cell_type": "markdown",
   "metadata": {
    "colab_type": "text",
    "id": "Bvv9AGHZUYQp"
   },
   "source": [
    "Now let's modify our loop above.\n",
    "\n",
    "By calling ```break``` inside of a loop, you are stopping it. Hence, even if there are more iterations to cover, Python will ignore them and move on.\n",
    "\n",
    "So, suppose the user is allowed to set a threshold value for which we can ignore the rest of the numbers above it. For example, if the threshold is set at 20, then the code should only print up to 20.\n",
    "\n",
    "Define a variable to be your threshold based upon the user's input. Then copy and paste your for loop in the cell below. Modify the loop so that when the the iterator is above that threshold, the loop will stop."
   ]
  },
  {
   "cell_type": "code",
   "execution_count": null,
   "metadata": {
    "colab": {
     "base_uri": "https://localhost:8080/",
     "height": 395
    },
    "colab_type": "code",
    "id": "zt-47G35Vi-Y",
    "outputId": "f031bf71-41c0-4778-c422-9d307c09b33b"
   },
   "outputs": [],
   "source": []
  },
  {
   "cell_type": "markdown",
   "metadata": {
    "colab_type": "text",
    "id": "S-a4FDBqTsCl"
   },
   "source": [
    "### Continue"
   ]
  },
  {
   "cell_type": "markdown",
   "metadata": {
    "colab_type": "text",
    "id": "CD-EVOZtV1Du"
   },
   "source": [
    "Let's modify the original loop in a different way.\n",
    "\n",
    "By calling ```continue``` inside of a loop, it will immediately move on to the next iteration, ignoring all lines that were under it.\n",
    "\n",
    "Suppose we only want to print odd numbers. How can you modify the loop you made in the beginning so that it will ignore the even numbers and print the odd numbers from 1 to 50?\n",
    "\n",
    "Note: there are different ways to do this without using ```continue```, but for the purposes of this exercise, try to incorporate it into your solution."
   ]
  },
  {
   "cell_type": "code",
   "execution_count": null,
   "metadata": {
    "colab": {
     "base_uri": "https://localhost:8080/",
     "height": 467
    },
    "colab_type": "code",
    "id": "XSSk2-QtXMkN",
    "outputId": "304a5e8e-2069-4f6f-dc6c-3b36038148ac"
   },
   "outputs": [],
   "source": []
  },
  {
   "cell_type": "markdown",
   "metadata": {
    "colab_type": "text",
    "id": "ezRRiHoQlfJT"
   },
   "source": [
    "## 2. List Comprehension"
   ]
  },
  {
   "cell_type": "markdown",
   "metadata": {
    "colab_type": "text",
    "id": "6pt9ngkolibd"
   },
   "source": [
    "Unlike Java or C, which are \"compiling\" languages, Python is an \"interpretive\" language. In other words, Python will run your code line by line until it reaches the end. In other words, it runs while it reads. Because of this, we want to make the interpreter's job as easy as possible (i.e. make our code as compact as possible). A perfect example of this is when creating lists.\n",
    "\n",
    "Say you want to make an array whose entry is \"Yup!\" if a number is a factor of 41 and \"Nope\" if it is not for every number between 0 and 10,000,000. By this point you'd probably think to make a for loop that contains an if else statement, like such:"
   ]
  },
  {
   "cell_type": "markdown",
   "metadata": {
    "colab_type": "text",
    "id": "DDHHk6XKr56j"
   },
   "source": [
    "```\n",
    "# Don't worry about this; it will return the time to run the code.\n",
    "%%timeit\n",
    "\n",
    "foo = []\n",
    "for i in range(0, 10000000):\n",
    "  if i % 41 == 0:\n",
    "    foo.append('Yup!')\n",
    "  else:\n",
    "    foo.append('Nope')\n",
    "```"
   ]
  },
  {
   "cell_type": "markdown",
   "metadata": {
    "colab_type": "text",
    "id": "mDYr-WQdsCfG"
   },
   "source": [
    "Copy and paste this code and run it to see the output."
   ]
  },
  {
   "cell_type": "code",
   "execution_count": null,
   "metadata": {
    "colab": {
     "base_uri": "https://localhost:8080/",
     "height": 35
    },
    "colab_type": "code",
    "id": "p4XLvORTKNJQ",
    "outputId": "a65c16b3-bc30-4dbd-fc8e-b0aaf51ccb59"
   },
   "outputs": [],
   "source": []
  },
  {
   "cell_type": "markdown",
   "metadata": {
    "colab_type": "text",
    "id": "UOVsimLLQDIq"
   },
   "source": [
    "But there's a much faster way of doing this using the power of list comprehension!"
   ]
  },
  {
   "cell_type": "markdown",
   "metadata": {
    "colab_type": "text",
    "id": "0b-gXTyssMIr"
   },
   "source": [
    "```\n",
    "%%timeit\n",
    "\n",
    "foo = ['Yup!' if i % 41 == 0 else 'Nope' for i in range(0, 10000000)]\n",
    "```"
   ]
  },
  {
   "cell_type": "markdown",
   "metadata": {
    "colab_type": "text",
    "id": "8cQsPb2dsPSR"
   },
   "source": [
    "Copy and paste this code and run it to see the output. Notice the difference between this and the last cell of code. Which is better?"
   ]
  },
  {
   "cell_type": "code",
   "execution_count": null,
   "metadata": {
    "colab": {
     "base_uri": "https://localhost:8080/",
     "height": 35
    },
    "colab_type": "code",
    "id": "ztGYW54oKj3a",
    "outputId": "4fc72f13-142a-414d-94c7-2754ac35fe75"
   },
   "outputs": [],
   "source": []
  },
  {
   "cell_type": "markdown",
   "metadata": {
    "colab_type": "text",
    "id": "_sJ2i2HYQQQD"
   },
   "source": [
    "Not only does it run faster, but it's just nicer to look at. This has taken the long code from above and put it all into one line. And it reads like english: foo is a list with 'Yup!' if i modulo 41 is 0, or 'Nope' if not, for i in the range 0 to 100000000.\n",
    "\n",
    "Note: There is an order for the conditionals and for loop:\n",
    "\n",
    "1. for\n",
    "2. for if\n",
    "3. if else for\n",
    "\n",
    "Thus for example, ```[x for x in range(5) if x != 2 else 3]``` would *not* work.\n",
    "\n",
    "Using list comprehension, make an array that is the square of every number between 0 and 1,000."
   ]
  },
  {
   "cell_type": "code",
   "execution_count": null,
   "metadata": {
    "colab": {
     "base_uri": "https://localhost:8080/",
     "height": 55
    },
    "colab_type": "code",
    "id": "ivTZBWqyRQuU",
    "outputId": "6f222f65-cd95-427c-87e7-b7ec44070f59"
   },
   "outputs": [],
   "source": []
  },
  {
   "cell_type": "markdown",
   "metadata": {
    "colab_type": "text",
    "id": "ifNQwfaNRwbk"
   },
   "source": [
    "Now let's try conditionals. Let's look for all the integer squares between 0 and 1,000,000! Using list comprehension, make a list of all numbers whose square root is an integer (hint: An integer n will have n % 1 == 0)"
   ]
  },
  {
   "cell_type": "code",
   "execution_count": null,
   "metadata": {
    "colab": {
     "base_uri": "https://localhost:8080/",
     "height": 55
    },
    "colab_type": "code",
    "id": "YrWr7FwuTmCD",
    "outputId": "e942d5f2-b979-4ae3-bf71-eb8082d585f3"
   },
   "outputs": [],
   "source": []
  },
  {
   "cell_type": "markdown",
   "metadata": {
    "colab_type": "text",
    "id": "04xgA0P-OFCC"
   },
   "source": [
    "## 3. Functions"
   ]
  },
  {
   "cell_type": "markdown",
   "metadata": {
    "colab_type": "text",
    "id": "BkgNf-tRHnD3"
   },
   "source": [
    "Let's refine our use of functions. Functions are used to either give a result, or to do something. "
   ]
  },
  {
   "cell_type": "markdown",
   "metadata": {
    "colab_type": "text",
    "id": "agMbDjymHrLT"
   },
   "source": [
    "### Returns"
   ]
  },
  {
   "cell_type": "markdown",
   "metadata": {
    "colab_type": "text",
    "id": "qxq7NGSmOPqH"
   },
   "source": [
    "For a function to give a result, use *return*. For example:\n",
    "```\n",
    "def f(x):\n",
    "  return x\n",
    "```\n",
    "will give back whatever is put into it, ie. f(2)=2, f('hi')='hi', etc.\n",
    "\n",
    "Write a function that calculates (and returns) the hypotenuse of a right triangle when given the side lengths. Test it out by printing the hypotenuse of a triangle with side lengths 3 and 4 (ans: 5). Try it for other side lengths.\n",
    "\n",
    "Store the function output into a variable.\n",
    "\n",
    "\n"
   ]
  },
  {
   "cell_type": "code",
   "execution_count": null,
   "metadata": {
    "colab": {
     "base_uri": "https://localhost:8080/",
     "height": 53
    },
    "colab_type": "code",
    "id": "o2_9wzBZPwP1",
    "outputId": "7b341a81-e430-4848-c3fd-2198b283c79f"
   },
   "outputs": [],
   "source": []
  },
  {
   "cell_type": "markdown",
   "metadata": {
    "colab_type": "text",
    "id": "Nx9VzCprHugW"
   },
   "source": [
    "### No Returns"
   ]
  },
  {
   "cell_type": "markdown",
   "metadata": {
    "colab_type": "text",
    "id": "MN02k10VQIJ8"
   },
   "source": [
    "A function does not require a return. It can just do things. For example:\n",
    "```\n",
    "def f(x):\n",
    "  print('hello world' + str(x))\n",
    "```\n",
    "Create this function and store a variable to the output (same way as the last problem), then print the variable. Does this make sense?"
   ]
  },
  {
   "cell_type": "code",
   "execution_count": null,
   "metadata": {
    "colab": {
     "base_uri": "https://localhost:8080/",
     "height": 53
    },
    "colab_type": "code",
    "id": "uBl9s5H_Sc16",
    "outputId": "07681917-7470-4509-beab-8ebc77abd48a"
   },
   "outputs": [],
   "source": []
  },
  {
   "cell_type": "markdown",
   "metadata": {
    "colab_type": "text",
    "id": "IIOuEDaKSywp"
   },
   "source": [
    "Create a function that plots any given function for any given range. It should also be given labels and a title, but default to none if they aren't given (Recall how to initialize function parameters). \n",
    "\n",
    "Use it to plot a log function from 1 to 100. Or plot whatever function you want. Test out the title and labels in your function."
   ]
  },
  {
   "cell_type": "code",
   "execution_count": null,
   "metadata": {
    "colab": {
     "base_uri": "https://localhost:8080/",
     "height": 281
    },
    "colab_type": "code",
    "id": "VTesIaBATxdu",
    "outputId": "74729805-709b-4704-d83e-556a513bc1b4"
   },
   "outputs": [],
   "source": []
  },
  {
   "cell_type": "markdown",
   "metadata": {
    "colab_type": "text",
    "id": "nstt8dVPH03B"
   },
   "source": [
    "### Multiple Returns"
   ]
  },
  {
   "cell_type": "markdown",
   "metadata": {
    "colab_type": "text",
    "id": "klkXSYkqX4VI"
   },
   "source": [
    "Suppose you need to write a function that returns more than one value. To do this, have the function return a list, tuple, or anything list-like (convention for multiple output is tuples). Then it is possible to assign multiple variables at once to the output. For example:\n",
    "```\n",
    "def f(x):\n",
    "  return (x, x+1, x+2)\n",
    "a, b, c = f(1)\n",
    "```\n",
    "will have *a=1*, *b=2*, and *c=3* all in one line.\n",
    "\n"
   ]
  },
  {
   "cell_type": "markdown",
   "metadata": {
    "colab_type": "text",
    "id": "3AIQ7WWIrNHT"
   },
   "source": [
    "Side note: You can also assign multiple variables in one line like this:\n",
    "\n",
    "```a, b, c = 1, 2, 3```"
   ]
  },
  {
   "cell_type": "markdown",
   "metadata": {
    "colab_type": "text",
    "id": "DCNTORy4fFGm"
   },
   "source": [
    "Write a function which when given a frequency and index of refraction, calculates and returns three values: wavelength, wave speed, wave energy. Then store three variables as the outputs.\n",
    "\n",
    "Useful Equations:\n",
    "\n",
    "> Wave Speed: $v = \\frac{c}{n}$\n",
    "\n",
    "> Wavelength: $\\lambda = \\frac{c}{fn}$\n",
    "\n",
    "> Wave energy: $E = hf$\n",
    "\n",
    "where *f* is the frequency, *n* is the index of refraction, *c = $3*10^8 m s^{-1}$* is the speed of light in vacuum, and *h = $6.6*10^{-34} m^2 \\text{kg } s^{-1}$* is Planck's constant. Don't worry about the units for now.\n",
    "\n",
    "Test the function out for a frequency of $10^{16}$ Hz and index of refraction $1.5$."
   ]
  },
  {
   "cell_type": "code",
   "execution_count": null,
   "metadata": {
    "colab": {
     "base_uri": "https://localhost:8080/",
     "height": 35
    },
    "colab_type": "code",
    "id": "D1WMODsGZbdY",
    "outputId": "35abe85d-e4a2-4812-fca0-8cfe0d739d6a"
   },
   "outputs": [],
   "source": []
  },
  {
   "cell_type": "markdown",
   "metadata": {
    "colab_type": "text",
    "id": "sO9S1vt7f5hQ"
   },
   "source": [
    "Suppose you only wanted the first two outputs. It is not required that you store a variable to a value you don't want. BUT you must indicate that you are ignoring it by storing it to an underscore. For example:\n",
    "\n",
    "```a, b, _ = f(1)```\n",
    "\n",
    "will only store values in *a* and *b* and ignore the third output.\n",
    "\n",
    "If there are multiple outputs that you want to ignore, you can use *_. For example:\n",
    "\n",
    "```a, *_ = f(1)```\n",
    "\n",
    "will only store a value in *a* and ignore all the outputs after. But note that *_ must be used last.\n",
    "\n",
    "Using the function you defined above, store only the second output to a variable."
   ]
  },
  {
   "cell_type": "code",
   "execution_count": null,
   "metadata": {
    "colab": {},
    "colab_type": "code",
    "id": "vatmwSxXg_Jt"
   },
   "outputs": [],
   "source": []
  },
  {
   "cell_type": "markdown",
   "metadata": {
    "colab_type": "text",
    "id": "ldeiqdVJg_qx"
   },
   "source": [
    "There is another way to return only a selection of outputs. This is useful if you only want to use a certain return value but not store it to a variable. To do this, treat the function as a list and call it element wise using square brackets [ ]. For example:\n",
    "\n",
    "```x = 3*f(1)[2]```\n",
    "\n",
    "will store three times the third return of *f(1)* (third since indexing starts at 0).\n",
    "\n",
    "Define a function which returns for a given range the functions: cosine, sine, exponential, and log10 all at once.\n",
    "\n",
    "Then separately, plot only the log10 function over that range."
   ]
  },
  {
   "cell_type": "code",
   "execution_count": null,
   "metadata": {
    "colab": {
     "base_uri": "https://localhost:8080/",
     "height": 283
    },
    "colab_type": "code",
    "id": "zvyObt9AiJTt",
    "outputId": "bab2a9e6-5f7c-4486-b4e4-b31b4a6cb64f"
   },
   "outputs": [],
   "source": []
  },
  {
   "cell_type": "markdown",
   "metadata": {
    "colab_type": "text",
    "id": "_iawUjU6h0QO"
   },
   "source": [
    "## 4. String Formatting"
   ]
  },
  {
   "cell_type": "markdown",
   "metadata": {
    "colab_type": "text",
    "id": "VXLuUDn9h4lq"
   },
   "source": [
    "It is very likely that there are times where you would like to print out a value in the middle of a string. Perhaps you would like to print this value to a certain precision, or in a specific way such as scientific notation. String formatting solves all of this and more. There are a few different ways to do string formatting. Here, we will use the ```str.format()``` method.\n",
    "\n",
    "The syntax goes as\n",
    "\n",
    "```\"x = {0:0.3f} and y = {1:0.1f}. Also my name is {2}, and I am {3:0.0f} years old.\".format(x_value, y_value, name, age)```\n",
    "\n",
    "where we have a string given by \" \" and format() is a method of the string (so we use \" \".format()) and everything inside of the ```format()``` is variable and can change. Inside the brackets { } will change the display of the corresponding value. The first number is their key, which matches the argument number in ```format()```. So the first one will use ```x_value``` and display it to 3 decimal places. The second will use ```y_value``` and display it to 1 decimal place. The third will take ```name``` as it is. And the last uses ```age``` displayed as an integer.\n",
    "\n",
    "Try it out:\n",
    "\n",
    "1. Print the result of the hypotenuse function so that the program outputs \"For a triangle with sides length _ and _, its hypotnuse is _\".\n",
    "2. Create a for loop which loops through a list of name and age pairs and outputs \"My name is _ and I am _ years old\"\n",
    "3. Try using it in the rest of the exercises to print your results more clearly\n",
    "\n",
    "Find more information on string formatting here: \n",
    "\n",
    "> https://www.geeksforgeeks.org/python-format-function/"
   ]
  },
  {
   "cell_type": "code",
   "execution_count": null,
   "metadata": {
    "colab": {
     "base_uri": "https://localhost:8080/",
     "height": 89
    },
    "colab_type": "code",
    "id": "LmrqLdUCkJ-m",
    "outputId": "1784449d-3031-4e7d-9e32-bb3ef9164102"
   },
   "outputs": [],
   "source": []
  },
  {
   "cell_type": "markdown",
   "metadata": {
    "colab_type": "text",
    "id": "-nfnf7NOW0qN"
   },
   "source": [
    "## 5. More on Plotting"
   ]
  },
  {
   "cell_type": "markdown",
   "metadata": {
    "colab_type": "text",
    "id": "P9pqmcHtjaDk"
   },
   "source": [
    "Let's take a look at more ways we can improve our plots. (These are common tips for improvement. We will not look at how to do different types of plots. Whenever you encounter the problem of needing to do a specific type of plot, the power of google will have to be used.)"
   ]
  },
  {
   "cell_type": "markdown",
   "metadata": {
    "colab_type": "text",
    "id": "ZSVbS51_5xdu"
   },
   "source": [
    "### Figures"
   ]
  },
  {
   "cell_type": "markdown",
   "metadata": {
    "colab_type": "text",
    "id": "QDNdqWou5wkG"
   },
   "source": [
    "First, let's define the data we'll use to plot. Create one or two arrays that we can use to plot sine from 0 to 2$\\pi$. Then plot it."
   ]
  },
  {
   "cell_type": "code",
   "execution_count": null,
   "metadata": {
    "colab": {
     "base_uri": "https://localhost:8080/",
     "height": 283
    },
    "colab_type": "code",
    "id": "e5zVcG7_kK94",
    "outputId": "eecaa805-4e9c-4dd4-ede2-ca104fcbd97b"
   },
   "outputs": [],
   "source": []
  },
  {
   "cell_type": "markdown",
   "metadata": {
    "colab_type": "text",
    "id": "-4GFtd3zkZpG"
   },
   "source": [
    "The first thing that will improve your plots is defining your plot figure. Use plt.figure() to create a figure that is 7 inches tall, 10 inches wide and has a gray background color. Then plot the sine curve again."
   ]
  },
  {
   "cell_type": "code",
   "execution_count": null,
   "metadata": {
    "colab": {
     "base_uri": "https://localhost:8080/",
     "height": 446
    },
    "colab_type": "code",
    "id": "zmvJvERTihK3",
    "outputId": "5ea373b5-420e-47a4-c875-6c17adf86be1"
   },
   "outputs": [],
   "source": []
  },
  {
   "cell_type": "markdown",
   "metadata": {
    "colab_type": "text",
    "id": "JVjNAt2XmhIh"
   },
   "source": [
    "Repeat the above, but this time:\n",
    "\n",
    "  1. Create a title with a font size of 20.\n",
    "  2. Create axis labels with a font size of 20.\n",
    "  3. Add a grid.\n",
    "  4. Make a sine curve a green dashed line with a line width of 4.\n",
    "  5. Save the plot as a png. (Google plt.savefig)"
   ]
  },
  {
   "cell_type": "code",
   "execution_count": null,
   "metadata": {
    "colab": {
     "base_uri": "https://localhost:8080/",
     "height": 472
    },
    "colab_type": "code",
    "id": "9xlcG4xPmgNZ",
    "outputId": "fbb12048-e31e-4b16-9d22-ba7c47f6805d"
   },
   "outputs": [],
   "source": []
  },
  {
   "cell_type": "markdown",
   "metadata": {
    "colab_type": "text",
    "id": "MtYBBleCvU8N"
   },
   "source": [
    "### Subplots"
   ]
  },
  {
   "cell_type": "markdown",
   "metadata": {
    "colab_type": "text",
    "id": "criXyjyjvW_u"
   },
   "source": [
    "Perhaps you would like to plot multiple things as one figure. The way to do this is to use ```plt.subplots()```. This will return a figure and a list of subplots on the figure. The subplots are organized like a grid. So for 4 subplots that's 2x2, you want\n",
    "\n",
    "```fig, ax = plt.subplots(nrows=2, ncols=2)```\n",
    "\n",
    "Then you can edit each subplot using \n",
    "\n",
    "```ax[0,0].plot(x, y, color=..., lw=..., etc.)```, \n",
    "\n",
    "```ax[0,0].set(title=..., xlabel=..., etc.)```\n",
    "\n",
    "and so on. Here, [0,0] refers to the upper left subplot, so [1, 1] would refer to the bottom right subplot. \n",
    "\n",
    "Or you can obtain the subplots another way:\n",
    "\n",
    "```fig, (axrow1, axrow2) = plt.subplots(nrows=2, ncols=2)```\n",
    "\n",
    "and then axrow1 contains the first row of subplots and axrow2 contains the second. Then to call the first row, first column you can use ```axrow1[0]``` and to call the first row, second column use ```axrow1[1]```.\n",
    "\n",
    "Note that plt.subplots() can take the same keyword arguments as plt.plot(), e.g. ```plt.subplots(nrows=2, ncols=2, figsize=[10,7])```."
   ]
  },
  {
   "cell_type": "markdown",
   "metadata": {
    "colab_type": "text",
    "id": "xJCMmMCPxh0K"
   },
   "source": [
    "Make three graphs (sine, cosine, tangent from $-\\pi$ to $\\pi$) on a 2x2 subplot grid. \n",
    "\n",
    "Hint: You will need to delete the unused subplot using ```fig.delaxes(insert unused subplot variable here)``` where fig is the variable name of your figure.\n",
    "\n",
    "Adjust the size of the figure, and the design of your plots to make it as nice looking as possible. Be sure to add a title and axes labels. Specifically, give each subplot a title, and give the entire figure a title."
   ]
  },
  {
   "cell_type": "code",
   "execution_count": null,
   "metadata": {
    "colab": {
     "base_uri": "https://localhost:8080/",
     "height": 616
    },
    "colab_type": "code",
    "id": "HZt4htzPy07b",
    "outputId": "a5250dbf-599c-42aa-e09b-89a2403fda96"
   },
   "outputs": [],
   "source": []
  },
  {
   "cell_type": "markdown",
   "metadata": {
    "colab_type": "text",
    "id": "mLFtKVBi12nN"
   },
   "source": [
    "**Challenge**: Can you perform the same steps above using a for loop that iterates over each axis?"
   ]
  },
  {
   "cell_type": "code",
   "execution_count": null,
   "metadata": {
    "colab": {
     "base_uri": "https://localhost:8080/",
     "height": 634
    },
    "colab_type": "code",
    "id": "trYx6ErS2B_n",
    "outputId": "08faa2d8-4075-4e1f-e48e-c5e64cc60faf"
   },
   "outputs": [],
   "source": []
  },
  {
   "cell_type": "markdown",
   "metadata": {
    "colab_type": "text",
    "id": "2aguI8qe4d8-"
   },
   "source": [
    "### Default Parameters"
   ]
  },
  {
   "cell_type": "markdown",
   "metadata": {
    "colab_type": "text",
    "id": "W4_vcKkN4lKn"
   },
   "source": [
    "It is often useful to set the default plotting settings to something we would like. For example, setting the default font size to something bigger is useful instead of writing out the font size in every function where we add text (titles, labels, etc.).\n",
    "\n",
    "The code below will change the default font size to 20. For information on changing other parameters, look up the documentation of ```plt.rcParams.update()```."
   ]
  },
  {
   "cell_type": "code",
   "execution_count": null,
   "metadata": {
    "colab": {},
    "colab_type": "code",
    "id": "g9Yz8E2d5X3G"
   },
   "outputs": [],
   "source": [
    "# This will change the default font size of all future plots to 20.\n",
    "plt.rcParams.update({'font.size': 20})"
   ]
  },
  {
   "cell_type": "markdown",
   "metadata": {},
   "source": [
    "After running the code, rerun your plots and see how they've changed!"
   ]
  },
  {
   "cell_type": "markdown",
   "metadata": {
    "colab_type": "text",
    "id": "94i7RE8qlzxp"
   },
   "source": [
    "# Reading and Writing Files"
   ]
  },
  {
   "cell_type": "markdown",
   "metadata": {
    "colab_type": "text",
    "id": "SYAjx1-IdDQo"
   },
   "source": [
    "## Reading"
   ]
  },
  {
   "cell_type": "markdown",
   "metadata": {
    "colab_type": "text",
    "id": "o9-aY4yrmLT8"
   },
   "source": [
    "One of the key uses for programming is working with data. This data is usually written in a .txt, .csv, etc. and so you will have to import this data into Python. There are two ways to do this: 1) Manually type out the data into Python numpy arrays, 2) Use awesome functions in Python to quickly import the data.\n",
    "\n",
    "There are multiple libraries which allow you to import data but the most common to start with is ```numpy.genfromtxt()```. Look up the documentation for this and read through some of the parameters."
   ]
  },
  {
   "cell_type": "markdown",
   "metadata": {
    "colab_type": "text",
    "id": "J6NFTa8JaOZB"
   },
   "source": [
    "Take a look at the data here:\n",
    "\n",
    "> https://raw.githubusercontent.com/ZackAshM/PythonBootcamp/master/data/testData.txt\n",
    "\n",
    "It is separated by header, data, and footer. The data is organized in two columns, separated by a space. Using the ```genfromtxt()``` function, import the data above and print the result. \n",
    "\n",
    "Note that the filename parameter for this function is a string. It refers to the name of the file. Python will search through its connected directories to find that file. Or instead, we can give it a URL from which it can 'download' the data, without it having to be saved in one of its directories. Therefore, you can import this data by copy-pasting the url (as a string) into the filename parameter. Use other parameters as necessary.\n",
    "\n",
    "If you are having troubles, scan the documentation. What is this function returning? "
   ]
  },
  {
   "cell_type": "code",
   "execution_count": null,
   "metadata": {
    "colab": {
     "base_uri": "https://localhost:8080/",
     "height": 53
    },
    "colab_type": "code",
    "id": "WGrwALDEbvCX",
    "outputId": "b931a0e4-bc66-47e8-de85-672e1ab0bd23"
   },
   "outputs": [],
   "source": []
  },
  {
   "cell_type": "markdown",
   "metadata": {
    "colab_type": "text",
    "id": "dpzA4pVZcVBz"
   },
   "source": [
    "Try using the unpack parameter. How does this change the result? Why is this better (Hint: how would you go about indexing the data in each case)?\n",
    "\n",
    "Now that you have imported your data, you usually want to plot it (for example, if you're taking a lab class). Plot the data as a scatter plot."
   ]
  },
  {
   "cell_type": "code",
   "execution_count": null,
   "metadata": {
    "colab": {
     "base_uri": "https://localhost:8080/",
     "height": 292
    },
    "colab_type": "code",
    "id": "5_LWoaN8cUB-",
    "outputId": "972c61ea-0d34-4def-f105-a6960d89f144"
   },
   "outputs": [],
   "source": []
  },
  {
   "cell_type": "markdown",
   "metadata": {
    "colab_type": "text",
    "id": "yvkvjdnicUTO"
   },
   "source": [
    "## Writing"
   ]
  },
  {
   "cell_type": "markdown",
   "metadata": {
    "colab_type": "text",
    "id": "pd9JkSJEdKC0"
   },
   "source": [
    "Now, let's create some data of our own and store it as an output file.\n",
    "\n",
    "First, let's create some data to store. Define some range of x values and then use a function on the x values to get some set of y values. Do this however you'd like."
   ]
  },
  {
   "cell_type": "code",
   "execution_count": null,
   "metadata": {
    "colab": {},
    "colab_type": "code",
    "id": "ka0G_GmUdwFy"
   },
   "outputs": [],
   "source": []
  },
  {
   "cell_type": "markdown",
   "metadata": {
    "colab_type": "text",
    "id": "0k7A4S5Ud4pU"
   },
   "source": [
    "Now, let's create a file using the ```open()``` function. Look up the documentation for this, then create a file named \"MyData.txt\" and so that we can write to it."
   ]
  },
  {
   "cell_type": "code",
   "execution_count": null,
   "metadata": {
    "colab": {},
    "colab_type": "code",
    "id": "9UFYXYrpeQ8M"
   },
   "outputs": [],
   "source": []
  },
  {
   "cell_type": "markdown",
   "metadata": {
    "colab_type": "text",
    "id": "LkJx_2j9eXAw"
   },
   "source": [
    "Next, we can write to the file using its member function ```write()```. To call its member function, use the syntax ```<variable>.<member function>()```. First, write a comment in the file to describe your data."
   ]
  },
  {
   "cell_type": "code",
   "execution_count": null,
   "metadata": {
    "colab": {},
    "colab_type": "code",
    "id": "cBbwb2_Ye7-J"
   },
   "outputs": [],
   "source": []
  },
  {
   "cell_type": "markdown",
   "metadata": {
    "colab_type": "text",
    "id": "PzfXNK2PfCsu"
   },
   "source": [
    "Now, we will want to store the data with x in the first column and y in the second column. Do so by writing each x, y pair of data individually. Hint: Consider using string formatting. And make sure there is a new-line break after each line of writing."
   ]
  },
  {
   "cell_type": "code",
   "execution_count": null,
   "metadata": {
    "colab": {},
    "colab_type": "code",
    "id": "ut5yA4jffd87"
   },
   "outputs": [],
   "source": []
  },
  {
   "cell_type": "markdown",
   "metadata": {
    "colab_type": "text",
    "id": "PpxjBvyKgb5N"
   },
   "source": [
    "You can check for your file by clicking the files folder button on the left edge. You should see your file in there. Then you can right-click and download it to view it and see if you did this correctly.\n",
    "\n",
    "If you have trouble finding it, ask one of us, or google how to find files in Google Colab."
   ]
  },
  {
   "cell_type": "markdown",
   "metadata": {
    "colab_type": "text",
    "id": "VMEaoMqbW1KK"
   },
   "source": [
    "## Closing and With Statements"
   ]
  },
  {
   "cell_type": "markdown",
   "metadata": {
    "colab_type": "text",
    "id": "ynVenjwyW7tG"
   },
   "source": [
    "Note that there's a problem with how we've left things. We never closed the files that we opened, hence they're still in memory and can cause a memory leak (something that's realllllyyyy bad). Let's learn how to close the file to prevent this.\n",
    "\n",
    "One way is simply the close() member function of the file (i.e ```<file_variable>.close()```). Using that, close the file that you opened."
   ]
  },
  {
   "cell_type": "code",
   "execution_count": null,
   "metadata": {
    "colab": {},
    "colab_type": "code",
    "id": "vrXN7WKuXs1R"
   },
   "outputs": [],
   "source": []
  },
  {
   "cell_type": "markdown",
   "metadata": {
    "colab_type": "text",
    "id": "iEC18wR1Xz0B"
   },
   "source": [
    "There's a much safer way of handling data writing without needing to use the close() function. This is using \"with statements.\" They work similarly to for and while loops. The syntax is\n",
    "\n",
    "```\n",
    "with <open_function> as <variable_name>:\n",
    "    <do things with variable_name>\n",
    "```\n",
    "\n",
    "So we'll want to use this to write the data all in one \"with statement\". Try it out - write the data in a new file named MyData2.txt."
   ]
  },
  {
   "cell_type": "code",
   "execution_count": null,
   "metadata": {
    "colab": {},
    "colab_type": "code",
    "id": "70Iwu3NKa9Qx"
   },
   "outputs": [],
   "source": []
  },
  {
   "cell_type": "markdown",
   "metadata": {
    "colab_type": "text",
    "id": "yCzFvFXbmQXd"
   },
   "source": [
    "# Fitting"
   ]
  },
  {
   "cell_type": "markdown",
   "metadata": {
    "colab_type": "text",
    "id": "4Z3fOGe9mYzk"
   },
   "source": [
    "Once we have data, there is usually a way to model the data. This means that we can take a model, an equation or function, and 'fit' this to the data. Every model depends on certain parameters. Fitting will find the parameters for the model which gives the best representation of the data.\n",
    "\n",
    "If you are taking a physics lab course, then you might be aware of how often you have to fit data to a line. Try using Python the next time you have to do a linear fit!"
   ]
  },
  {
   "cell_type": "markdown",
   "metadata": {
    "colab_type": "text",
    "id": "hvAsGpeqMTMz"
   },
   "source": [
    "### scipy.optimize.curve_fit()"
   ]
  },
  {
   "cell_type": "markdown",
   "metadata": {
    "colab_type": "text",
    "id": "kZa89XpPMWa4"
   },
   "source": [
    "There are multiple functions from many different libraries that you can use to do fitting. The most common to use is ```scipy.optimize.curve_fit()```. Look up the documentation for this function. Read through some of the parameters and get a feel for how this function may work (what data types are the parameters, how many parameters are there, what are the returns, etc?)\n",
    "\n",
    "Now, import just this function."
   ]
  },
  {
   "cell_type": "code",
   "execution_count": null,
   "metadata": {
    "colab": {},
    "colab_type": "code",
    "id": "8-r1bcnDM_N1"
   },
   "outputs": [],
   "source": []
  },
  {
   "cell_type": "markdown",
   "metadata": {
    "colab_type": "text",
    "id": "pkC9x5NjNHas"
   },
   "source": [
    "### Linear Fit"
   ]
  },
  {
   "cell_type": "markdown",
   "metadata": {
    "colab_type": "text",
    "id": "xBFwwNSKNKcp"
   },
   "source": [
    "Take a look at the data written here:\n",
    "\n",
    ">https://raw.githubusercontent.com/ZackAshM/PythonBootcamp/master/data/LinData.txt\n",
    "\n",
    "Do you understand how it is written?\n",
    "\n",
    "Using the ```np.genfromtxt()``` function from earlier, import this data by copy and pasting the url as the filename (and as a string). Apply any other parameters from this function as necessary.\n",
    "\n",
    "Print the resulting array. If you are satisfied with the result, plot the data (note: these are discrete data points, so you should use a scatter plot)."
   ]
  },
  {
   "cell_type": "code",
   "execution_count": null,
   "metadata": {
    "colab": {
     "base_uri": "https://localhost:8080/",
     "height": 391
    },
    "colab_type": "code",
    "id": "pymgU3mzUCvk",
    "outputId": "760f1fc0-5541-4e93-f93f-de521d7671c0"
   },
   "outputs": [],
   "source": []
  },
  {
   "cell_type": "markdown",
   "metadata": {
    "colab_type": "text",
    "id": "l5XaNk42OpyG"
   },
   "source": [
    "As you can see, the data looks very close to a linear relationship. We can define the model for a linear function as\n",
    "\n",
    "> y = mx + b\n",
    "\n",
    "where m and b are the model parameters, namely the slope and y-intercept. Define a function which returns this linear model when given x data, slope, and y-intercept as arguments.\n",
    "\n",
    "Now use this function and the ```scipy.optimize.curve_fit()``` function to get a fit for this data. Plot the data and fit on top of each other, with a legend to distinguish the two. Hint: What does the ```curve_fit()``` function return? Scan the documentation if you get stuck, you may be able to find useful information on it (perhaps, an example of how to use it)."
   ]
  },
  {
   "cell_type": "code",
   "execution_count": null,
   "metadata": {
    "colab": {
     "base_uri": "https://localhost:8080/",
     "height": 301
    },
    "colab_type": "code",
    "id": "aP4AaDCLQDSZ",
    "outputId": "9415c77b-4ba7-4ef2-bc64-697fb2a1efea"
   },
   "outputs": [],
   "source": []
  },
  {
   "cell_type": "markdown",
   "metadata": {
    "colab_type": "text",
    "id": "gvVFd5VjQDgJ"
   },
   "source": [
    "Finally, print the resulting fit parameters using the cell above. The data was generated using the parameters\n",
    "\n",
    "> **m** = 0.5, **b** = 0.25\n",
    "\n",
    "How well did the fit do for obtaining these parameters?"
   ]
  },
  {
   "cell_type": "markdown",
   "metadata": {
    "colab_type": "text",
    "id": "HbfsHV3Kdj02"
   },
   "source": [
    "After we've fit the data, let's check the agreement numerically. One way to do this is to find the percent difference. The equation for this is\n",
    "\n",
    "> \\%diff. $= \\frac{|\\text{fitted - actual}|}{\\text{actual}} * 100$\n",
    "\n",
    "Calculate the percent difference between your slope and y-intercept."
   ]
  },
  {
   "cell_type": "code",
   "execution_count": null,
   "metadata": {
    "colab": {
     "base_uri": "https://localhost:8080/",
     "height": 53
    },
    "colab_type": "code",
    "id": "_2o0MBRNeOrY",
    "outputId": "c2811b05-00e1-4bb1-c719-f5d9067e073a"
   },
   "outputs": [],
   "source": []
  },
  {
   "cell_type": "markdown",
   "metadata": {
    "colab_type": "text",
    "id": "rogxp1m4VEiV"
   },
   "source": [
    "### Gaussian Fit"
   ]
  },
  {
   "cell_type": "markdown",
   "metadata": {
    "colab_type": "text",
    "id": "kPTwAobsVGQP"
   },
   "source": [
    "Take a look at the data written here:\n",
    "\n",
    ">https://raw.githubusercontent.com/ZackAshM/PythonBootcamp/master/data/GaussData.txt\n",
    "\n",
    "\n",
    "As in the previous exercise, import this data by copy and pasting the url as the filename. Apply any other parameters from this function as necessary.\n",
    "\n",
    "Print the resulting array and plot the data (a scatter plot)."
   ]
  },
  {
   "cell_type": "code",
   "execution_count": null,
   "metadata": {
    "colab": {
     "base_uri": "https://localhost:8080/",
     "height": 680
    },
    "colab_type": "code",
    "id": "g7Jxarp-VcmC",
    "outputId": "85b04409-62e2-478c-8f3a-4b69fa243eed"
   },
   "outputs": [],
   "source": []
  },
  {
   "cell_type": "markdown",
   "metadata": {
    "colab_type": "text",
    "id": "UwLkF6z5VlgU"
   },
   "source": [
    "The data has the shape of a Gaussian function. The Gaussian function is given as\n",
    "\n",
    "> $p(x; \\mu, \\sigma) = \\frac{1}{\\sqrt{ 2 \\pi \\sigma^2 }} e^{ - \\frac{ (x - \\mu)^2 } {2 \\sigma^2} }$ \n",
    "\n",
    "where $\\mu$ and $\\sigma$ are the parameters, namely the mean value and standard deviation or width. Don't let it scare you! You don't need to completely understand each part of the function to use it. Look at each little part and define a function which returns the Gaussian function.\n",
    "\n",
    "Then fit this function to the data and plot the results."
   ]
  },
  {
   "cell_type": "code",
   "execution_count": null,
   "metadata": {
    "colab": {
     "base_uri": "https://localhost:8080/",
     "height": 302
    },
    "colab_type": "code",
    "id": "s1lH1r5nXZQi",
    "outputId": "b0637067-c230-4212-b2a6-30fee5a5283c"
   },
   "outputs": [],
   "source": []
  },
  {
   "cell_type": "markdown",
   "metadata": {
    "colab_type": "text",
    "id": "2IHvd3zyXZcf"
   },
   "source": [
    "Using the cell above, print the resulting fit parameters. This data was generated using the parameters\n",
    "\n",
    "> $\\mu$ = 1.45, $\\sigma$ = 0.533\n",
    "\n",
    "How well did the fit do in determining these values? Find the percent differences."
   ]
  },
  {
   "cell_type": "code",
   "execution_count": null,
   "metadata": {
    "colab": {
     "base_uri": "https://localhost:8080/",
     "height": 53
    },
    "colab_type": "code",
    "id": "GYlAMZ0vhB7b",
    "outputId": "540710a1-ae50-4c3e-96ee-a93e8f68acdb"
   },
   "outputs": [],
   "source": []
  }
 ],
 "metadata": {
  "accelerator": "GPU",
  "colab": {
   "collapsed_sections": [
    "Gqt3Hu5Emfro",
    "jX8VQFUmegzf",
    "ezRRiHoQlfJT",
    "04xgA0P-OFCC",
    "agMbDjymHrLT",
    "Nx9VzCprHugW",
    "nstt8dVPH03B",
    "_iawUjU6h0QO"
   ],
   "name": "Python_Bootcamp_Intermediate_Solutions.ipynb",
   "provenance": []
  },
  "kernelspec": {
   "display_name": "Python 3",
   "language": "python",
   "name": "python3"
  },
  "language_info": {
   "codemirror_mode": {
    "name": "ipython",
    "version": 3
   },
   "file_extension": ".py",
   "mimetype": "text/x-python",
   "name": "python",
   "nbconvert_exporter": "python",
   "pygments_lexer": "ipython3",
   "version": "3.8.5"
  }
 },
 "nbformat": 4,
 "nbformat_minor": 1
}
